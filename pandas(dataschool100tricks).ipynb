{
 "cells": [
  {
   "cell_type": "markdown",
   "metadata": {},
   "source": [
    "### Want to read a HUGE dataset into pandas but don't have enough memory?\n",
    "##### Randomly sample the dataset *during file reading* by passing a function to \"skiprows\n"
   ]
  },
  {
   "cell_type": "code",
   "execution_count": 112,
   "metadata": {},
   "outputs": [],
   "source": [
    "import pandas as pd\n",
    "import numpy as np"
   ]
  },
  {
   "cell_type": "code",
   "execution_count": 113,
   "metadata": {},
   "outputs": [
    {
     "data": {
      "text/plain": [
       "(88883, 85)"
      ]
     },
     "execution_count": 113,
     "metadata": {},
     "output_type": "execute_result"
    }
   ],
   "source": [
    "df = pd.read_csv('survey_results_public.csv')\n",
    "df.shape"
   ]
  },
  {
   "cell_type": "markdown",
   "metadata": {},
   "source": [
    "### How it works:\n",
    "  - <b>skiprows</b> accepts a function that is evaluated aganist the integer index \n",
    "  - <b>x > 0</b> ensures that the header row is <b>not</b> skipped\n",
    "  - <b>np.random.rand()>0.01 </b> return <b>True</b> 99% of the time,thus skipping 99% of the rows"
   ]
  },
  {
   "cell_type": "code",
   "execution_count": 114,
   "metadata": {},
   "outputs": [
    {
     "data": {
      "text/plain": [
       "(887, 85)"
      ]
     },
     "execution_count": 114,
     "metadata": {},
     "output_type": "execute_result"
    }
   ],
   "source": [
    "df = pd.read_csv('survey_results_public.csv',skiprows = lambda x:x > 0 and np.random.rand() > 0.01)\n",
    "df.shape"
   ]
  },
  {
   "cell_type": "code",
   "execution_count": 115,
   "metadata": {},
   "outputs": [
    {
     "data": {
      "text/html": [
       "<style type =\"text/css\">\n",
       "table.dataframe th ,table.dataframe td\n",
       "{\n",
       "    border:1px;\n",
       "    border-style:solid;\n",
       "}\n"
      ],
      "text/plain": [
       "<IPython.core.display.HTML object>"
      ]
     },
     "metadata": {},
     "output_type": "display_data"
    }
   ],
   "source": [
    "\n",
    "%%html\n",
    "<style type =\"text/css\">\n",
    "table.dataframe th ,table.dataframe td\n",
    "{\n",
    "    border:1px;\n",
    "    border-style:solid;\n",
    "}"
   ]
  },
  {
   "cell_type": "code",
   "execution_count": 116,
   "metadata": {},
   "outputs": [
    {
     "data": {
      "text/html": [
       "<div>\n",
       "<style scoped>\n",
       "    .dataframe tbody tr th:only-of-type {\n",
       "        vertical-align: middle;\n",
       "    }\n",
       "\n",
       "    .dataframe tbody tr th {\n",
       "        vertical-align: top;\n",
       "    }\n",
       "\n",
       "    .dataframe thead th {\n",
       "        text-align: right;\n",
       "    }\n",
       "</style>\n",
       "<table border=\"1\" class=\"dataframe\">\n",
       "  <thead>\n",
       "    <tr style=\"text-align: right;\">\n",
       "      <th></th>\n",
       "      <th>Respondent</th>\n",
       "      <th>MainBranch</th>\n",
       "      <th>Hobbyist</th>\n",
       "      <th>OpenSourcer</th>\n",
       "      <th>OpenSource</th>\n",
       "      <th>Employment</th>\n",
       "      <th>Country</th>\n",
       "      <th>Student</th>\n",
       "      <th>EdLevel</th>\n",
       "      <th>UndergradMajor</th>\n",
       "      <th>...</th>\n",
       "      <th>WelcomeChange</th>\n",
       "      <th>SONewContent</th>\n",
       "      <th>Age</th>\n",
       "      <th>Gender</th>\n",
       "      <th>Trans</th>\n",
       "      <th>Sexuality</th>\n",
       "      <th>Ethnicity</th>\n",
       "      <th>Dependents</th>\n",
       "      <th>SurveyLength</th>\n",
       "      <th>SurveyEase</th>\n",
       "    </tr>\n",
       "  </thead>\n",
       "  <tbody>\n",
       "    <tr>\n",
       "      <td>0</td>\n",
       "      <td>213</td>\n",
       "      <td>I am a developer by profession</td>\n",
       "      <td>Yes</td>\n",
       "      <td>Never</td>\n",
       "      <td>The quality of OSS and closed source software ...</td>\n",
       "      <td>Employed full-time</td>\n",
       "      <td>United Arab Emirates</td>\n",
       "      <td>No</td>\n",
       "      <td>Bachelor’s degree (BA, BS, B.Eng., etc.)</td>\n",
       "      <td>Computer science, computer engineering, or sof...</td>\n",
       "      <td>...</td>\n",
       "      <td>Just as welcome now as I felt last year</td>\n",
       "      <td>Tech articles written by other developers;Indu...</td>\n",
       "      <td>41.0</td>\n",
       "      <td>Man</td>\n",
       "      <td>No</td>\n",
       "      <td>Straight / Heterosexual</td>\n",
       "      <td>Middle Eastern</td>\n",
       "      <td>Yes</td>\n",
       "      <td>Too long</td>\n",
       "      <td>Easy</td>\n",
       "    </tr>\n",
       "    <tr>\n",
       "      <td>1</td>\n",
       "      <td>255</td>\n",
       "      <td>I am a student who is learning to code</td>\n",
       "      <td>Yes</td>\n",
       "      <td>Never</td>\n",
       "      <td>The quality of OSS and closed source software ...</td>\n",
       "      <td>Independent contractor, freelancer, or self-em...</td>\n",
       "      <td>Thailand</td>\n",
       "      <td>Yes, part-time</td>\n",
       "      <td>Bachelor’s degree (BA, BS, B.Eng., etc.)</td>\n",
       "      <td>Computer science, computer engineering, or sof...</td>\n",
       "      <td>...</td>\n",
       "      <td>Just as welcome now as I felt last year</td>\n",
       "      <td>Tech articles written by other developers;Indu...</td>\n",
       "      <td>20.0</td>\n",
       "      <td>Man</td>\n",
       "      <td>Yes</td>\n",
       "      <td>Straight / Heterosexual</td>\n",
       "      <td>East Asian</td>\n",
       "      <td>Yes</td>\n",
       "      <td>Too long</td>\n",
       "      <td>Neither easy nor difficult</td>\n",
       "    </tr>\n",
       "    <tr>\n",
       "      <td>2</td>\n",
       "      <td>312</td>\n",
       "      <td>I am a developer by profession</td>\n",
       "      <td>No</td>\n",
       "      <td>Never</td>\n",
       "      <td>OSS is, on average, of HIGHER quality than pro...</td>\n",
       "      <td>Employed full-time</td>\n",
       "      <td>United States</td>\n",
       "      <td>No</td>\n",
       "      <td>Master’s degree (MA, MS, M.Eng., MBA, etc.)</td>\n",
       "      <td>Mathematics or statistics</td>\n",
       "      <td>...</td>\n",
       "      <td>Somewhat more welcome now than last year</td>\n",
       "      <td>Tech articles written by other developers</td>\n",
       "      <td>31.0</td>\n",
       "      <td>Man</td>\n",
       "      <td>No</td>\n",
       "      <td>Straight / Heterosexual</td>\n",
       "      <td>White or of European descent</td>\n",
       "      <td>No</td>\n",
       "      <td>Appropriate in length</td>\n",
       "      <td>Easy</td>\n",
       "    </tr>\n",
       "    <tr>\n",
       "      <td>3</td>\n",
       "      <td>373</td>\n",
       "      <td>I am a developer by profession</td>\n",
       "      <td>Yes</td>\n",
       "      <td>Never</td>\n",
       "      <td>The quality of OSS and closed source software ...</td>\n",
       "      <td>Employed full-time</td>\n",
       "      <td>Brazil</td>\n",
       "      <td>No</td>\n",
       "      <td>Bachelor’s degree (BA, BS, B.Eng., etc.)</td>\n",
       "      <td>Computer science, computer engineering, or sof...</td>\n",
       "      <td>...</td>\n",
       "      <td>Just as welcome now as I felt last year</td>\n",
       "      <td>Tech articles written by other developers;Indu...</td>\n",
       "      <td>37.0</td>\n",
       "      <td>Man</td>\n",
       "      <td>No</td>\n",
       "      <td>Straight / Heterosexual</td>\n",
       "      <td>Hispanic or Latino/Latina;White or of European...</td>\n",
       "      <td>No</td>\n",
       "      <td>Appropriate in length</td>\n",
       "      <td>Easy</td>\n",
       "    </tr>\n",
       "    <tr>\n",
       "      <td>4</td>\n",
       "      <td>507</td>\n",
       "      <td>I am not primarily a developer, but I write co...</td>\n",
       "      <td>Yes</td>\n",
       "      <td>Once a month or more often</td>\n",
       "      <td>The quality of OSS and closed source software ...</td>\n",
       "      <td>Independent contractor, freelancer, or self-em...</td>\n",
       "      <td>Italy</td>\n",
       "      <td>Yes, full-time</td>\n",
       "      <td>Bachelor’s degree (BA, BS, B.Eng., etc.)</td>\n",
       "      <td>Computer science, computer engineering, or sof...</td>\n",
       "      <td>...</td>\n",
       "      <td>Somewhat more welcome now than last year</td>\n",
       "      <td>NaN</td>\n",
       "      <td>24.0</td>\n",
       "      <td>Man</td>\n",
       "      <td>No</td>\n",
       "      <td>NaN</td>\n",
       "      <td>White or of European descent</td>\n",
       "      <td>No</td>\n",
       "      <td>Appropriate in length</td>\n",
       "      <td>Neither easy nor difficult</td>\n",
       "    </tr>\n",
       "  </tbody>\n",
       "</table>\n",
       "<p>5 rows × 85 columns</p>\n",
       "</div>"
      ],
      "text/plain": [
       "   Respondent                                         MainBranch Hobbyist  \\\n",
       "0         213                     I am a developer by profession      Yes   \n",
       "1         255             I am a student who is learning to code      Yes   \n",
       "2         312                     I am a developer by profession       No   \n",
       "3         373                     I am a developer by profession      Yes   \n",
       "4         507  I am not primarily a developer, but I write co...      Yes   \n",
       "\n",
       "                  OpenSourcer  \\\n",
       "0                       Never   \n",
       "1                       Never   \n",
       "2                       Never   \n",
       "3                       Never   \n",
       "4  Once a month or more often   \n",
       "\n",
       "                                          OpenSource  \\\n",
       "0  The quality of OSS and closed source software ...   \n",
       "1  The quality of OSS and closed source software ...   \n",
       "2  OSS is, on average, of HIGHER quality than pro...   \n",
       "3  The quality of OSS and closed source software ...   \n",
       "4  The quality of OSS and closed source software ...   \n",
       "\n",
       "                                          Employment               Country  \\\n",
       "0                                 Employed full-time  United Arab Emirates   \n",
       "1  Independent contractor, freelancer, or self-em...              Thailand   \n",
       "2                                 Employed full-time         United States   \n",
       "3                                 Employed full-time                Brazil   \n",
       "4  Independent contractor, freelancer, or self-em...                 Italy   \n",
       "\n",
       "          Student                                      EdLevel  \\\n",
       "0              No     Bachelor’s degree (BA, BS, B.Eng., etc.)   \n",
       "1  Yes, part-time     Bachelor’s degree (BA, BS, B.Eng., etc.)   \n",
       "2              No  Master’s degree (MA, MS, M.Eng., MBA, etc.)   \n",
       "3              No     Bachelor’s degree (BA, BS, B.Eng., etc.)   \n",
       "4  Yes, full-time     Bachelor’s degree (BA, BS, B.Eng., etc.)   \n",
       "\n",
       "                                      UndergradMajor  ...  \\\n",
       "0  Computer science, computer engineering, or sof...  ...   \n",
       "1  Computer science, computer engineering, or sof...  ...   \n",
       "2                          Mathematics or statistics  ...   \n",
       "3  Computer science, computer engineering, or sof...  ...   \n",
       "4  Computer science, computer engineering, or sof...  ...   \n",
       "\n",
       "                              WelcomeChange  \\\n",
       "0   Just as welcome now as I felt last year   \n",
       "1   Just as welcome now as I felt last year   \n",
       "2  Somewhat more welcome now than last year   \n",
       "3   Just as welcome now as I felt last year   \n",
       "4  Somewhat more welcome now than last year   \n",
       "\n",
       "                                        SONewContent   Age Gender Trans  \\\n",
       "0  Tech articles written by other developers;Indu...  41.0    Man    No   \n",
       "1  Tech articles written by other developers;Indu...  20.0    Man   Yes   \n",
       "2          Tech articles written by other developers  31.0    Man    No   \n",
       "3  Tech articles written by other developers;Indu...  37.0    Man    No   \n",
       "4                                                NaN  24.0    Man    No   \n",
       "\n",
       "                 Sexuality                                          Ethnicity  \\\n",
       "0  Straight / Heterosexual                                     Middle Eastern   \n",
       "1  Straight / Heterosexual                                         East Asian   \n",
       "2  Straight / Heterosexual                       White or of European descent   \n",
       "3  Straight / Heterosexual  Hispanic or Latino/Latina;White or of European...   \n",
       "4                      NaN                       White or of European descent   \n",
       "\n",
       "  Dependents           SurveyLength                  SurveyEase  \n",
       "0        Yes               Too long                        Easy  \n",
       "1        Yes               Too long  Neither easy nor difficult  \n",
       "2         No  Appropriate in length                        Easy  \n",
       "3         No  Appropriate in length                        Easy  \n",
       "4         No  Appropriate in length  Neither easy nor difficult  \n",
       "\n",
       "[5 rows x 85 columns]"
      ]
     },
     "execution_count": 116,
     "metadata": {},
     "output_type": "execute_result"
    }
   ],
   "source": [
    "df.head()"
   ]
  },
  {
   "cell_type": "markdown",
   "metadata": {},
   "source": [
    "### Do you sometimes end up with an \"Unnamed: 0\" column in your DataFrame? \n",
    "#### Solution: Set the first column as the index (when reading)\n",
    "#### Alternative: Don't save the index to the file (when writing)"
   ]
  },
  {
   "cell_type": "code",
   "execution_count": 117,
   "metadata": {},
   "outputs": [
    {
     "data": {
      "text/html": [
       "<div>\n",
       "<style scoped>\n",
       "    .dataframe tbody tr th:only-of-type {\n",
       "        vertical-align: middle;\n",
       "    }\n",
       "\n",
       "    .dataframe tbody tr th {\n",
       "        vertical-align: top;\n",
       "    }\n",
       "\n",
       "    .dataframe thead th {\n",
       "        text-align: right;\n",
       "    }\n",
       "</style>\n",
       "<table border=\"1\" class=\"dataframe\">\n",
       "  <thead>\n",
       "    <tr style=\"text-align: right;\">\n",
       "      <th></th>\n",
       "      <th>A</th>\n",
       "      <th>B</th>\n",
       "      <th>C</th>\n",
       "    </tr>\n",
       "  </thead>\n",
       "  <tbody>\n",
       "    <tr>\n",
       "      <td>0</td>\n",
       "      <td>0.0</td>\n",
       "      <td>0.0</td>\n",
       "      <td>foo1</td>\n",
       "    </tr>\n",
       "    <tr>\n",
       "      <td>1</td>\n",
       "      <td>1.0</td>\n",
       "      <td>1.0</td>\n",
       "      <td>foo2</td>\n",
       "    </tr>\n",
       "    <tr>\n",
       "      <td>2</td>\n",
       "      <td>2.0</td>\n",
       "      <td>0.0</td>\n",
       "      <td>foo3</td>\n",
       "    </tr>\n",
       "  </tbody>\n",
       "</table>\n",
       "</div>"
      ],
      "text/plain": [
       "     A    B     C\n",
       "0  0.0  0.0  foo1\n",
       "1  1.0  1.0  foo2\n",
       "2  2.0  0.0  foo3"
      ]
     },
     "execution_count": 117,
     "metadata": {},
     "output_type": "execute_result"
    }
   ],
   "source": [
    "dummy = pd.DataFrame({'A':[0.0,1.0,2.0],'B':[0.0,1.0,0.0],'C':['foo1','foo2','foo3']})\n",
    "dummy"
   ]
  },
  {
   "cell_type": "code",
   "execution_count": 118,
   "metadata": {},
   "outputs": [],
   "source": [
    "dummy.to_csv('file.csv')"
   ]
  },
  {
   "cell_type": "code",
   "execution_count": 119,
   "metadata": {},
   "outputs": [
    {
     "data": {
      "text/html": [
       "<div>\n",
       "<style scoped>\n",
       "    .dataframe tbody tr th:only-of-type {\n",
       "        vertical-align: middle;\n",
       "    }\n",
       "\n",
       "    .dataframe tbody tr th {\n",
       "        vertical-align: top;\n",
       "    }\n",
       "\n",
       "    .dataframe thead th {\n",
       "        text-align: right;\n",
       "    }\n",
       "</style>\n",
       "<table border=\"1\" class=\"dataframe\">\n",
       "  <thead>\n",
       "    <tr style=\"text-align: right;\">\n",
       "      <th></th>\n",
       "      <th>Unnamed: 0</th>\n",
       "      <th>A</th>\n",
       "      <th>B</th>\n",
       "      <th>C</th>\n",
       "    </tr>\n",
       "  </thead>\n",
       "  <tbody>\n",
       "    <tr>\n",
       "      <td>0</td>\n",
       "      <td>0</td>\n",
       "      <td>0.0</td>\n",
       "      <td>0.0</td>\n",
       "      <td>foo1</td>\n",
       "    </tr>\n",
       "    <tr>\n",
       "      <td>1</td>\n",
       "      <td>1</td>\n",
       "      <td>1.0</td>\n",
       "      <td>1.0</td>\n",
       "      <td>foo2</td>\n",
       "    </tr>\n",
       "    <tr>\n",
       "      <td>2</td>\n",
       "      <td>2</td>\n",
       "      <td>2.0</td>\n",
       "      <td>0.0</td>\n",
       "      <td>foo3</td>\n",
       "    </tr>\n",
       "  </tbody>\n",
       "</table>\n",
       "</div>"
      ],
      "text/plain": [
       "   Unnamed: 0    A    B     C\n",
       "0           0  0.0  0.0  foo1\n",
       "1           1  1.0  1.0  foo2\n",
       "2           2  2.0  0.0  foo3"
      ]
     },
     "execution_count": 119,
     "metadata": {},
     "output_type": "execute_result"
    }
   ],
   "source": [
    "pd.read_csv('file.csv')\n"
   ]
  },
  {
   "cell_type": "code",
   "execution_count": 120,
   "metadata": {},
   "outputs": [
    {
     "data": {
      "text/html": [
       "<div>\n",
       "<style scoped>\n",
       "    .dataframe tbody tr th:only-of-type {\n",
       "        vertical-align: middle;\n",
       "    }\n",
       "\n",
       "    .dataframe tbody tr th {\n",
       "        vertical-align: top;\n",
       "    }\n",
       "\n",
       "    .dataframe thead th {\n",
       "        text-align: right;\n",
       "    }\n",
       "</style>\n",
       "<table border=\"1\" class=\"dataframe\">\n",
       "  <thead>\n",
       "    <tr style=\"text-align: right;\">\n",
       "      <th></th>\n",
       "      <th>A</th>\n",
       "      <th>B</th>\n",
       "      <th>C</th>\n",
       "    </tr>\n",
       "  </thead>\n",
       "  <tbody>\n",
       "    <tr>\n",
       "      <td>0</td>\n",
       "      <td>0.0</td>\n",
       "      <td>0.0</td>\n",
       "      <td>foo1</td>\n",
       "    </tr>\n",
       "    <tr>\n",
       "      <td>1</td>\n",
       "      <td>1.0</td>\n",
       "      <td>1.0</td>\n",
       "      <td>foo2</td>\n",
       "    </tr>\n",
       "    <tr>\n",
       "      <td>2</td>\n",
       "      <td>2.0</td>\n",
       "      <td>0.0</td>\n",
       "      <td>foo3</td>\n",
       "    </tr>\n",
       "  </tbody>\n",
       "</table>\n",
       "</div>"
      ],
      "text/plain": [
       "     A    B     C\n",
       "0  0.0  0.0  foo1\n",
       "1  1.0  1.0  foo2\n",
       "2  2.0  0.0  foo3"
      ]
     },
     "execution_count": 120,
     "metadata": {},
     "output_type": "execute_result"
    }
   ],
   "source": [
    "#Solution :Set the first column as the index\n",
    "pd.read_csv('file.csv',index_col=0)"
   ]
  },
  {
   "cell_type": "code",
   "execution_count": 121,
   "metadata": {},
   "outputs": [
    {
     "data": {
      "text/html": [
       "<div>\n",
       "<style scoped>\n",
       "    .dataframe tbody tr th:only-of-type {\n",
       "        vertical-align: middle;\n",
       "    }\n",
       "\n",
       "    .dataframe tbody tr th {\n",
       "        vertical-align: top;\n",
       "    }\n",
       "\n",
       "    .dataframe thead th {\n",
       "        text-align: right;\n",
       "    }\n",
       "</style>\n",
       "<table border=\"1\" class=\"dataframe\">\n",
       "  <thead>\n",
       "    <tr style=\"text-align: right;\">\n",
       "      <th></th>\n",
       "      <th>Respondent</th>\n",
       "      <th>MainBranch</th>\n",
       "      <th>Hobbyist</th>\n",
       "      <th>OpenSourcer</th>\n",
       "      <th>OpenSource</th>\n",
       "      <th>Employment</th>\n",
       "      <th>Country</th>\n",
       "      <th>Student</th>\n",
       "      <th>EdLevel</th>\n",
       "      <th>UndergradMajor</th>\n",
       "      <th>...</th>\n",
       "      <th>WelcomeChange</th>\n",
       "      <th>SONewContent</th>\n",
       "      <th>Age</th>\n",
       "      <th>Gender</th>\n",
       "      <th>Trans</th>\n",
       "      <th>Sexuality</th>\n",
       "      <th>Ethnicity</th>\n",
       "      <th>Dependents</th>\n",
       "      <th>SurveyLength</th>\n",
       "      <th>SurveyEase</th>\n",
       "    </tr>\n",
       "  </thead>\n",
       "  <tbody>\n",
       "    <tr>\n",
       "      <td>0</td>\n",
       "      <td>213</td>\n",
       "      <td>I am a developer by profession</td>\n",
       "      <td>Yes</td>\n",
       "      <td>Never</td>\n",
       "      <td>The quality of OSS and closed source software ...</td>\n",
       "      <td>Employed full-time</td>\n",
       "      <td>United Arab Emirates</td>\n",
       "      <td>No</td>\n",
       "      <td>Bachelor’s degree (BA, BS, B.Eng., etc.)</td>\n",
       "      <td>Computer science, computer engineering, or sof...</td>\n",
       "      <td>...</td>\n",
       "      <td>Just as welcome now as I felt last year</td>\n",
       "      <td>Tech articles written by other developers;Indu...</td>\n",
       "      <td>41.0</td>\n",
       "      <td>Man</td>\n",
       "      <td>No</td>\n",
       "      <td>Straight / Heterosexual</td>\n",
       "      <td>Middle Eastern</td>\n",
       "      <td>Yes</td>\n",
       "      <td>Too long</td>\n",
       "      <td>Easy</td>\n",
       "    </tr>\n",
       "    <tr>\n",
       "      <td>1</td>\n",
       "      <td>255</td>\n",
       "      <td>I am a student who is learning to code</td>\n",
       "      <td>Yes</td>\n",
       "      <td>Never</td>\n",
       "      <td>The quality of OSS and closed source software ...</td>\n",
       "      <td>Independent contractor, freelancer, or self-em...</td>\n",
       "      <td>Thailand</td>\n",
       "      <td>Yes, part-time</td>\n",
       "      <td>Bachelor’s degree (BA, BS, B.Eng., etc.)</td>\n",
       "      <td>Computer science, computer engineering, or sof...</td>\n",
       "      <td>...</td>\n",
       "      <td>Just as welcome now as I felt last year</td>\n",
       "      <td>Tech articles written by other developers;Indu...</td>\n",
       "      <td>20.0</td>\n",
       "      <td>Man</td>\n",
       "      <td>Yes</td>\n",
       "      <td>Straight / Heterosexual</td>\n",
       "      <td>East Asian</td>\n",
       "      <td>Yes</td>\n",
       "      <td>Too long</td>\n",
       "      <td>Neither easy nor difficult</td>\n",
       "    </tr>\n",
       "    <tr>\n",
       "      <td>...</td>\n",
       "      <td>...</td>\n",
       "      <td>...</td>\n",
       "      <td>...</td>\n",
       "      <td>...</td>\n",
       "      <td>...</td>\n",
       "      <td>...</td>\n",
       "      <td>...</td>\n",
       "      <td>...</td>\n",
       "      <td>...</td>\n",
       "      <td>...</td>\n",
       "      <td>...</td>\n",
       "      <td>...</td>\n",
       "      <td>...</td>\n",
       "      <td>...</td>\n",
       "      <td>...</td>\n",
       "      <td>...</td>\n",
       "      <td>...</td>\n",
       "      <td>...</td>\n",
       "      <td>...</td>\n",
       "      <td>...</td>\n",
       "      <td>...</td>\n",
       "    </tr>\n",
       "    <tr>\n",
       "      <td>885</td>\n",
       "      <td>40556</td>\n",
       "      <td>NaN</td>\n",
       "      <td>Yes</td>\n",
       "      <td>Never</td>\n",
       "      <td>The quality of OSS and closed source software ...</td>\n",
       "      <td>Not employed, but looking for work</td>\n",
       "      <td>United States</td>\n",
       "      <td>Yes, part-time</td>\n",
       "      <td>Some college/university study without earning ...</td>\n",
       "      <td>Computer science, computer engineering, or sof...</td>\n",
       "      <td>...</td>\n",
       "      <td>Just as welcome now as I felt last year</td>\n",
       "      <td>Tech articles written by other developers;Tech...</td>\n",
       "      <td>35.0</td>\n",
       "      <td>Man</td>\n",
       "      <td>No</td>\n",
       "      <td>Straight / Heterosexual</td>\n",
       "      <td>White or of European descent</td>\n",
       "      <td>No</td>\n",
       "      <td>Appropriate in length</td>\n",
       "      <td>Easy</td>\n",
       "    </tr>\n",
       "    <tr>\n",
       "      <td>886</td>\n",
       "      <td>49705</td>\n",
       "      <td>NaN</td>\n",
       "      <td>Yes</td>\n",
       "      <td>Once a month or more often</td>\n",
       "      <td>The quality of OSS and closed source software ...</td>\n",
       "      <td>Employed part-time</td>\n",
       "      <td>United States</td>\n",
       "      <td>Yes, full-time</td>\n",
       "      <td>Some college/university study without earning ...</td>\n",
       "      <td>Computer science, computer engineering, or sof...</td>\n",
       "      <td>...</td>\n",
       "      <td>Just as welcome now as I felt last year</td>\n",
       "      <td>Tech meetups or events in your area;Courses on...</td>\n",
       "      <td>21.0</td>\n",
       "      <td>Man</td>\n",
       "      <td>No</td>\n",
       "      <td>Straight / Heterosexual</td>\n",
       "      <td>White or of European descent</td>\n",
       "      <td>No</td>\n",
       "      <td>Appropriate in length</td>\n",
       "      <td>Easy</td>\n",
       "    </tr>\n",
       "  </tbody>\n",
       "</table>\n",
       "<p>887 rows × 85 columns</p>\n",
       "</div>"
      ],
      "text/plain": [
       "     Respondent                              MainBranch Hobbyist  \\\n",
       "0           213          I am a developer by profession      Yes   \n",
       "1           255  I am a student who is learning to code      Yes   \n",
       "..          ...                                     ...      ...   \n",
       "885       40556                                     NaN      Yes   \n",
       "886       49705                                     NaN      Yes   \n",
       "\n",
       "                    OpenSourcer  \\\n",
       "0                         Never   \n",
       "1                         Never   \n",
       "..                          ...   \n",
       "885                       Never   \n",
       "886  Once a month or more often   \n",
       "\n",
       "                                            OpenSource  \\\n",
       "0    The quality of OSS and closed source software ...   \n",
       "1    The quality of OSS and closed source software ...   \n",
       "..                                                 ...   \n",
       "885  The quality of OSS and closed source software ...   \n",
       "886  The quality of OSS and closed source software ...   \n",
       "\n",
       "                                            Employment               Country  \\\n",
       "0                                   Employed full-time  United Arab Emirates   \n",
       "1    Independent contractor, freelancer, or self-em...              Thailand   \n",
       "..                                                 ...                   ...   \n",
       "885                 Not employed, but looking for work         United States   \n",
       "886                                 Employed part-time         United States   \n",
       "\n",
       "            Student                                            EdLevel  \\\n",
       "0                No           Bachelor’s degree (BA, BS, B.Eng., etc.)   \n",
       "1    Yes, part-time           Bachelor’s degree (BA, BS, B.Eng., etc.)   \n",
       "..              ...                                                ...   \n",
       "885  Yes, part-time  Some college/university study without earning ...   \n",
       "886  Yes, full-time  Some college/university study without earning ...   \n",
       "\n",
       "                                        UndergradMajor  ...  \\\n",
       "0    Computer science, computer engineering, or sof...  ...   \n",
       "1    Computer science, computer engineering, or sof...  ...   \n",
       "..                                                 ...  ...   \n",
       "885  Computer science, computer engineering, or sof...  ...   \n",
       "886  Computer science, computer engineering, or sof...  ...   \n",
       "\n",
       "                               WelcomeChange  \\\n",
       "0    Just as welcome now as I felt last year   \n",
       "1    Just as welcome now as I felt last year   \n",
       "..                                       ...   \n",
       "885  Just as welcome now as I felt last year   \n",
       "886  Just as welcome now as I felt last year   \n",
       "\n",
       "                                          SONewContent   Age Gender Trans  \\\n",
       "0    Tech articles written by other developers;Indu...  41.0    Man    No   \n",
       "1    Tech articles written by other developers;Indu...  20.0    Man   Yes   \n",
       "..                                                 ...   ...    ...   ...   \n",
       "885  Tech articles written by other developers;Tech...  35.0    Man    No   \n",
       "886  Tech meetups or events in your area;Courses on...  21.0    Man    No   \n",
       "\n",
       "                   Sexuality                     Ethnicity Dependents  \\\n",
       "0    Straight / Heterosexual                Middle Eastern        Yes   \n",
       "1    Straight / Heterosexual                    East Asian        Yes   \n",
       "..                       ...                           ...        ...   \n",
       "885  Straight / Heterosexual  White or of European descent         No   \n",
       "886  Straight / Heterosexual  White or of European descent         No   \n",
       "\n",
       "              SurveyLength                  SurveyEase  \n",
       "0                 Too long                        Easy  \n",
       "1                 Too long  Neither easy nor difficult  \n",
       "..                     ...                         ...  \n",
       "885  Appropriate in length                        Easy  \n",
       "886  Appropriate in length                        Easy  \n",
       "\n",
       "[887 rows x 85 columns]"
      ]
     },
     "execution_count": 121,
     "metadata": {},
     "output_type": "execute_result"
    }
   ],
   "source": [
    "##Alterntaive:Don't write the index to the file\n",
    "df.to_csv('file1.csv',index=False)\n",
    "pd.read_csv('file1.csv')"
   ]
  },
  {
   "cell_type": "markdown",
   "metadata": {},
   "source": [
    "### Problem: Your DataFrame is in \"wide format\" (lots of columns), but you need it in \"long format\" (lots of rows)\n",
    "#### Solution: Use melt()"
   ]
  },
  {
   "cell_type": "code",
   "execution_count": 122,
   "metadata": {},
   "outputs": [
    {
     "data": {
      "text/html": [
       "<div>\n",
       "<style scoped>\n",
       "    .dataframe tbody tr th:only-of-type {\n",
       "        vertical-align: middle;\n",
       "    }\n",
       "\n",
       "    .dataframe tbody tr th {\n",
       "        vertical-align: top;\n",
       "    }\n",
       "\n",
       "    .dataframe thead th {\n",
       "        text-align: right;\n",
       "    }\n",
       "</style>\n",
       "<table border=\"1\" class=\"dataframe\">\n",
       "  <thead>\n",
       "    <tr style=\"text-align: right;\">\n",
       "      <th></th>\n",
       "      <th>zip_code</th>\n",
       "      <th>factory</th>\n",
       "      <th>warehouse</th>\n",
       "      <th>retail</th>\n",
       "    </tr>\n",
       "  </thead>\n",
       "  <tbody>\n",
       "    <tr>\n",
       "      <td>0</td>\n",
       "      <td>12345</td>\n",
       "      <td>100</td>\n",
       "      <td>100</td>\n",
       "      <td>100</td>\n",
       "    </tr>\n",
       "    <tr>\n",
       "      <td>1</td>\n",
       "      <td>34566</td>\n",
       "      <td>200</td>\n",
       "      <td>200</td>\n",
       "      <td>200</td>\n",
       "    </tr>\n",
       "    <tr>\n",
       "      <td>2</td>\n",
       "      <td>98745</td>\n",
       "      <td>300</td>\n",
       "      <td>300</td>\n",
       "      <td>300</td>\n",
       "    </tr>\n",
       "  </tbody>\n",
       "</table>\n",
       "</div>"
      ],
      "text/plain": [
       "   zip_code  factory  warehouse  retail\n",
       "0     12345      100        100     100\n",
       "1     34566      200        200     200\n",
       "2     98745      300        300     300"
      ]
     },
     "execution_count": 122,
     "metadata": {},
     "output_type": "execute_result"
    }
   ],
   "source": [
    "#wide format\n",
    "df = pd.DataFrame({'zip_code':[12345,34566,98745],'factory':[100,200,300],'warehouse':[100,200,300],'retail':[100,200,300]})\n",
    "df"
   ]
  },
  {
   "cell_type": "code",
   "execution_count": 123,
   "metadata": {},
   "outputs": [
    {
     "data": {
      "text/html": [
       "<div>\n",
       "<style scoped>\n",
       "    .dataframe tbody tr th:only-of-type {\n",
       "        vertical-align: middle;\n",
       "    }\n",
       "\n",
       "    .dataframe tbody tr th {\n",
       "        vertical-align: top;\n",
       "    }\n",
       "\n",
       "    .dataframe thead th {\n",
       "        text-align: right;\n",
       "    }\n",
       "</style>\n",
       "<table border=\"1\" class=\"dataframe\">\n",
       "  <thead>\n",
       "    <tr style=\"text-align: right;\">\n",
       "      <th></th>\n",
       "      <th>zip_code</th>\n",
       "      <th>location_type</th>\n",
       "      <th>distance</th>\n",
       "    </tr>\n",
       "  </thead>\n",
       "  <tbody>\n",
       "    <tr>\n",
       "      <td>0</td>\n",
       "      <td>12345</td>\n",
       "      <td>factory</td>\n",
       "      <td>100</td>\n",
       "    </tr>\n",
       "    <tr>\n",
       "      <td>1</td>\n",
       "      <td>34566</td>\n",
       "      <td>factory</td>\n",
       "      <td>200</td>\n",
       "    </tr>\n",
       "    <tr>\n",
       "      <td>2</td>\n",
       "      <td>98745</td>\n",
       "      <td>factory</td>\n",
       "      <td>300</td>\n",
       "    </tr>\n",
       "    <tr>\n",
       "      <td>3</td>\n",
       "      <td>12345</td>\n",
       "      <td>warehouse</td>\n",
       "      <td>100</td>\n",
       "    </tr>\n",
       "    <tr>\n",
       "      <td>4</td>\n",
       "      <td>34566</td>\n",
       "      <td>warehouse</td>\n",
       "      <td>200</td>\n",
       "    </tr>\n",
       "    <tr>\n",
       "      <td>5</td>\n",
       "      <td>98745</td>\n",
       "      <td>warehouse</td>\n",
       "      <td>300</td>\n",
       "    </tr>\n",
       "    <tr>\n",
       "      <td>6</td>\n",
       "      <td>12345</td>\n",
       "      <td>retail</td>\n",
       "      <td>100</td>\n",
       "    </tr>\n",
       "    <tr>\n",
       "      <td>7</td>\n",
       "      <td>34566</td>\n",
       "      <td>retail</td>\n",
       "      <td>200</td>\n",
       "    </tr>\n",
       "    <tr>\n",
       "      <td>8</td>\n",
       "      <td>98745</td>\n",
       "      <td>retail</td>\n",
       "      <td>300</td>\n",
       "    </tr>\n",
       "  </tbody>\n",
       "</table>\n",
       "</div>"
      ],
      "text/plain": [
       "   zip_code location_type  distance\n",
       "0     12345       factory       100\n",
       "1     34566       factory       200\n",
       "2     98745       factory       300\n",
       "3     12345     warehouse       100\n",
       "4     34566     warehouse       200\n",
       "5     98745     warehouse       300\n",
       "6     12345        retail       100\n",
       "7     34566        retail       200\n",
       "8     98745        retail       300"
      ]
     },
     "execution_count": 123,
     "metadata": {},
     "output_type": "execute_result"
    }
   ],
   "source": [
    "#long format\n",
    "df.melt(id_vars='zip_code',\n",
    "       var_name='location_type',\n",
    "       value_name='distance')"
   ]
  },
  {
   "cell_type": "markdown",
   "metadata": {},
   "source": [
    "### Want to convert \"year\" and \"day of year\" into a single datetime column? \n",
    "1. Combine them into one number\n",
    "2. Convert to datetime and specify its format"
   ]
  },
  {
   "cell_type": "code",
   "execution_count": 124,
   "metadata": {},
   "outputs": [],
   "source": [
    "df = pd.DataFrame({'year':[2019,2019,2020],'day_of_year':[350,365,1]})"
   ]
  },
  {
   "cell_type": "code",
   "execution_count": 125,
   "metadata": {},
   "outputs": [
    {
     "data": {
      "text/html": [
       "<div>\n",
       "<style scoped>\n",
       "    .dataframe tbody tr th:only-of-type {\n",
       "        vertical-align: middle;\n",
       "    }\n",
       "\n",
       "    .dataframe tbody tr th {\n",
       "        vertical-align: top;\n",
       "    }\n",
       "\n",
       "    .dataframe thead th {\n",
       "        text-align: right;\n",
       "    }\n",
       "</style>\n",
       "<table border=\"1\" class=\"dataframe\">\n",
       "  <thead>\n",
       "    <tr style=\"text-align: right;\">\n",
       "      <th></th>\n",
       "      <th>year</th>\n",
       "      <th>day_of_year</th>\n",
       "    </tr>\n",
       "  </thead>\n",
       "  <tbody>\n",
       "    <tr>\n",
       "      <td>0</td>\n",
       "      <td>2019</td>\n",
       "      <td>350</td>\n",
       "    </tr>\n",
       "    <tr>\n",
       "      <td>1</td>\n",
       "      <td>2019</td>\n",
       "      <td>365</td>\n",
       "    </tr>\n",
       "    <tr>\n",
       "      <td>2</td>\n",
       "      <td>2020</td>\n",
       "      <td>1</td>\n",
       "    </tr>\n",
       "  </tbody>\n",
       "</table>\n",
       "</div>"
      ],
      "text/plain": [
       "   year  day_of_year\n",
       "0  2019          350\n",
       "1  2019          365\n",
       "2  2020            1"
      ]
     },
     "execution_count": 125,
     "metadata": {},
     "output_type": "execute_result"
    }
   ],
   "source": [
    "df"
   ]
  },
  {
   "cell_type": "code",
   "execution_count": 126,
   "metadata": {},
   "outputs": [
    {
     "data": {
      "text/html": [
       "<div>\n",
       "<style scoped>\n",
       "    .dataframe tbody tr th:only-of-type {\n",
       "        vertical-align: middle;\n",
       "    }\n",
       "\n",
       "    .dataframe tbody tr th {\n",
       "        vertical-align: top;\n",
       "    }\n",
       "\n",
       "    .dataframe thead th {\n",
       "        text-align: right;\n",
       "    }\n",
       "</style>\n",
       "<table border=\"1\" class=\"dataframe\">\n",
       "  <thead>\n",
       "    <tr style=\"text-align: right;\">\n",
       "      <th></th>\n",
       "      <th>year</th>\n",
       "      <th>day_of_year</th>\n",
       "      <th>combined</th>\n",
       "    </tr>\n",
       "  </thead>\n",
       "  <tbody>\n",
       "    <tr>\n",
       "      <td>0</td>\n",
       "      <td>2019</td>\n",
       "      <td>350</td>\n",
       "      <td>2019350</td>\n",
       "    </tr>\n",
       "    <tr>\n",
       "      <td>1</td>\n",
       "      <td>2019</td>\n",
       "      <td>365</td>\n",
       "      <td>2019365</td>\n",
       "    </tr>\n",
       "    <tr>\n",
       "      <td>2</td>\n",
       "      <td>2020</td>\n",
       "      <td>1</td>\n",
       "      <td>2020001</td>\n",
       "    </tr>\n",
       "  </tbody>\n",
       "</table>\n",
       "</div>"
      ],
      "text/plain": [
       "   year  day_of_year  combined\n",
       "0  2019          350   2019350\n",
       "1  2019          365   2019365\n",
       "2  2020            1   2020001"
      ]
     },
     "execution_count": 126,
     "metadata": {},
     "output_type": "execute_result"
    }
   ],
   "source": [
    "#step 1:\n",
    "\n",
    "df['combined'] = df['year'] * 1000  + df['day_of_year']\n",
    "df"
   ]
  },
  {
   "cell_type": "code",
   "execution_count": 127,
   "metadata": {},
   "outputs": [
    {
     "data": {
      "text/html": [
       "<div>\n",
       "<style scoped>\n",
       "    .dataframe tbody tr th:only-of-type {\n",
       "        vertical-align: middle;\n",
       "    }\n",
       "\n",
       "    .dataframe tbody tr th {\n",
       "        vertical-align: top;\n",
       "    }\n",
       "\n",
       "    .dataframe thead th {\n",
       "        text-align: right;\n",
       "    }\n",
       "</style>\n",
       "<table border=\"1\" class=\"dataframe\">\n",
       "  <thead>\n",
       "    <tr style=\"text-align: right;\">\n",
       "      <th></th>\n",
       "      <th>year</th>\n",
       "      <th>day_of_year</th>\n",
       "      <th>combined</th>\n",
       "      <th>date</th>\n",
       "    </tr>\n",
       "  </thead>\n",
       "  <tbody>\n",
       "    <tr>\n",
       "      <td>0</td>\n",
       "      <td>2019</td>\n",
       "      <td>350</td>\n",
       "      <td>2019350</td>\n",
       "      <td>2019-12-16</td>\n",
       "    </tr>\n",
       "    <tr>\n",
       "      <td>1</td>\n",
       "      <td>2019</td>\n",
       "      <td>365</td>\n",
       "      <td>2019365</td>\n",
       "      <td>2019-12-31</td>\n",
       "    </tr>\n",
       "    <tr>\n",
       "      <td>2</td>\n",
       "      <td>2020</td>\n",
       "      <td>1</td>\n",
       "      <td>2020001</td>\n",
       "      <td>2020-01-01</td>\n",
       "    </tr>\n",
       "  </tbody>\n",
       "</table>\n",
       "</div>"
      ],
      "text/plain": [
       "   year  day_of_year  combined       date\n",
       "0  2019          350   2019350 2019-12-16\n",
       "1  2019          365   2019365 2019-12-31\n",
       "2  2020            1   2020001 2020-01-01"
      ]
     },
     "execution_count": 127,
     "metadata": {},
     "output_type": "execute_result"
    }
   ],
   "source": [
    "##step 2:\n",
    "df['date'] = pd.to_datetime(df['combined'], format ='%Y%j')\n",
    "df"
   ]
  },
  {
   "cell_type": "markdown",
   "metadata": {},
   "source": [
    "### Want to create interactive plots using pandas 0.25? 📊\n",
    "1. Pick one:\n",
    "➡️ pip install hvplot\n",
    "➡️ conda install -c conda-forge hvplot\n",
    "\n",
    "2. pd.options.plotting.backend = 'hvplot'\n",
    "3. df.plot(...)"
   ]
  },
  {
   "cell_type": "code",
   "execution_count": null,
   "metadata": {},
   "outputs": [],
   "source": []
  },
  {
   "cell_type": "markdown",
   "metadata": {},
   "source": [
    "#### Want to know the *count* of missing values in a DataFrame?\n",
    "➡️ df.isna().sum().sum()\n",
    "\n",
    "Just want to know if there are *any* missing values?\n",
    "➡️ df.isna().any().any()\n",
    "➡️ df.isna().any(axis=None)"
   ]
  },
  {
   "cell_type": "code",
   "execution_count": 128,
   "metadata": {},
   "outputs": [
    {
     "data": {
      "text/html": [
       "<div>\n",
       "<style scoped>\n",
       "    .dataframe tbody tr th:only-of-type {\n",
       "        vertical-align: middle;\n",
       "    }\n",
       "\n",
       "    .dataframe tbody tr th {\n",
       "        vertical-align: top;\n",
       "    }\n",
       "\n",
       "    .dataframe thead th {\n",
       "        text-align: right;\n",
       "    }\n",
       "</style>\n",
       "<table border=\"1\" class=\"dataframe\">\n",
       "  <thead>\n",
       "    <tr style=\"text-align: right;\">\n",
       "      <th></th>\n",
       "      <th>star_rating</th>\n",
       "      <th>title</th>\n",
       "      <th>content_rating</th>\n",
       "      <th>genre</th>\n",
       "      <th>duration</th>\n",
       "      <th>actors_list</th>\n",
       "    </tr>\n",
       "  </thead>\n",
       "  <tbody>\n",
       "    <tr>\n",
       "      <td>0</td>\n",
       "      <td>9.3</td>\n",
       "      <td>The Shawshank Redemption</td>\n",
       "      <td>R</td>\n",
       "      <td>Crime</td>\n",
       "      <td>142</td>\n",
       "      <td>[u'Tim Robbins', u'Morgan Freeman', u'Bob Gunt...</td>\n",
       "    </tr>\n",
       "    <tr>\n",
       "      <td>1</td>\n",
       "      <td>9.2</td>\n",
       "      <td>The Godfather</td>\n",
       "      <td>R</td>\n",
       "      <td>Crime</td>\n",
       "      <td>175</td>\n",
       "      <td>[u'Marlon Brando', u'Al Pacino', u'James Caan']</td>\n",
       "    </tr>\n",
       "  </tbody>\n",
       "</table>\n",
       "</div>"
      ],
      "text/plain": [
       "   star_rating                     title content_rating  genre  duration  \\\n",
       "0          9.3  The Shawshank Redemption              R  Crime       142   \n",
       "1          9.2             The Godfather              R  Crime       175   \n",
       "\n",
       "                                         actors_list  \n",
       "0  [u'Tim Robbins', u'Morgan Freeman', u'Bob Gunt...  \n",
       "1    [u'Marlon Brando', u'Al Pacino', u'James Caan']  "
      ]
     },
     "execution_count": 128,
     "metadata": {},
     "output_type": "execute_result"
    }
   ],
   "source": [
    "df =pd.read_csv('http://bit.ly/imdbratings')\n",
    "df.head(2)"
   ]
  },
  {
   "cell_type": "code",
   "execution_count": 129,
   "metadata": {},
   "outputs": [
    {
     "data": {
      "text/plain": [
       "star_rating       0\n",
       "title             0\n",
       "content_rating    3\n",
       "genre             0\n",
       "duration          0\n",
       "actors_list       0\n",
       "dtype: int64"
      ]
     },
     "execution_count": 129,
     "metadata": {},
     "output_type": "execute_result"
    }
   ],
   "source": [
    "#count of missing values in *each* column\n",
    "df.isna().sum()"
   ]
  },
  {
   "cell_type": "code",
   "execution_count": 130,
   "metadata": {},
   "outputs": [
    {
     "data": {
      "text/plain": [
       "3"
      ]
     },
     "execution_count": 130,
     "metadata": {},
     "output_type": "execute_result"
    }
   ],
   "source": [
    "#count of missing values  *total*\n",
    "df.isna().sum().sum()"
   ]
  },
  {
   "cell_type": "code",
   "execution_count": 131,
   "metadata": {},
   "outputs": [
    {
     "data": {
      "text/plain": [
       "star_rating       False\n",
       "title             False\n",
       "content_rating     True\n",
       "genre             False\n",
       "duration          False\n",
       "actors_list       False\n",
       "dtype: bool"
      ]
     },
     "execution_count": 131,
     "metadata": {},
     "output_type": "execute_result"
    }
   ],
   "source": [
    "## are there missing values in each column?\n",
    "df.isna().any()\n"
   ]
  },
  {
   "cell_type": "code",
   "execution_count": 132,
   "metadata": {},
   "outputs": [
    {
     "data": {
      "text/plain": [
       "True"
      ]
     },
     "execution_count": 132,
     "metadata": {},
     "output_type": "execute_result"
    }
   ],
   "source": [
    "## are there missing values in any column?\n",
    "df.isna().any().any()"
   ]
  },
  {
   "cell_type": "code",
   "execution_count": 133,
   "metadata": {},
   "outputs": [
    {
     "data": {
      "text/plain": [
       "True"
      ]
     },
     "execution_count": 133,
     "metadata": {},
     "output_type": "execute_result"
    }
   ],
   "source": [
    "## Alternative solutions\n",
    "df.isna().any(axis=None)\n"
   ]
  },
  {
   "cell_type": "markdown",
   "metadata": {},
   "source": [
    "### Want to save a *massive* amount of memory? Fix your data types:\n",
    "#### ➡️ 'int8' for small integers\n",
    "#### ➡️ 'category' for strings with few unique values\n",
    "#### ➡️ 'Sparse' if most values are 0 or NaN"
   ]
  },
  {
   "cell_type": "code",
   "execution_count": 134,
   "metadata": {},
   "outputs": [],
   "source": [
    "df1 = pd.DataFrame({'Pclass':[1,3,3,1,1],'sex':['male','female','female','female','male'],'Parch':[0,0,0,0,0],'Cabin':['NaN','C85','NaN','C123','NaN']})"
   ]
  },
  {
   "cell_type": "code",
   "execution_count": 135,
   "metadata": {},
   "outputs": [
    {
     "data": {
      "text/html": [
       "<div>\n",
       "<style scoped>\n",
       "    .dataframe tbody tr th:only-of-type {\n",
       "        vertical-align: middle;\n",
       "    }\n",
       "\n",
       "    .dataframe tbody tr th {\n",
       "        vertical-align: top;\n",
       "    }\n",
       "\n",
       "    .dataframe thead th {\n",
       "        text-align: right;\n",
       "    }\n",
       "</style>\n",
       "<table border=\"1\" class=\"dataframe\">\n",
       "  <thead>\n",
       "    <tr style=\"text-align: right;\">\n",
       "      <th></th>\n",
       "      <th>Pclass</th>\n",
       "      <th>sex</th>\n",
       "      <th>Parch</th>\n",
       "      <th>Cabin</th>\n",
       "    </tr>\n",
       "  </thead>\n",
       "  <tbody>\n",
       "    <tr>\n",
       "      <td>0</td>\n",
       "      <td>1</td>\n",
       "      <td>male</td>\n",
       "      <td>0</td>\n",
       "      <td>NaN</td>\n",
       "    </tr>\n",
       "    <tr>\n",
       "      <td>1</td>\n",
       "      <td>3</td>\n",
       "      <td>female</td>\n",
       "      <td>0</td>\n",
       "      <td>C85</td>\n",
       "    </tr>\n",
       "    <tr>\n",
       "      <td>2</td>\n",
       "      <td>3</td>\n",
       "      <td>female</td>\n",
       "      <td>0</td>\n",
       "      <td>NaN</td>\n",
       "    </tr>\n",
       "    <tr>\n",
       "      <td>3</td>\n",
       "      <td>1</td>\n",
       "      <td>female</td>\n",
       "      <td>0</td>\n",
       "      <td>C123</td>\n",
       "    </tr>\n",
       "    <tr>\n",
       "      <td>4</td>\n",
       "      <td>1</td>\n",
       "      <td>male</td>\n",
       "      <td>0</td>\n",
       "      <td>NaN</td>\n",
       "    </tr>\n",
       "  </tbody>\n",
       "</table>\n",
       "</div>"
      ],
      "text/plain": [
       "   Pclass     sex  Parch Cabin\n",
       "0       1    male      0   NaN\n",
       "1       3  female      0   C85\n",
       "2       3  female      0   NaN\n",
       "3       1  female      0  C123\n",
       "4       1    male      0   NaN"
      ]
     },
     "execution_count": 135,
     "metadata": {},
     "output_type": "execute_result"
    }
   ],
   "source": [
    "df1"
   ]
  },
  {
   "cell_type": "code",
   "execution_count": 136,
   "metadata": {},
   "outputs": [
    {
     "data": {
      "text/plain": [
       "Index     128\n",
       "Pclass     40\n",
       "sex       311\n",
       "Parch      40\n",
       "Cabin     301\n",
       "dtype: int64"
      ]
     },
     "execution_count": 136,
     "metadata": {},
     "output_type": "execute_result"
    }
   ],
   "source": [
    "df1.memory_usage(deep=True)"
   ]
  },
  {
   "cell_type": "code",
   "execution_count": 137,
   "metadata": {},
   "outputs": [],
   "source": [
    "df1 =df1.astype({'Pclass':'int8',   #only values are 1/2/3\n",
    "              'sex':'category',   #only values are male/female\n",
    "              'Parch':'Sparse[int]', #most values are 0\n",
    "              'Cabin':'Sparse[str]'}) #most values are NaN"
   ]
  },
  {
   "cell_type": "code",
   "execution_count": 138,
   "metadata": {},
   "outputs": [
    {
     "data": {
      "text/plain": [
       "Index     128\n",
       "Pclass      5\n",
       "sex       209\n",
       "Parch       0\n",
       "Cabin     321\n",
       "dtype: int64"
      ]
     },
     "execution_count": 138,
     "metadata": {},
     "output_type": "execute_result"
    }
   ],
   "source": [
    "df1.memory_usage(deep=True)"
   ]
  },
  {
   "cell_type": "markdown",
   "metadata": {},
   "source": [
    "### Want to combine the small categories in a Series (<10% frequency) into a single category?\n",
    "1. Save the normalized value counts\n",
    "2. Filter by frequency & save the index\n",
    "3. Replace small categories with \"Other\""
   ]
  },
  {
   "cell_type": "code",
   "execution_count": 139,
   "metadata": {},
   "outputs": [
    {
     "data": {
      "text/html": [
       "<div>\n",
       "<style scoped>\n",
       "    .dataframe tbody tr th:only-of-type {\n",
       "        vertical-align: middle;\n",
       "    }\n",
       "\n",
       "    .dataframe tbody tr th {\n",
       "        vertical-align: top;\n",
       "    }\n",
       "\n",
       "    .dataframe thead th {\n",
       "        text-align: right;\n",
       "    }\n",
       "</style>\n",
       "<table border=\"1\" class=\"dataframe\">\n",
       "  <thead>\n",
       "    <tr style=\"text-align: right;\">\n",
       "      <th></th>\n",
       "      <th>star_rating</th>\n",
       "      <th>title</th>\n",
       "      <th>content_rating</th>\n",
       "      <th>genre</th>\n",
       "      <th>duration</th>\n",
       "      <th>actors_list</th>\n",
       "    </tr>\n",
       "  </thead>\n",
       "  <tbody>\n",
       "    <tr>\n",
       "      <td>0</td>\n",
       "      <td>9.3</td>\n",
       "      <td>The Shawshank Redemption</td>\n",
       "      <td>R</td>\n",
       "      <td>Crime</td>\n",
       "      <td>142</td>\n",
       "      <td>[u'Tim Robbins', u'Morgan Freeman', u'Bob Gunt...</td>\n",
       "    </tr>\n",
       "    <tr>\n",
       "      <td>1</td>\n",
       "      <td>9.2</td>\n",
       "      <td>The Godfather</td>\n",
       "      <td>R</td>\n",
       "      <td>Crime</td>\n",
       "      <td>175</td>\n",
       "      <td>[u'Marlon Brando', u'Al Pacino', u'James Caan']</td>\n",
       "    </tr>\n",
       "    <tr>\n",
       "      <td>2</td>\n",
       "      <td>9.1</td>\n",
       "      <td>The Godfather: Part II</td>\n",
       "      <td>R</td>\n",
       "      <td>Crime</td>\n",
       "      <td>200</td>\n",
       "      <td>[u'Al Pacino', u'Robert De Niro', u'Robert Duv...</td>\n",
       "    </tr>\n",
       "    <tr>\n",
       "      <td>3</td>\n",
       "      <td>9.0</td>\n",
       "      <td>The Dark Knight</td>\n",
       "      <td>PG-13</td>\n",
       "      <td>Action</td>\n",
       "      <td>152</td>\n",
       "      <td>[u'Christian Bale', u'Heath Ledger', u'Aaron E...</td>\n",
       "    </tr>\n",
       "    <tr>\n",
       "      <td>4</td>\n",
       "      <td>8.9</td>\n",
       "      <td>Pulp Fiction</td>\n",
       "      <td>R</td>\n",
       "      <td>Crime</td>\n",
       "      <td>154</td>\n",
       "      <td>[u'John Travolta', u'Uma Thurman', u'Samuel L....</td>\n",
       "    </tr>\n",
       "  </tbody>\n",
       "</table>\n",
       "</div>"
      ],
      "text/plain": [
       "   star_rating                     title content_rating   genre  duration  \\\n",
       "0          9.3  The Shawshank Redemption              R   Crime       142   \n",
       "1          9.2             The Godfather              R   Crime       175   \n",
       "2          9.1    The Godfather: Part II              R   Crime       200   \n",
       "3          9.0           The Dark Knight          PG-13  Action       152   \n",
       "4          8.9              Pulp Fiction              R   Crime       154   \n",
       "\n",
       "                                         actors_list  \n",
       "0  [u'Tim Robbins', u'Morgan Freeman', u'Bob Gunt...  \n",
       "1    [u'Marlon Brando', u'Al Pacino', u'James Caan']  \n",
       "2  [u'Al Pacino', u'Robert De Niro', u'Robert Duv...  \n",
       "3  [u'Christian Bale', u'Heath Ledger', u'Aaron E...  \n",
       "4  [u'John Travolta', u'Uma Thurman', u'Samuel L....  "
      ]
     },
     "execution_count": 139,
     "metadata": {},
     "output_type": "execute_result"
    }
   ],
   "source": [
    "df.head()"
   ]
  },
  {
   "cell_type": "code",
   "execution_count": 140,
   "metadata": {},
   "outputs": [
    {
     "data": {
      "text/plain": [
       "Drama        0.283963\n",
       "Comedy       0.159346\n",
       "Action       0.138917\n",
       "Crime        0.126660\n",
       "Biography    0.078652\n",
       "Adventure    0.076609\n",
       "Animation    0.063330\n",
       "Horror       0.029622\n",
       "Mystery      0.016343\n",
       "Western      0.009193\n",
       "Thriller     0.005107\n",
       "Sci-Fi       0.005107\n",
       "Film-Noir    0.003064\n",
       "Family       0.002043\n",
       "Fantasy      0.001021\n",
       "History      0.001021\n",
       "Name: genre, dtype: float64"
      ]
     },
     "execution_count": 140,
     "metadata": {},
     "output_type": "execute_result"
    }
   ],
   "source": [
    "#step:1\n",
    "frequency = df['genre'].value_counts(normalize=True)\n",
    "frequency"
   ]
  },
  {
   "cell_type": "code",
   "execution_count": 141,
   "metadata": {},
   "outputs": [
    {
     "data": {
      "text/plain": [
       "Index(['Biography', 'Adventure', 'Animation', 'Horror', 'Mystery', 'Western',\n",
       "       'Thriller', 'Sci-Fi', 'Film-Noir', 'Family', 'Fantasy', 'History'],\n",
       "      dtype='object')"
      ]
     },
     "execution_count": 141,
     "metadata": {},
     "output_type": "execute_result"
    }
   ],
   "source": [
    "#step 2:\n",
    "small_categories = frequency[frequency < 0.10].index\n",
    "small_categories"
   ]
  },
  {
   "cell_type": "code",
   "execution_count": 142,
   "metadata": {},
   "outputs": [],
   "source": [
    "#step 3:\n",
    "genre_updated = df['genre'].replace(small_categories ,'Others')"
   ]
  },
  {
   "cell_type": "code",
   "execution_count": 143,
   "metadata": {},
   "outputs": [
    {
     "data": {
      "text/plain": [
       "Others    0.291113\n",
       "Drama     0.283963\n",
       "Comedy    0.159346\n",
       "Action    0.138917\n",
       "Crime     0.126660\n",
       "Name: genre, dtype: float64"
      ]
     },
     "execution_count": 143,
     "metadata": {},
     "output_type": "execute_result"
    }
   ],
   "source": [
    "#result\n",
    "genre_updated.value_counts(normalize=True)"
   ]
  },
  {
   "cell_type": "markdown",
   "metadata": {},
   "source": [
    "### Need to clean an object column with mixed data types? Use \"replace\" (not str.replace) and regex!"
   ]
  },
  {
   "cell_type": "code",
   "execution_count": 144,
   "metadata": {},
   "outputs": [],
   "source": [
    "df2 = pd.DataFrame({'Customer':['A','B','C','D'],'sales':[1100,950.75,'$800.00','$1,250.25']})"
   ]
  },
  {
   "cell_type": "code",
   "execution_count": 145,
   "metadata": {},
   "outputs": [
    {
     "data": {
      "text/plain": [
       "0      <class 'int'>\n",
       "1    <class 'float'>\n",
       "2      <class 'str'>\n",
       "3      <class 'str'>\n",
       "Name: sales, dtype: object"
      ]
     },
     "execution_count": 145,
     "metadata": {},
     "output_type": "execute_result"
    }
   ],
   "source": [
    "#mixed data types in the sales column\n",
    "df2['sales'].apply(type)"
   ]
  },
  {
   "cell_type": "code",
   "execution_count": 146,
   "metadata": {},
   "outputs": [],
   "source": [
    "#replace dollar sign or comma witj an empty string\n",
    "df2['sales'] = df2['sales'].replace('[$,]','',regex=True).astype('float')"
   ]
  },
  {
   "cell_type": "code",
   "execution_count": 147,
   "metadata": {},
   "outputs": [
    {
     "data": {
      "text/html": [
       "<div>\n",
       "<style scoped>\n",
       "    .dataframe tbody tr th:only-of-type {\n",
       "        vertical-align: middle;\n",
       "    }\n",
       "\n",
       "    .dataframe tbody tr th {\n",
       "        vertical-align: top;\n",
       "    }\n",
       "\n",
       "    .dataframe thead th {\n",
       "        text-align: right;\n",
       "    }\n",
       "</style>\n",
       "<table border=\"1\" class=\"dataframe\">\n",
       "  <thead>\n",
       "    <tr style=\"text-align: right;\">\n",
       "      <th></th>\n",
       "      <th>Customer</th>\n",
       "      <th>sales</th>\n",
       "    </tr>\n",
       "  </thead>\n",
       "  <tbody>\n",
       "    <tr>\n",
       "      <td>0</td>\n",
       "      <td>A</td>\n",
       "      <td>1100.00</td>\n",
       "    </tr>\n",
       "    <tr>\n",
       "      <td>1</td>\n",
       "      <td>B</td>\n",
       "      <td>950.75</td>\n",
       "    </tr>\n",
       "    <tr>\n",
       "      <td>2</td>\n",
       "      <td>C</td>\n",
       "      <td>800.00</td>\n",
       "    </tr>\n",
       "    <tr>\n",
       "      <td>3</td>\n",
       "      <td>D</td>\n",
       "      <td>1250.25</td>\n",
       "    </tr>\n",
       "  </tbody>\n",
       "</table>\n",
       "</div>"
      ],
      "text/plain": [
       "  Customer    sales\n",
       "0        A  1100.00\n",
       "1        B   950.75\n",
       "2        C   800.00\n",
       "3        D  1250.25"
      ]
     },
     "execution_count": 147,
     "metadata": {},
     "output_type": "execute_result"
    }
   ],
   "source": [
    "df2"
   ]
  },
  {
   "cell_type": "code",
   "execution_count": 148,
   "metadata": {},
   "outputs": [
    {
     "data": {
      "text/plain": [
       "0    <class 'float'>\n",
       "1    <class 'float'>\n",
       "2    <class 'float'>\n",
       "3    <class 'float'>\n",
       "Name: sales, dtype: object"
      ]
     },
     "execution_count": 148,
     "metadata": {},
     "output_type": "execute_result"
    }
   ],
   "source": [
    "df2['sales'].apply(type)"
   ]
  },
  {
   "cell_type": "markdown",
   "metadata": {},
   "source": [
    "### Need to create a time series dataset for testing? Use pd.util.testing.makeTimeDataFrame()\n",
    "#### Need more control over the columns & data? Generate data with np.random & overwrite index with makeDateIndex()"
   ]
  },
  {
   "cell_type": "code",
   "execution_count": 149,
   "metadata": {},
   "outputs": [
    {
     "data": {
      "text/html": [
       "<div>\n",
       "<style scoped>\n",
       "    .dataframe tbody tr th:only-of-type {\n",
       "        vertical-align: middle;\n",
       "    }\n",
       "\n",
       "    .dataframe tbody tr th {\n",
       "        vertical-align: top;\n",
       "    }\n",
       "\n",
       "    .dataframe thead th {\n",
       "        text-align: right;\n",
       "    }\n",
       "</style>\n",
       "<table border=\"1\" class=\"dataframe\">\n",
       "  <thead>\n",
       "    <tr style=\"text-align: right;\">\n",
       "      <th></th>\n",
       "      <th>A</th>\n",
       "      <th>B</th>\n",
       "      <th>C</th>\n",
       "      <th>D</th>\n",
       "    </tr>\n",
       "  </thead>\n",
       "  <tbody>\n",
       "    <tr>\n",
       "      <td>2000-01-01 00:00:00</td>\n",
       "      <td>0.384156</td>\n",
       "      <td>0.854345</td>\n",
       "      <td>-0.312709</td>\n",
       "      <td>-0.837820</td>\n",
       "    </tr>\n",
       "    <tr>\n",
       "      <td>2000-01-01 01:00:00</td>\n",
       "      <td>0.295438</td>\n",
       "      <td>-0.833476</td>\n",
       "      <td>1.383553</td>\n",
       "      <td>2.599314</td>\n",
       "    </tr>\n",
       "    <tr>\n",
       "      <td>...</td>\n",
       "      <td>...</td>\n",
       "      <td>...</td>\n",
       "      <td>...</td>\n",
       "      <td>...</td>\n",
       "    </tr>\n",
       "    <tr>\n",
       "      <td>2000-12-31 22:00:00</td>\n",
       "      <td>0.122008</td>\n",
       "      <td>-1.187613</td>\n",
       "      <td>1.060822</td>\n",
       "      <td>-1.619654</td>\n",
       "    </tr>\n",
       "    <tr>\n",
       "      <td>2000-12-31 23:00:00</td>\n",
       "      <td>0.962942</td>\n",
       "      <td>0.501121</td>\n",
       "      <td>-1.290945</td>\n",
       "      <td>-0.648113</td>\n",
       "    </tr>\n",
       "  </tbody>\n",
       "</table>\n",
       "<p>8784 rows × 4 columns</p>\n",
       "</div>"
      ],
      "text/plain": [
       "                            A         B         C         D\n",
       "2000-01-01 00:00:00  0.384156  0.854345 -0.312709 -0.837820\n",
       "2000-01-01 01:00:00  0.295438 -0.833476  1.383553  2.599314\n",
       "...                       ...       ...       ...       ...\n",
       "2000-12-31 22:00:00  0.122008 -1.187613  1.060822 -1.619654\n",
       "2000-12-31 23:00:00  0.962942  0.501121 -1.290945 -0.648113\n",
       "\n",
       "[8784 rows x 4 columns]"
      ]
     },
     "execution_count": 149,
     "metadata": {},
     "output_type": "execute_result"
    }
   ],
   "source": [
    "num_rows = 366 * 24 #hours in a leap yeat\n",
    "pd.util.testing.makeTimeDataFrame(num_rows,freq='H')"
   ]
  },
  {
   "cell_type": "code",
   "execution_count": 150,
   "metadata": {},
   "outputs": [
    {
     "data": {
      "text/html": [
       "<div>\n",
       "<style scoped>\n",
       "    .dataframe tbody tr th:only-of-type {\n",
       "        vertical-align: middle;\n",
       "    }\n",
       "\n",
       "    .dataframe tbody tr th {\n",
       "        vertical-align: top;\n",
       "    }\n",
       "\n",
       "    .dataframe thead th {\n",
       "        text-align: right;\n",
       "    }\n",
       "</style>\n",
       "<table border=\"1\" class=\"dataframe\">\n",
       "  <thead>\n",
       "    <tr style=\"text-align: right;\">\n",
       "      <th></th>\n",
       "      <th>sales</th>\n",
       "      <th>customers</th>\n",
       "    </tr>\n",
       "  </thead>\n",
       "  <tbody>\n",
       "    <tr>\n",
       "      <td>2000-01-01 00:00:00</td>\n",
       "      <td>14</td>\n",
       "      <td>18</td>\n",
       "    </tr>\n",
       "    <tr>\n",
       "      <td>2000-01-01 01:00:00</td>\n",
       "      <td>15</td>\n",
       "      <td>8</td>\n",
       "    </tr>\n",
       "    <tr>\n",
       "      <td>...</td>\n",
       "      <td>...</td>\n",
       "      <td>...</td>\n",
       "    </tr>\n",
       "    <tr>\n",
       "      <td>2000-12-31 22:00:00</td>\n",
       "      <td>6</td>\n",
       "      <td>6</td>\n",
       "    </tr>\n",
       "    <tr>\n",
       "      <td>2000-12-31 23:00:00</td>\n",
       "      <td>19</td>\n",
       "      <td>2</td>\n",
       "    </tr>\n",
       "  </tbody>\n",
       "</table>\n",
       "<p>8784 rows × 2 columns</p>\n",
       "</div>"
      ],
      "text/plain": [
       "                     sales  customers\n",
       "2000-01-01 00:00:00     14         18\n",
       "2000-01-01 01:00:00     15          8\n",
       "...                    ...        ...\n",
       "2000-12-31 22:00:00      6          6\n",
       "2000-12-31 23:00:00     19          2\n",
       "\n",
       "[8784 rows x 2 columns]"
      ]
     },
     "execution_count": 150,
     "metadata": {},
     "output_type": "execute_result"
    }
   ],
   "source": [
    "num_cols = 2\n",
    "cols =['sales','customers']\n",
    "df3 = pd.DataFrame(np.random.randint(1,20,size=(num_rows,num_cols)),columns=cols)\n",
    "df3.index = pd.util.testing.makeDateIndex(num_rows,freq='H')\n",
    "df3"
   ]
  },
  {
   "cell_type": "markdown",
   "metadata": {},
   "source": [
    "### Want to insert a new column into a DataFrame at a specific location? Use the \"insert\" method:\n",
    "#### df.insert(location, name, value)\n"
   ]
  },
  {
   "cell_type": "code",
   "execution_count": 151,
   "metadata": {},
   "outputs": [],
   "source": [
    "df4 = pd.DataFrame({'A':[15,16],'B':[59,33],'C':[22,44],'D':[33,66],'E':[13,33],'F':[22,10]})"
   ]
  },
  {
   "cell_type": "code",
   "execution_count": 152,
   "metadata": {},
   "outputs": [
    {
     "data": {
      "text/html": [
       "<div>\n",
       "<style scoped>\n",
       "    .dataframe tbody tr th:only-of-type {\n",
       "        vertical-align: middle;\n",
       "    }\n",
       "\n",
       "    .dataframe tbody tr th {\n",
       "        vertical-align: top;\n",
       "    }\n",
       "\n",
       "    .dataframe thead th {\n",
       "        text-align: right;\n",
       "    }\n",
       "</style>\n",
       "<table border=\"1\" class=\"dataframe\">\n",
       "  <thead>\n",
       "    <tr style=\"text-align: right;\">\n",
       "      <th></th>\n",
       "      <th>A</th>\n",
       "      <th>B</th>\n",
       "      <th>C</th>\n",
       "      <th>D</th>\n",
       "      <th>E</th>\n",
       "      <th>F</th>\n",
       "    </tr>\n",
       "  </thead>\n",
       "  <tbody>\n",
       "    <tr>\n",
       "      <td>0</td>\n",
       "      <td>15</td>\n",
       "      <td>59</td>\n",
       "      <td>22</td>\n",
       "      <td>33</td>\n",
       "      <td>13</td>\n",
       "      <td>22</td>\n",
       "    </tr>\n",
       "    <tr>\n",
       "      <td>1</td>\n",
       "      <td>16</td>\n",
       "      <td>33</td>\n",
       "      <td>44</td>\n",
       "      <td>66</td>\n",
       "      <td>33</td>\n",
       "      <td>10</td>\n",
       "    </tr>\n",
       "  </tbody>\n",
       "</table>\n",
       "</div>"
      ],
      "text/plain": [
       "    A   B   C   D   E   F\n",
       "0  15  59  22  33  13  22\n",
       "1  16  33  44  66  33  10"
      ]
     },
     "execution_count": 152,
     "metadata": {},
     "output_type": "execute_result"
    }
   ],
   "source": [
    "df4"
   ]
  },
  {
   "cell_type": "markdown",
   "metadata": {},
   "source": [
    "### insert a new column at a specific location"
   ]
  },
  {
   "cell_type": "code",
   "execution_count": 153,
   "metadata": {},
   "outputs": [
    {
     "data": {
      "text/html": [
       "<div>\n",
       "<style scoped>\n",
       "    .dataframe tbody tr th:only-of-type {\n",
       "        vertical-align: middle;\n",
       "    }\n",
       "\n",
       "    .dataframe tbody tr th {\n",
       "        vertical-align: top;\n",
       "    }\n",
       "\n",
       "    .dataframe thead th {\n",
       "        text-align: right;\n",
       "    }\n",
       "</style>\n",
       "<table border=\"1\" class=\"dataframe\">\n",
       "  <thead>\n",
       "    <tr style=\"text-align: right;\">\n",
       "      <th></th>\n",
       "      <th>A</th>\n",
       "      <th>B</th>\n",
       "      <th>C</th>\n",
       "      <th>C2</th>\n",
       "      <th>D</th>\n",
       "      <th>E</th>\n",
       "      <th>F</th>\n",
       "    </tr>\n",
       "  </thead>\n",
       "  <tbody>\n",
       "    <tr>\n",
       "      <td>0</td>\n",
       "      <td>15</td>\n",
       "      <td>59</td>\n",
       "      <td>22</td>\n",
       "      <td>44</td>\n",
       "      <td>33</td>\n",
       "      <td>13</td>\n",
       "      <td>22</td>\n",
       "    </tr>\n",
       "    <tr>\n",
       "      <td>1</td>\n",
       "      <td>16</td>\n",
       "      <td>33</td>\n",
       "      <td>44</td>\n",
       "      <td>88</td>\n",
       "      <td>66</td>\n",
       "      <td>33</td>\n",
       "      <td>10</td>\n",
       "    </tr>\n",
       "  </tbody>\n",
       "</table>\n",
       "</div>"
      ],
      "text/plain": [
       "    A   B   C  C2   D   E   F\n",
       "0  15  59  22  44  33  13  22\n",
       "1  16  33  44  88  66  33  10"
      ]
     },
     "execution_count": 153,
     "metadata": {},
     "output_type": "execute_result"
    }
   ],
   "source": [
    "df4.insert(3,'C2',df4['C'] * 2)\n",
    "df4"
   ]
  },
  {
   "cell_type": "markdown",
   "metadata": {},
   "source": [
    "### Alternative:Create a new columns and then move"
   ]
  },
  {
   "cell_type": "code",
   "execution_count": 154,
   "metadata": {},
   "outputs": [
    {
     "data": {
      "text/html": [
       "<div>\n",
       "<style scoped>\n",
       "    .dataframe tbody tr th:only-of-type {\n",
       "        vertical-align: middle;\n",
       "    }\n",
       "\n",
       "    .dataframe tbody tr th {\n",
       "        vertical-align: top;\n",
       "    }\n",
       "\n",
       "    .dataframe thead th {\n",
       "        text-align: right;\n",
       "    }\n",
       "</style>\n",
       "<table border=\"1\" class=\"dataframe\">\n",
       "  <thead>\n",
       "    <tr style=\"text-align: right;\">\n",
       "      <th></th>\n",
       "      <th>A</th>\n",
       "      <th>B</th>\n",
       "      <th>C</th>\n",
       "      <th>C2</th>\n",
       "      <th>C3</th>\n",
       "      <th>D</th>\n",
       "      <th>E</th>\n",
       "      <th>F</th>\n",
       "    </tr>\n",
       "  </thead>\n",
       "  <tbody>\n",
       "    <tr>\n",
       "      <td>0</td>\n",
       "      <td>15</td>\n",
       "      <td>59</td>\n",
       "      <td>22</td>\n",
       "      <td>44</td>\n",
       "      <td>66</td>\n",
       "      <td>33</td>\n",
       "      <td>13</td>\n",
       "      <td>22</td>\n",
       "    </tr>\n",
       "    <tr>\n",
       "      <td>1</td>\n",
       "      <td>16</td>\n",
       "      <td>33</td>\n",
       "      <td>44</td>\n",
       "      <td>88</td>\n",
       "      <td>132</td>\n",
       "      <td>66</td>\n",
       "      <td>33</td>\n",
       "      <td>10</td>\n",
       "    </tr>\n",
       "  </tbody>\n",
       "</table>\n",
       "</div>"
      ],
      "text/plain": [
       "    A   B   C  C2   C3   D   E   F\n",
       "0  15  59  22  44   66  33  13  22\n",
       "1  16  33  44  88  132  66  33  10"
      ]
     },
     "execution_count": 154,
     "metadata": {},
     "output_type": "execute_result"
    }
   ],
   "source": [
    "df4['C3'] = df4['C'] * 3\n",
    "cols = list(df4.columns)\n",
    "location = 4\n",
    "cols = cols[:location] + ['C3'] + cols[location:-1]\n",
    "df4 = df4[cols]\n",
    "df4"
   ]
  },
  {
   "cell_type": "markdown",
   "metadata": {},
   "source": [
    "### Need to split names of variable length into first_name & last_name?\n",
    "#### 1. Use str.split(n=1) to split only once (returns a Series of lists)\n",
    "#### 2. Chain str[0] and str[1] on the end to select the list elements"
   ]
  },
  {
   "cell_type": "code",
   "execution_count": 155,
   "metadata": {},
   "outputs": [],
   "source": [
    "df5 = pd.DataFrame({'name':['Geordi La Forge','Deanna Troi','Data']})"
   ]
  },
  {
   "cell_type": "code",
   "execution_count": 156,
   "metadata": {},
   "outputs": [
    {
     "data": {
      "text/html": [
       "<div>\n",
       "<style scoped>\n",
       "    .dataframe tbody tr th:only-of-type {\n",
       "        vertical-align: middle;\n",
       "    }\n",
       "\n",
       "    .dataframe tbody tr th {\n",
       "        vertical-align: top;\n",
       "    }\n",
       "\n",
       "    .dataframe thead th {\n",
       "        text-align: right;\n",
       "    }\n",
       "</style>\n",
       "<table border=\"1\" class=\"dataframe\">\n",
       "  <thead>\n",
       "    <tr style=\"text-align: right;\">\n",
       "      <th></th>\n",
       "      <th>name</th>\n",
       "    </tr>\n",
       "  </thead>\n",
       "  <tbody>\n",
       "    <tr>\n",
       "      <td>0</td>\n",
       "      <td>Geordi La Forge</td>\n",
       "    </tr>\n",
       "    <tr>\n",
       "      <td>1</td>\n",
       "      <td>Deanna Troi</td>\n",
       "    </tr>\n",
       "    <tr>\n",
       "      <td>2</td>\n",
       "      <td>Data</td>\n",
       "    </tr>\n",
       "  </tbody>\n",
       "</table>\n",
       "</div>"
      ],
      "text/plain": [
       "              name\n",
       "0  Geordi La Forge\n",
       "1      Deanna Troi\n",
       "2             Data"
      ]
     },
     "execution_count": 156,
     "metadata": {},
     "output_type": "execute_result"
    }
   ],
   "source": [
    "df5"
   ]
  },
  {
   "cell_type": "code",
   "execution_count": 157,
   "metadata": {},
   "outputs": [],
   "source": [
    "df5['first_name'] = df5['name'].str.split(n=1).str[0]\n",
    "df5['last_name'] = df5['name'].str.split(n=1).str[1]"
   ]
  },
  {
   "cell_type": "code",
   "execution_count": 158,
   "metadata": {},
   "outputs": [
    {
     "data": {
      "text/plain": [
       "0    Geordi\n",
       "1    Deanna\n",
       "2      Data\n",
       "Name: first_name, dtype: object"
      ]
     },
     "execution_count": 158,
     "metadata": {},
     "output_type": "execute_result"
    }
   ],
   "source": [
    "df5['first_name']"
   ]
  },
  {
   "cell_type": "code",
   "execution_count": 159,
   "metadata": {},
   "outputs": [
    {
     "data": {
      "text/plain": [
       "0    La Forge\n",
       "1        Troi\n",
       "2         NaN\n",
       "Name: last_name, dtype: object"
      ]
     },
     "execution_count": 159,
     "metadata": {},
     "output_type": "execute_result"
    }
   ],
   "source": [
    "df5['last_name']"
   ]
  },
  {
   "cell_type": "code",
   "execution_count": 160,
   "metadata": {},
   "outputs": [
    {
     "data": {
      "text/html": [
       "<div>\n",
       "<style scoped>\n",
       "    .dataframe tbody tr th:only-of-type {\n",
       "        vertical-align: middle;\n",
       "    }\n",
       "\n",
       "    .dataframe tbody tr th {\n",
       "        vertical-align: top;\n",
       "    }\n",
       "\n",
       "    .dataframe thead th {\n",
       "        text-align: right;\n",
       "    }\n",
       "</style>\n",
       "<table border=\"1\" class=\"dataframe\">\n",
       "  <thead>\n",
       "    <tr style=\"text-align: right;\">\n",
       "      <th></th>\n",
       "      <th>name</th>\n",
       "      <th>first_name</th>\n",
       "      <th>last_name</th>\n",
       "    </tr>\n",
       "  </thead>\n",
       "  <tbody>\n",
       "    <tr>\n",
       "      <td>0</td>\n",
       "      <td>Geordi La Forge</td>\n",
       "      <td>Geordi</td>\n",
       "      <td>La Forge</td>\n",
       "    </tr>\n",
       "    <tr>\n",
       "      <td>1</td>\n",
       "      <td>Deanna Troi</td>\n",
       "      <td>Deanna</td>\n",
       "      <td>Troi</td>\n",
       "    </tr>\n",
       "    <tr>\n",
       "      <td>2</td>\n",
       "      <td>Data</td>\n",
       "      <td>Data</td>\n",
       "      <td>NaN</td>\n",
       "    </tr>\n",
       "  </tbody>\n",
       "</table>\n",
       "</div>"
      ],
      "text/plain": [
       "              name first_name last_name\n",
       "0  Geordi La Forge     Geordi  La Forge\n",
       "1      Deanna Troi     Deanna      Troi\n",
       "2             Data       Data       NaN"
      ]
     },
     "execution_count": 160,
     "metadata": {},
     "output_type": "execute_result"
    }
   ],
   "source": [
    "df5"
   ]
  },
  {
   "cell_type": "markdown",
   "metadata": {},
   "source": [
    "### Goal: Rearrange the columns in your DataFrame\n",
    "#### Options:\n",
    "1. Specify all column names in desired order\n",
    "2. Specify columns to move, followed by remaining columns\n",
    "3. Specify column positions in desired order"
   ]
  },
  {
   "cell_type": "code",
   "execution_count": 161,
   "metadata": {},
   "outputs": [
    {
     "data": {
      "text/html": [
       "<div>\n",
       "<style scoped>\n",
       "    .dataframe tbody tr th:only-of-type {\n",
       "        vertical-align: middle;\n",
       "    }\n",
       "\n",
       "    .dataframe tbody tr th {\n",
       "        vertical-align: top;\n",
       "    }\n",
       "\n",
       "    .dataframe thead th {\n",
       "        text-align: right;\n",
       "    }\n",
       "</style>\n",
       "<table border=\"1\" class=\"dataframe\">\n",
       "  <thead>\n",
       "    <tr style=\"text-align: right;\">\n",
       "      <th></th>\n",
       "      <th>a</th>\n",
       "      <th>b</th>\n",
       "      <th>c</th>\n",
       "      <th>d</th>\n",
       "      <th>e</th>\n",
       "      <th>f</th>\n",
       "      <th>g</th>\n",
       "      <th>h</th>\n",
       "    </tr>\n",
       "  </thead>\n",
       "  <tbody>\n",
       "    <tr>\n",
       "      <td>0</td>\n",
       "      <td>0.773016</td>\n",
       "      <td>0.147070</td>\n",
       "      <td>0.789791</td>\n",
       "      <td>0.115033</td>\n",
       "      <td>0.149785</td>\n",
       "      <td>0.413434</td>\n",
       "      <td>0.896309</td>\n",
       "      <td>0.540719</td>\n",
       "    </tr>\n",
       "    <tr>\n",
       "      <td>1</td>\n",
       "      <td>0.066640</td>\n",
       "      <td>0.986582</td>\n",
       "      <td>0.776251</td>\n",
       "      <td>0.441787</td>\n",
       "      <td>0.585847</td>\n",
       "      <td>0.812809</td>\n",
       "      <td>0.128695</td>\n",
       "      <td>0.477103</td>\n",
       "    </tr>\n",
       "  </tbody>\n",
       "</table>\n",
       "</div>"
      ],
      "text/plain": [
       "          a         b         c         d         e         f         g  \\\n",
       "0  0.773016  0.147070  0.789791  0.115033  0.149785  0.413434  0.896309   \n",
       "1  0.066640  0.986582  0.776251  0.441787  0.585847  0.812809  0.128695   \n",
       "\n",
       "          h  \n",
       "0  0.540719  \n",
       "1  0.477103  "
      ]
     },
     "execution_count": 161,
     "metadata": {},
     "output_type": "execute_result"
    }
   ],
   "source": [
    "df6 = pd.DataFrame(np.random.rand(2,8),columns=list('abcdefgh'))\n",
    "df6"
   ]
  },
  {
   "cell_type": "markdown",
   "metadata": {},
   "source": [
    "### option 1:useful for dataFrames with few columns"
   ]
  },
  {
   "cell_type": "code",
   "execution_count": 162,
   "metadata": {},
   "outputs": [
    {
     "data": {
      "text/html": [
       "<div>\n",
       "<style scoped>\n",
       "    .dataframe tbody tr th:only-of-type {\n",
       "        vertical-align: middle;\n",
       "    }\n",
       "\n",
       "    .dataframe tbody tr th {\n",
       "        vertical-align: top;\n",
       "    }\n",
       "\n",
       "    .dataframe thead th {\n",
       "        text-align: right;\n",
       "    }\n",
       "</style>\n",
       "<table border=\"1\" class=\"dataframe\">\n",
       "  <thead>\n",
       "    <tr style=\"text-align: right;\">\n",
       "      <th></th>\n",
       "      <th>a</th>\n",
       "      <th>c</th>\n",
       "      <th>e</th>\n",
       "      <th>b</th>\n",
       "      <th>d</th>\n",
       "      <th>f</th>\n",
       "      <th>g</th>\n",
       "      <th>h</th>\n",
       "    </tr>\n",
       "  </thead>\n",
       "  <tbody>\n",
       "    <tr>\n",
       "      <td>0</td>\n",
       "      <td>0.773016</td>\n",
       "      <td>0.789791</td>\n",
       "      <td>0.149785</td>\n",
       "      <td>0.147070</td>\n",
       "      <td>0.115033</td>\n",
       "      <td>0.413434</td>\n",
       "      <td>0.896309</td>\n",
       "      <td>0.540719</td>\n",
       "    </tr>\n",
       "    <tr>\n",
       "      <td>1</td>\n",
       "      <td>0.066640</td>\n",
       "      <td>0.776251</td>\n",
       "      <td>0.585847</td>\n",
       "      <td>0.986582</td>\n",
       "      <td>0.441787</td>\n",
       "      <td>0.812809</td>\n",
       "      <td>0.128695</td>\n",
       "      <td>0.477103</td>\n",
       "    </tr>\n",
       "  </tbody>\n",
       "</table>\n",
       "</div>"
      ],
      "text/plain": [
       "          a         c         e         b         d         f         g  \\\n",
       "0  0.773016  0.789791  0.149785  0.147070  0.115033  0.413434  0.896309   \n",
       "1  0.066640  0.776251  0.585847  0.986582  0.441787  0.812809  0.128695   \n",
       "\n",
       "          h  \n",
       "0  0.540719  \n",
       "1  0.477103  "
      ]
     },
     "execution_count": 162,
     "metadata": {},
     "output_type": "execute_result"
    }
   ],
   "source": [
    "cols = ['a','c','e','b','d','f','g','h']\n",
    "df6[cols]"
   ]
  },
  {
   "cell_type": "markdown",
   "metadata": {},
   "source": [
    "### option 2:useful for dataFrames with many columns"
   ]
  },
  {
   "cell_type": "code",
   "execution_count": 163,
   "metadata": {},
   "outputs": [
    {
     "data": {
      "text/html": [
       "<div>\n",
       "<style scoped>\n",
       "    .dataframe tbody tr th:only-of-type {\n",
       "        vertical-align: middle;\n",
       "    }\n",
       "\n",
       "    .dataframe tbody tr th {\n",
       "        vertical-align: top;\n",
       "    }\n",
       "\n",
       "    .dataframe thead th {\n",
       "        text-align: right;\n",
       "    }\n",
       "</style>\n",
       "<table border=\"1\" class=\"dataframe\">\n",
       "  <thead>\n",
       "    <tr style=\"text-align: right;\">\n",
       "      <th></th>\n",
       "      <th>a</th>\n",
       "      <th>c</th>\n",
       "      <th>e</th>\n",
       "      <th>b</th>\n",
       "      <th>d</th>\n",
       "      <th>f</th>\n",
       "      <th>g</th>\n",
       "      <th>h</th>\n",
       "    </tr>\n",
       "  </thead>\n",
       "  <tbody>\n",
       "    <tr>\n",
       "      <td>0</td>\n",
       "      <td>0.773016</td>\n",
       "      <td>0.789791</td>\n",
       "      <td>0.149785</td>\n",
       "      <td>0.147070</td>\n",
       "      <td>0.115033</td>\n",
       "      <td>0.413434</td>\n",
       "      <td>0.896309</td>\n",
       "      <td>0.540719</td>\n",
       "    </tr>\n",
       "    <tr>\n",
       "      <td>1</td>\n",
       "      <td>0.066640</td>\n",
       "      <td>0.776251</td>\n",
       "      <td>0.585847</td>\n",
       "      <td>0.986582</td>\n",
       "      <td>0.441787</td>\n",
       "      <td>0.812809</td>\n",
       "      <td>0.128695</td>\n",
       "      <td>0.477103</td>\n",
       "    </tr>\n",
       "  </tbody>\n",
       "</table>\n",
       "</div>"
      ],
      "text/plain": [
       "          a         c         e         b         d         f         g  \\\n",
       "0  0.773016  0.789791  0.149785  0.147070  0.115033  0.413434  0.896309   \n",
       "1  0.066640  0.776251  0.585847  0.986582  0.441787  0.812809  0.128695   \n",
       "\n",
       "          h  \n",
       "0  0.540719  \n",
       "1  0.477103  "
      ]
     },
     "execution_count": 163,
     "metadata": {},
     "output_type": "execute_result"
    }
   ],
   "source": [
    "cols_to_move = ['a','c','e']\n",
    "cols = cols_to_move + [col for col in df6 if col not in cols_to_move]\n",
    "df6[cols]"
   ]
  },
  {
   "cell_type": "markdown",
   "metadata": {},
   "source": [
    "### option3:useful for long column names"
   ]
  },
  {
   "cell_type": "code",
   "execution_count": 164,
   "metadata": {},
   "outputs": [
    {
     "data": {
      "text/html": [
       "<div>\n",
       "<style scoped>\n",
       "    .dataframe tbody tr th:only-of-type {\n",
       "        vertical-align: middle;\n",
       "    }\n",
       "\n",
       "    .dataframe tbody tr th {\n",
       "        vertical-align: top;\n",
       "    }\n",
       "\n",
       "    .dataframe thead th {\n",
       "        text-align: right;\n",
       "    }\n",
       "</style>\n",
       "<table border=\"1\" class=\"dataframe\">\n",
       "  <thead>\n",
       "    <tr style=\"text-align: right;\">\n",
       "      <th></th>\n",
       "      <th>a</th>\n",
       "      <th>c</th>\n",
       "      <th>e</th>\n",
       "      <th>b</th>\n",
       "      <th>d</th>\n",
       "      <th>f</th>\n",
       "      <th>g</th>\n",
       "      <th>h</th>\n",
       "    </tr>\n",
       "  </thead>\n",
       "  <tbody>\n",
       "    <tr>\n",
       "      <td>0</td>\n",
       "      <td>0.773016</td>\n",
       "      <td>0.789791</td>\n",
       "      <td>0.149785</td>\n",
       "      <td>0.147070</td>\n",
       "      <td>0.115033</td>\n",
       "      <td>0.413434</td>\n",
       "      <td>0.896309</td>\n",
       "      <td>0.540719</td>\n",
       "    </tr>\n",
       "    <tr>\n",
       "      <td>1</td>\n",
       "      <td>0.066640</td>\n",
       "      <td>0.776251</td>\n",
       "      <td>0.585847</td>\n",
       "      <td>0.986582</td>\n",
       "      <td>0.441787</td>\n",
       "      <td>0.812809</td>\n",
       "      <td>0.128695</td>\n",
       "      <td>0.477103</td>\n",
       "    </tr>\n",
       "  </tbody>\n",
       "</table>\n",
       "</div>"
      ],
      "text/plain": [
       "          a         c         e         b         d         f         g  \\\n",
       "0  0.773016  0.789791  0.149785  0.147070  0.115033  0.413434  0.896309   \n",
       "1  0.066640  0.776251  0.585847  0.986582  0.441787  0.812809  0.128695   \n",
       "\n",
       "          h  \n",
       "0  0.540719  \n",
       "1  0.477103  "
      ]
     },
     "execution_count": 164,
     "metadata": {},
     "output_type": "execute_result"
    }
   ],
   "source": [
    "cols = df6.columns[[0,2,4,1,3,5,6,7]]\n",
    "df6[cols]"
   ]
  },
  {
   "cell_type": "markdown",
   "metadata": {},
   "source": [
    "### Problem: You have time series data that you want to aggregate by day, but you're only interested in weekends.\n",
    "#### Solution:\n",
    "1. resample by day ('D')\n",
    "2. filter by day of week (5=Saturday, 6=Sunday)"
   ]
  },
  {
   "cell_type": "code",
   "execution_count": 165,
   "metadata": {},
   "outputs": [
    {
     "data": {
      "text/html": [
       "<div>\n",
       "<style scoped>\n",
       "    .dataframe tbody tr th:only-of-type {\n",
       "        vertical-align: middle;\n",
       "    }\n",
       "\n",
       "    .dataframe tbody tr th {\n",
       "        vertical-align: top;\n",
       "    }\n",
       "\n",
       "    .dataframe thead th {\n",
       "        text-align: right;\n",
       "    }\n",
       "</style>\n",
       "<table border=\"1\" class=\"dataframe\">\n",
       "  <thead>\n",
       "    <tr style=\"text-align: right;\">\n",
       "      <th></th>\n",
       "      <th>hourly_sales</th>\n",
       "      <th>customers</th>\n",
       "    </tr>\n",
       "  </thead>\n",
       "  <tbody>\n",
       "    <tr>\n",
       "      <td>2000-01-01 00:00:00</td>\n",
       "      <td>3</td>\n",
       "      <td>2</td>\n",
       "    </tr>\n",
       "    <tr>\n",
       "      <td>2000-01-01 01:00:00</td>\n",
       "      <td>17</td>\n",
       "      <td>6</td>\n",
       "    </tr>\n",
       "    <tr>\n",
       "      <td>...</td>\n",
       "      <td>...</td>\n",
       "      <td>...</td>\n",
       "    </tr>\n",
       "    <tr>\n",
       "      <td>2000-12-31 22:00:00</td>\n",
       "      <td>9</td>\n",
       "      <td>19</td>\n",
       "    </tr>\n",
       "    <tr>\n",
       "      <td>2000-12-31 23:00:00</td>\n",
       "      <td>2</td>\n",
       "      <td>11</td>\n",
       "    </tr>\n",
       "  </tbody>\n",
       "</table>\n",
       "<p>8784 rows × 2 columns</p>\n",
       "</div>"
      ],
      "text/plain": [
       "                     hourly_sales  customers\n",
       "2000-01-01 00:00:00             3          2\n",
       "2000-01-01 01:00:00            17          6\n",
       "...                           ...        ...\n",
       "2000-12-31 22:00:00             9         19\n",
       "2000-12-31 23:00:00             2         11\n",
       "\n",
       "[8784 rows x 2 columns]"
      ]
     },
     "execution_count": 165,
     "metadata": {},
     "output_type": "execute_result"
    }
   ],
   "source": [
    "num_cols = 2\n",
    "cols =['hourly_sales','customers']\n",
    "df3 = pd.DataFrame(np.random.randint(1,20,size=(num_rows,num_cols)),columns=cols)\n",
    "df3.index = pd.util.testing.makeDateIndex(num_rows,freq='H')\n",
    "df3"
   ]
  },
  {
   "cell_type": "code",
   "execution_count": 166,
   "metadata": {},
   "outputs": [
    {
     "data": {
      "text/plain": [
       "2000-01-01    298\n",
       "2000-01-02    201\n",
       "             ... \n",
       "2000-12-30    226\n",
       "2000-12-31    239\n",
       "Freq: D, Name: hourly_sales, Length: 366, dtype: int32"
      ]
     },
     "execution_count": 166,
     "metadata": {},
     "output_type": "execute_result"
    }
   ],
   "source": [
    "daily_sales = df3.resample('D').hourly_sales.sum()\n",
    "daily_sales"
   ]
  },
  {
   "cell_type": "code",
   "execution_count": 167,
   "metadata": {},
   "outputs": [
    {
     "data": {
      "text/plain": [
       "2000-01-01    298\n",
       "2000-01-02    201\n",
       "             ... \n",
       "2000-12-30    226\n",
       "2000-12-31    239\n",
       "Name: hourly_sales, Length: 106, dtype: int32"
      ]
     },
     "execution_count": 167,
     "metadata": {},
     "output_type": "execute_result"
    }
   ],
   "source": [
    "weekend_sales = daily_sales[daily_sales.index.dayofweek.isin([5,6])]\n",
    "weekend_sales"
   ]
  },
  {
   "cell_type": "markdown",
   "metadata": {},
   "source": [
    "### Are you applying multiple aggregations after a groupby? Try \"named aggregation\":\n",
    "#### ✅ Allows you to name the output columns\n",
    "#### ❌ Avoids a column MultiIndex"
   ]
  },
  {
   "cell_type": "code",
   "execution_count": 168,
   "metadata": {},
   "outputs": [],
   "source": [
    "titanic = pd.read_csv('http://bit.ly/kaggletrain')"
   ]
  },
  {
   "cell_type": "markdown",
   "metadata": {},
   "source": [
    "### Problem :Uninformative column names"
   ]
  },
  {
   "cell_type": "code",
   "execution_count": 169,
   "metadata": {},
   "outputs": [
    {
     "data": {
      "text/html": [
       "<div>\n",
       "<style scoped>\n",
       "    .dataframe tbody tr th:only-of-type {\n",
       "        vertical-align: middle;\n",
       "    }\n",
       "\n",
       "    .dataframe tbody tr th {\n",
       "        vertical-align: top;\n",
       "    }\n",
       "\n",
       "    .dataframe thead th {\n",
       "        text-align: right;\n",
       "    }\n",
       "</style>\n",
       "<table border=\"1\" class=\"dataframe\">\n",
       "  <thead>\n",
       "    <tr style=\"text-align: right;\">\n",
       "      <th></th>\n",
       "      <th>PassengerId</th>\n",
       "      <th>Survived</th>\n",
       "      <th>Pclass</th>\n",
       "      <th>Name</th>\n",
       "      <th>Sex</th>\n",
       "      <th>Age</th>\n",
       "      <th>SibSp</th>\n",
       "      <th>Parch</th>\n",
       "      <th>Ticket</th>\n",
       "      <th>Fare</th>\n",
       "      <th>Cabin</th>\n",
       "      <th>Embarked</th>\n",
       "    </tr>\n",
       "  </thead>\n",
       "  <tbody>\n",
       "    <tr>\n",
       "      <td>0</td>\n",
       "      <td>1</td>\n",
       "      <td>0</td>\n",
       "      <td>3</td>\n",
       "      <td>Braund, Mr. Owen Harris</td>\n",
       "      <td>male</td>\n",
       "      <td>22.0</td>\n",
       "      <td>1</td>\n",
       "      <td>0</td>\n",
       "      <td>A/5 21171</td>\n",
       "      <td>7.25</td>\n",
       "      <td>NaN</td>\n",
       "      <td>S</td>\n",
       "    </tr>\n",
       "  </tbody>\n",
       "</table>\n",
       "</div>"
      ],
      "text/plain": [
       "   PassengerId  Survived  Pclass                     Name   Sex   Age  SibSp  \\\n",
       "0            1         0       3  Braund, Mr. Owen Harris  male  22.0      1   \n",
       "\n",
       "   Parch     Ticket  Fare Cabin Embarked  \n",
       "0      0  A/5 21171  7.25   NaN        S  "
      ]
     },
     "execution_count": 169,
     "metadata": {},
     "output_type": "execute_result"
    }
   ],
   "source": [
    "titanic.head(1)"
   ]
  },
  {
   "cell_type": "code",
   "execution_count": 170,
   "metadata": {},
   "outputs": [
    {
     "data": {
      "text/html": [
       "<div>\n",
       "<style scoped>\n",
       "    .dataframe tbody tr th:only-of-type {\n",
       "        vertical-align: middle;\n",
       "    }\n",
       "\n",
       "    .dataframe tbody tr th {\n",
       "        vertical-align: top;\n",
       "    }\n",
       "\n",
       "    .dataframe thead th {\n",
       "        text-align: right;\n",
       "    }\n",
       "</style>\n",
       "<table border=\"1\" class=\"dataframe\">\n",
       "  <thead>\n",
       "    <tr style=\"text-align: right;\">\n",
       "      <th></th>\n",
       "      <th>mean</th>\n",
       "      <th>max</th>\n",
       "    </tr>\n",
       "    <tr>\n",
       "      <th>Pclass</th>\n",
       "      <th></th>\n",
       "      <th></th>\n",
       "    </tr>\n",
       "  </thead>\n",
       "  <tbody>\n",
       "    <tr>\n",
       "      <td>1</td>\n",
       "      <td>38.233441</td>\n",
       "      <td>80.0</td>\n",
       "    </tr>\n",
       "    <tr>\n",
       "      <td>2</td>\n",
       "      <td>29.877630</td>\n",
       "      <td>70.0</td>\n",
       "    </tr>\n",
       "    <tr>\n",
       "      <td>3</td>\n",
       "      <td>25.140620</td>\n",
       "      <td>74.0</td>\n",
       "    </tr>\n",
       "  </tbody>\n",
       "</table>\n",
       "</div>"
      ],
      "text/plain": [
       "             mean   max\n",
       "Pclass                 \n",
       "1       38.233441  80.0\n",
       "2       29.877630  70.0\n",
       "3       25.140620  74.0"
      ]
     },
     "execution_count": 170,
     "metadata": {},
     "output_type": "execute_result"
    }
   ],
   "source": [
    "titanic.groupby('Pclass').Age.agg(['mean','max'])"
   ]
  },
  {
   "cell_type": "markdown",
   "metadata": {},
   "source": [
    "### Problem :Mutiindex in the columsn"
   ]
  },
  {
   "cell_type": "code",
   "execution_count": 171,
   "metadata": {},
   "outputs": [
    {
     "data": {
      "text/html": [
       "<div>\n",
       "<style scoped>\n",
       "    .dataframe tbody tr th:only-of-type {\n",
       "        vertical-align: middle;\n",
       "    }\n",
       "\n",
       "    .dataframe tbody tr th {\n",
       "        vertical-align: top;\n",
       "    }\n",
       "\n",
       "    .dataframe thead tr th {\n",
       "        text-align: left;\n",
       "    }\n",
       "\n",
       "    .dataframe thead tr:last-of-type th {\n",
       "        text-align: right;\n",
       "    }\n",
       "</style>\n",
       "<table border=\"1\" class=\"dataframe\">\n",
       "  <thead>\n",
       "    <tr>\n",
       "      <th></th>\n",
       "      <th colspan=\"2\" halign=\"left\">Age</th>\n",
       "    </tr>\n",
       "    <tr>\n",
       "      <th></th>\n",
       "      <th>mean</th>\n",
       "      <th>max</th>\n",
       "    </tr>\n",
       "    <tr>\n",
       "      <th>Pclass</th>\n",
       "      <th></th>\n",
       "      <th></th>\n",
       "    </tr>\n",
       "  </thead>\n",
       "  <tbody>\n",
       "    <tr>\n",
       "      <td>1</td>\n",
       "      <td>38.233441</td>\n",
       "      <td>80.0</td>\n",
       "    </tr>\n",
       "    <tr>\n",
       "      <td>2</td>\n",
       "      <td>29.877630</td>\n",
       "      <td>70.0</td>\n",
       "    </tr>\n",
       "    <tr>\n",
       "      <td>3</td>\n",
       "      <td>25.140620</td>\n",
       "      <td>74.0</td>\n",
       "    </tr>\n",
       "  </tbody>\n",
       "</table>\n",
       "</div>"
      ],
      "text/plain": [
       "              Age      \n",
       "             mean   max\n",
       "Pclass                 \n",
       "1       38.233441  80.0\n",
       "2       29.877630  70.0\n",
       "3       25.140620  74.0"
      ]
     },
     "execution_count": 171,
     "metadata": {},
     "output_type": "execute_result"
    }
   ],
   "source": [
    "titanic.groupby('Pclass').agg({'Age':['mean','max']})"
   ]
  },
  {
   "cell_type": "markdown",
   "metadata": {},
   "source": [
    "#### Solution:'Named aggregation\"(new in pandas 0.25)"
   ]
  },
  {
   "cell_type": "code",
   "execution_count": 172,
   "metadata": {},
   "outputs": [
    {
     "data": {
      "text/html": [
       "<div>\n",
       "<style scoped>\n",
       "    .dataframe tbody tr th:only-of-type {\n",
       "        vertical-align: middle;\n",
       "    }\n",
       "\n",
       "    .dataframe tbody tr th {\n",
       "        vertical-align: top;\n",
       "    }\n",
       "\n",
       "    .dataframe thead th {\n",
       "        text-align: right;\n",
       "    }\n",
       "</style>\n",
       "<table border=\"1\" class=\"dataframe\">\n",
       "  <thead>\n",
       "    <tr style=\"text-align: right;\">\n",
       "      <th></th>\n",
       "      <th>mean_age</th>\n",
       "      <th>max_age</th>\n",
       "    </tr>\n",
       "    <tr>\n",
       "      <th>Pclass</th>\n",
       "      <th></th>\n",
       "      <th></th>\n",
       "    </tr>\n",
       "  </thead>\n",
       "  <tbody>\n",
       "    <tr>\n",
       "      <td>1</td>\n",
       "      <td>38.233441</td>\n",
       "      <td>80.0</td>\n",
       "    </tr>\n",
       "    <tr>\n",
       "      <td>2</td>\n",
       "      <td>29.877630</td>\n",
       "      <td>70.0</td>\n",
       "    </tr>\n",
       "    <tr>\n",
       "      <td>3</td>\n",
       "      <td>25.140620</td>\n",
       "      <td>74.0</td>\n",
       "    </tr>\n",
       "  </tbody>\n",
       "</table>\n",
       "</div>"
      ],
      "text/plain": [
       "         mean_age  max_age\n",
       "Pclass                    \n",
       "1       38.233441     80.0\n",
       "2       29.877630     70.0\n",
       "3       25.140620     74.0"
      ]
     },
     "execution_count": 172,
     "metadata": {},
     "output_type": "execute_result"
    }
   ],
   "source": [
    "titanic.groupby('Pclass').Age.agg(mean_age='mean',max_age='max')"
   ]
  },
  {
   "cell_type": "markdown",
   "metadata": {},
   "source": [
    "### Three useful ways to convert one set of values to another:\n",
    "1. map() using a dictionary\n",
    "2. factorize() to encode each value as an integer\n",
    "3. comparison statement to return boolean values"
   ]
  },
  {
   "cell_type": "code",
   "execution_count": 173,
   "metadata": {},
   "outputs": [
    {
     "data": {
      "text/html": [
       "<div>\n",
       "<style scoped>\n",
       "    .dataframe tbody tr th:only-of-type {\n",
       "        vertical-align: middle;\n",
       "    }\n",
       "\n",
       "    .dataframe tbody tr th {\n",
       "        vertical-align: top;\n",
       "    }\n",
       "\n",
       "    .dataframe thead th {\n",
       "        text-align: right;\n",
       "    }\n",
       "</style>\n",
       "<table border=\"1\" class=\"dataframe\">\n",
       "  <thead>\n",
       "    <tr style=\"text-align: right;\">\n",
       "      <th></th>\n",
       "      <th>gender</th>\n",
       "      <th>color</th>\n",
       "      <th>age</th>\n",
       "    </tr>\n",
       "  </thead>\n",
       "  <tbody>\n",
       "    <tr>\n",
       "      <td>0</td>\n",
       "      <td>male</td>\n",
       "      <td>red</td>\n",
       "      <td>25</td>\n",
       "    </tr>\n",
       "    <tr>\n",
       "      <td>1</td>\n",
       "      <td>female</td>\n",
       "      <td>green</td>\n",
       "      <td>40</td>\n",
       "    </tr>\n",
       "    <tr>\n",
       "      <td>2</td>\n",
       "      <td>male</td>\n",
       "      <td>red</td>\n",
       "      <td>10</td>\n",
       "    </tr>\n",
       "    <tr>\n",
       "      <td>3</td>\n",
       "      <td>female</td>\n",
       "      <td>blue</td>\n",
       "      <td>20</td>\n",
       "    </tr>\n",
       "  </tbody>\n",
       "</table>\n",
       "</div>"
      ],
      "text/plain": [
       "   gender  color  age\n",
       "0    male    red   25\n",
       "1  female  green   40\n",
       "2    male    red   10\n",
       "3  female   blue   20"
      ]
     },
     "execution_count": 173,
     "metadata": {},
     "output_type": "execute_result"
    }
   ],
   "source": [
    "df7 = pd.DataFrame({'gender':['male','female','male','female'],'color':['red','green','red','blue'],'age':[25,40,10,20]})\n",
    "df7"
   ]
  },
  {
   "cell_type": "code",
   "execution_count": 174,
   "metadata": {},
   "outputs": [],
   "source": [
    "df7['gender_letter'] = df7['gender'].map({'male':'M','female':'F'})\n",
    "df7['color_num'] = df7['color'].factorize()[0]\n",
    "df7['can_vote'] = df7['age'] >=18"
   ]
  },
  {
   "cell_type": "code",
   "execution_count": 175,
   "metadata": {},
   "outputs": [
    {
     "data": {
      "text/html": [
       "<div>\n",
       "<style scoped>\n",
       "    .dataframe tbody tr th:only-of-type {\n",
       "        vertical-align: middle;\n",
       "    }\n",
       "\n",
       "    .dataframe tbody tr th {\n",
       "        vertical-align: top;\n",
       "    }\n",
       "\n",
       "    .dataframe thead th {\n",
       "        text-align: right;\n",
       "    }\n",
       "</style>\n",
       "<table border=\"1\" class=\"dataframe\">\n",
       "  <thead>\n",
       "    <tr style=\"text-align: right;\">\n",
       "      <th></th>\n",
       "      <th>gender</th>\n",
       "      <th>color</th>\n",
       "      <th>age</th>\n",
       "      <th>gender_letter</th>\n",
       "      <th>color_num</th>\n",
       "      <th>can_vote</th>\n",
       "    </tr>\n",
       "  </thead>\n",
       "  <tbody>\n",
       "    <tr>\n",
       "      <td>0</td>\n",
       "      <td>male</td>\n",
       "      <td>red</td>\n",
       "      <td>25</td>\n",
       "      <td>M</td>\n",
       "      <td>0</td>\n",
       "      <td>True</td>\n",
       "    </tr>\n",
       "    <tr>\n",
       "      <td>1</td>\n",
       "      <td>female</td>\n",
       "      <td>green</td>\n",
       "      <td>40</td>\n",
       "      <td>F</td>\n",
       "      <td>1</td>\n",
       "      <td>True</td>\n",
       "    </tr>\n",
       "    <tr>\n",
       "      <td>2</td>\n",
       "      <td>male</td>\n",
       "      <td>red</td>\n",
       "      <td>10</td>\n",
       "      <td>M</td>\n",
       "      <td>0</td>\n",
       "      <td>False</td>\n",
       "    </tr>\n",
       "    <tr>\n",
       "      <td>3</td>\n",
       "      <td>female</td>\n",
       "      <td>blue</td>\n",
       "      <td>20</td>\n",
       "      <td>F</td>\n",
       "      <td>2</td>\n",
       "      <td>True</td>\n",
       "    </tr>\n",
       "  </tbody>\n",
       "</table>\n",
       "</div>"
      ],
      "text/plain": [
       "   gender  color  age gender_letter  color_num  can_vote\n",
       "0    male    red   25             M          0      True\n",
       "1  female  green   40             F          1      True\n",
       "2    male    red   10             M          0     False\n",
       "3  female   blue   20             F          2      True"
      ]
     },
     "execution_count": 175,
     "metadata": {},
     "output_type": "execute_result"
    }
   ],
   "source": [
    "df7"
   ]
  },
  {
   "cell_type": "markdown",
   "metadata": {},
   "source": [
    "### My favorite feature in pandas 0.25: If DataFrame has more than 60 rows, only show 10 rows (saves your screen space!)\n",
    "#### You can modify this: pd.set_option('min_rows', 4)"
   ]
  },
  {
   "cell_type": "code",
   "execution_count": 176,
   "metadata": {},
   "outputs": [
    {
     "data": {
      "text/plain": [
       "'0.25.1'"
      ]
     },
     "execution_count": 176,
     "metadata": {},
     "output_type": "execute_result"
    }
   ],
   "source": [
    "#this trik requires pandas 0.25_1+\n",
    "pd.__version__"
   ]
  },
  {
   "cell_type": "code",
   "execution_count": 177,
   "metadata": {},
   "outputs": [
    {
     "data": {
      "text/html": [
       "<div>\n",
       "<style scoped>\n",
       "    .dataframe tbody tr th:only-of-type {\n",
       "        vertical-align: middle;\n",
       "    }\n",
       "\n",
       "    .dataframe tbody tr th {\n",
       "        vertical-align: top;\n",
       "    }\n",
       "\n",
       "    .dataframe thead th {\n",
       "        text-align: right;\n",
       "    }\n",
       "</style>\n",
       "<table border=\"1\" class=\"dataframe\">\n",
       "  <thead>\n",
       "    <tr style=\"text-align: right;\">\n",
       "      <th></th>\n",
       "      <th>0</th>\n",
       "      <th>1</th>\n",
       "      <th>2</th>\n",
       "    </tr>\n",
       "  </thead>\n",
       "  <tbody>\n",
       "    <tr>\n",
       "      <td>0</td>\n",
       "      <td>0.625166</td>\n",
       "      <td>0.446367</td>\n",
       "      <td>0.193629</td>\n",
       "    </tr>\n",
       "    <tr>\n",
       "      <td>1</td>\n",
       "      <td>0.365590</td>\n",
       "      <td>0.350564</td>\n",
       "      <td>0.846803</td>\n",
       "    </tr>\n",
       "    <tr>\n",
       "      <td>...</td>\n",
       "      <td>...</td>\n",
       "      <td>...</td>\n",
       "      <td>...</td>\n",
       "    </tr>\n",
       "    <tr>\n",
       "      <td>98</td>\n",
       "      <td>0.524523</td>\n",
       "      <td>0.008506</td>\n",
       "      <td>0.735020</td>\n",
       "    </tr>\n",
       "    <tr>\n",
       "      <td>99</td>\n",
       "      <td>0.332431</td>\n",
       "      <td>0.194477</td>\n",
       "      <td>0.919665</td>\n",
       "    </tr>\n",
       "  </tbody>\n",
       "</table>\n",
       "<p>100 rows × 3 columns</p>\n",
       "</div>"
      ],
      "text/plain": [
       "           0         1         2\n",
       "0   0.625166  0.446367  0.193629\n",
       "1   0.365590  0.350564  0.846803\n",
       "..       ...       ...       ...\n",
       "98  0.524523  0.008506  0.735020\n",
       "99  0.332431  0.194477  0.919665\n",
       "\n",
       "[100 rows x 3 columns]"
      ]
     },
     "execution_count": 177,
     "metadata": {},
     "output_type": "execute_result"
    }
   ],
   "source": [
    "#New: if DataFrame has more than 60 rows ,only show 10 rows(by default)\n",
    "pd.DataFrame(np.random.rand(100,3))"
   ]
  },
  {
   "cell_type": "code",
   "execution_count": 178,
   "metadata": {},
   "outputs": [],
   "source": [
    "# #modify this optiojn to only 4 rows instead\n",
    "pd.set_option('min_rows',4)\n",
    "\n",
    "\n"
   ]
  },
  {
   "cell_type": "code",
   "execution_count": 179,
   "metadata": {},
   "outputs": [
    {
     "data": {
      "text/html": [
       "<div>\n",
       "<style scoped>\n",
       "    .dataframe tbody tr th:only-of-type {\n",
       "        vertical-align: middle;\n",
       "    }\n",
       "\n",
       "    .dataframe tbody tr th {\n",
       "        vertical-align: top;\n",
       "    }\n",
       "\n",
       "    .dataframe thead th {\n",
       "        text-align: right;\n",
       "    }\n",
       "</style>\n",
       "<table border=\"1\" class=\"dataframe\">\n",
       "  <thead>\n",
       "    <tr style=\"text-align: right;\">\n",
       "      <th></th>\n",
       "      <th>0</th>\n",
       "      <th>1</th>\n",
       "      <th>2</th>\n",
       "    </tr>\n",
       "  </thead>\n",
       "  <tbody>\n",
       "    <tr>\n",
       "      <td>0</td>\n",
       "      <td>0.664173</td>\n",
       "      <td>0.055384</td>\n",
       "      <td>0.090080</td>\n",
       "    </tr>\n",
       "    <tr>\n",
       "      <td>1</td>\n",
       "      <td>0.444033</td>\n",
       "      <td>0.994652</td>\n",
       "      <td>0.310982</td>\n",
       "    </tr>\n",
       "    <tr>\n",
       "      <td>...</td>\n",
       "      <td>...</td>\n",
       "      <td>...</td>\n",
       "      <td>...</td>\n",
       "    </tr>\n",
       "    <tr>\n",
       "      <td>98</td>\n",
       "      <td>0.139897</td>\n",
       "      <td>0.689317</td>\n",
       "      <td>0.491630</td>\n",
       "    </tr>\n",
       "    <tr>\n",
       "      <td>99</td>\n",
       "      <td>0.751944</td>\n",
       "      <td>0.262472</td>\n",
       "      <td>0.541078</td>\n",
       "    </tr>\n",
       "  </tbody>\n",
       "</table>\n",
       "<p>100 rows × 3 columns</p>\n",
       "</div>"
      ],
      "text/plain": [
       "           0         1         2\n",
       "0   0.664173  0.055384  0.090080\n",
       "1   0.444033  0.994652  0.310982\n",
       "..       ...       ...       ...\n",
       "98  0.139897  0.689317  0.491630\n",
       "99  0.751944  0.262472  0.541078\n",
       "\n",
       "[100 rows x 3 columns]"
      ]
     },
     "execution_count": 179,
     "metadata": {},
     "output_type": "execute_result"
    }
   ],
   "source": [
    "pd.DataFrame(np.random.rand(100,3))\n"
   ]
  },
  {
   "cell_type": "markdown",
   "metadata": {},
   "source": [
    "### Problem: Your dataset has many columns and you want to ensure that each one has the correct data type.\n",
    "#### Solution:\n",
    "1. Create a CSV of column names & dtypes\n",
    "2. Read it into a DataFrame\n",
    "3. Convert it to dictionary\n",
    "4. Use the dictionary to specify dtypes of the dataset"
   ]
  },
  {
   "cell_type": "code",
   "execution_count": 180,
   "metadata": {},
   "outputs": [],
   "source": [
    "#step1:Create a CSV of column names & dtypes\n",
    "drinks = pd.read_csv('http://bit.ly/drinksbycountry')\n"
   ]
  },
  {
   "cell_type": "code",
   "execution_count": 181,
   "metadata": {},
   "outputs": [
    {
     "data": {
      "text/plain": [
       "Index(['country', 'beer_servings', 'spirit_servings', 'wine_servings',\n",
       "       'total_litres_of_pure_alcohol', 'continent'],\n",
       "      dtype='object')"
      ]
     },
     "execution_count": 181,
     "metadata": {},
     "output_type": "execute_result"
    }
   ],
   "source": [
    "drinks.columns"
   ]
  },
  {
   "cell_type": "code",
   "execution_count": 182,
   "metadata": {},
   "outputs": [
    {
     "data": {
      "text/plain": [
       "country                          object\n",
       "beer_servings                     int64\n",
       "spirit_servings                   int64\n",
       "wine_servings                     int64\n",
       "total_litres_of_pure_alcohol    float64\n",
       "continent                        object\n",
       "dtype: object"
      ]
     },
     "execution_count": 182,
     "metadata": {},
     "output_type": "execute_result"
    }
   ],
   "source": [
    "drinks.dtypes"
   ]
  },
  {
   "cell_type": "code",
   "execution_count": 183,
   "metadata": {},
   "outputs": [
    {
     "data": {
      "text/html": [
       "<div>\n",
       "<style scoped>\n",
       "    .dataframe tbody tr th:only-of-type {\n",
       "        vertical-align: middle;\n",
       "    }\n",
       "\n",
       "    .dataframe tbody tr th {\n",
       "        vertical-align: top;\n",
       "    }\n",
       "\n",
       "    .dataframe thead th {\n",
       "        text-align: right;\n",
       "    }\n",
       "</style>\n",
       "<table border=\"1\" class=\"dataframe\">\n",
       "  <thead>\n",
       "    <tr style=\"text-align: right;\">\n",
       "      <th></th>\n",
       "      <th>0</th>\n",
       "    </tr>\n",
       "  </thead>\n",
       "  <tbody>\n",
       "    <tr>\n",
       "      <td>country</td>\n",
       "      <td>object</td>\n",
       "    </tr>\n",
       "    <tr>\n",
       "      <td>beer_servings</td>\n",
       "      <td>int64</td>\n",
       "    </tr>\n",
       "    <tr>\n",
       "      <td>spirit_servings</td>\n",
       "      <td>int64</td>\n",
       "    </tr>\n",
       "    <tr>\n",
       "      <td>wine_servings</td>\n",
       "      <td>int64</td>\n",
       "    </tr>\n",
       "    <tr>\n",
       "      <td>total_litres_of_pure_alcohol</td>\n",
       "      <td>float64</td>\n",
       "    </tr>\n",
       "    <tr>\n",
       "      <td>continent</td>\n",
       "      <td>object</td>\n",
       "    </tr>\n",
       "  </tbody>\n",
       "</table>\n",
       "</div>"
      ],
      "text/plain": [
       "                                    0\n",
       "country                        object\n",
       "beer_servings                   int64\n",
       "spirit_servings                 int64\n",
       "wine_servings                   int64\n",
       "total_litres_of_pure_alcohol  float64\n",
       "continent                      object"
      ]
     },
     "execution_count": 183,
     "metadata": {},
     "output_type": "execute_result"
    }
   ],
   "source": [
    "df9 = pd.DataFrame(drinks.dtypes)\n",
    "\n",
    "df9\n",
    "\n",
    "\n",
    "# df9.to_csv('drinks_dtypes.csv',index_label=colu_name,columns=col_dtype)"
   ]
  },
  {
   "cell_type": "code",
   "execution_count": 184,
   "metadata": {},
   "outputs": [
    {
     "name": "stdout",
     "output_type": "stream",
     "text": [
      "col_name,col_dtype\n",
      "country,object\n",
      "beer_servings,int64\n",
      "spirit_servings,int64\n",
      "wine_servings,int64\n",
      "total_litres_of_pure_alcohol,float64\n",
      "continent,object\n"
     ]
    }
   ],
   "source": [
    "!type drinks_dtypes.csv"
   ]
  },
  {
   "cell_type": "code",
   "execution_count": 185,
   "metadata": {},
   "outputs": [
    {
     "data": {
      "text/html": [
       "<div>\n",
       "<style scoped>\n",
       "    .dataframe tbody tr th:only-of-type {\n",
       "        vertical-align: middle;\n",
       "    }\n",
       "\n",
       "    .dataframe tbody tr th {\n",
       "        vertical-align: top;\n",
       "    }\n",
       "\n",
       "    .dataframe thead th {\n",
       "        text-align: right;\n",
       "    }\n",
       "</style>\n",
       "<table border=\"1\" class=\"dataframe\">\n",
       "  <thead>\n",
       "    <tr style=\"text-align: right;\">\n",
       "      <th></th>\n",
       "      <th>col_dtype</th>\n",
       "    </tr>\n",
       "    <tr>\n",
       "      <th>col_name</th>\n",
       "      <th></th>\n",
       "    </tr>\n",
       "  </thead>\n",
       "  <tbody>\n",
       "    <tr>\n",
       "      <td>country</td>\n",
       "      <td>object</td>\n",
       "    </tr>\n",
       "    <tr>\n",
       "      <td>beer_servings</td>\n",
       "      <td>int64</td>\n",
       "    </tr>\n",
       "    <tr>\n",
       "      <td>spirit_servings</td>\n",
       "      <td>int64</td>\n",
       "    </tr>\n",
       "    <tr>\n",
       "      <td>wine_servings</td>\n",
       "      <td>int64</td>\n",
       "    </tr>\n",
       "    <tr>\n",
       "      <td>total_litres_of_pure_alcohol</td>\n",
       "      <td>float64</td>\n",
       "    </tr>\n",
       "    <tr>\n",
       "      <td>continent</td>\n",
       "      <td>object</td>\n",
       "    </tr>\n",
       "  </tbody>\n",
       "</table>\n",
       "</div>"
      ],
      "text/plain": [
       "                             col_dtype\n",
       "col_name                              \n",
       "country                         object\n",
       "beer_servings                    int64\n",
       "spirit_servings                  int64\n",
       "wine_servings                    int64\n",
       "total_litres_of_pure_alcohol   float64\n",
       "continent                       object"
      ]
     },
     "execution_count": 185,
     "metadata": {},
     "output_type": "execute_result"
    }
   ],
   "source": [
    "##step 2:read it into a Dataframe\n",
    "dtypes = pd.read_csv('drinks_dtypes.csv').set_index('col_name')\n",
    "dtypes"
   ]
  },
  {
   "cell_type": "code",
   "execution_count": 186,
   "metadata": {},
   "outputs": [
    {
     "data": {
      "text/plain": [
       "{'country': 'object',\n",
       " 'beer_servings': 'int64',\n",
       " 'spirit_servings': 'int64',\n",
       " 'wine_servings': 'int64',\n",
       " 'total_litres_of_pure_alcohol': 'float64',\n",
       " 'continent': 'object'}"
      ]
     },
     "execution_count": 186,
     "metadata": {},
     "output_type": "execute_result"
    }
   ],
   "source": [
    "##step 3:convert it to dicitonary\n",
    "dtypes_dict = dtypes['col_dtype'].to_dict()\n",
    "dtypes_dict"
   ]
  },
  {
   "cell_type": "code",
   "execution_count": 187,
   "metadata": {},
   "outputs": [
    {
     "data": {
      "text/plain": [
       "country                          object\n",
       "beer_servings                     int64\n",
       "spirit_servings                   int64\n",
       "wine_servings                     int64\n",
       "total_litres_of_pure_alcohol    float64\n",
       "continent                        object\n",
       "dtype: object"
      ]
     },
     "execution_count": 187,
     "metadata": {},
     "output_type": "execute_result"
    }
   ],
   "source": [
    "##step 4: Use the dictinary to sepicify the dtypes\n",
    "drinks = pd.read_csv('http://bit.ly/drinksbycountry',dtype=dtypes_dict)\n",
    "drinks.dtypes"
   ]
  },
  {
   "cell_type": "markdown",
   "metadata": {},
   "source": [
    "### Want to select from a DataFrame by label *and* position?\n",
    "#### Most readable approach is to chain \"loc\" (selection by label) and \"iloc\" (selection by position)."
   ]
  },
  {
   "cell_type": "code",
   "execution_count": 188,
   "metadata": {},
   "outputs": [
    {
     "data": {
      "text/html": [
       "<div>\n",
       "<style scoped>\n",
       "    .dataframe tbody tr th:only-of-type {\n",
       "        vertical-align: middle;\n",
       "    }\n",
       "\n",
       "    .dataframe tbody tr th {\n",
       "        vertical-align: top;\n",
       "    }\n",
       "\n",
       "    .dataframe thead th {\n",
       "        text-align: right;\n",
       "    }\n",
       "</style>\n",
       "<table border=\"1\" class=\"dataframe\">\n",
       "  <thead>\n",
       "    <tr style=\"text-align: right;\">\n",
       "      <th></th>\n",
       "      <th>country</th>\n",
       "      <th>beer_servings</th>\n",
       "      <th>spirit_servings</th>\n",
       "      <th>wine_servings</th>\n",
       "      <th>total_litres_of_pure_alcohol</th>\n",
       "      <th>continent</th>\n",
       "    </tr>\n",
       "  </thead>\n",
       "  <tbody>\n",
       "    <tr>\n",
       "      <td>0</td>\n",
       "      <td>Afghanistan</td>\n",
       "      <td>0</td>\n",
       "      <td>0</td>\n",
       "      <td>0</td>\n",
       "      <td>0.0</td>\n",
       "      <td>Asia</td>\n",
       "    </tr>\n",
       "    <tr>\n",
       "      <td>1</td>\n",
       "      <td>Albania</td>\n",
       "      <td>89</td>\n",
       "      <td>132</td>\n",
       "      <td>54</td>\n",
       "      <td>4.9</td>\n",
       "      <td>Europe</td>\n",
       "    </tr>\n",
       "    <tr>\n",
       "      <td>2</td>\n",
       "      <td>Algeria</td>\n",
       "      <td>25</td>\n",
       "      <td>0</td>\n",
       "      <td>14</td>\n",
       "      <td>0.7</td>\n",
       "      <td>Africa</td>\n",
       "    </tr>\n",
       "    <tr>\n",
       "      <td>3</td>\n",
       "      <td>Andorra</td>\n",
       "      <td>245</td>\n",
       "      <td>138</td>\n",
       "      <td>312</td>\n",
       "      <td>12.4</td>\n",
       "      <td>Europe</td>\n",
       "    </tr>\n",
       "    <tr>\n",
       "      <td>4</td>\n",
       "      <td>Angola</td>\n",
       "      <td>217</td>\n",
       "      <td>57</td>\n",
       "      <td>45</td>\n",
       "      <td>5.9</td>\n",
       "      <td>Africa</td>\n",
       "    </tr>\n",
       "  </tbody>\n",
       "</table>\n",
       "</div>"
      ],
      "text/plain": [
       "       country  beer_servings  spirit_servings  wine_servings  \\\n",
       "0  Afghanistan              0                0              0   \n",
       "1      Albania             89              132             54   \n",
       "2      Algeria             25                0             14   \n",
       "3      Andorra            245              138            312   \n",
       "4       Angola            217               57             45   \n",
       "\n",
       "   total_litres_of_pure_alcohol continent  \n",
       "0                           0.0      Asia  \n",
       "1                           4.9    Europe  \n",
       "2                           0.7    Africa  \n",
       "3                          12.4    Europe  \n",
       "4                           5.9    Africa  "
      ]
     },
     "execution_count": 188,
     "metadata": {},
     "output_type": "execute_result"
    }
   ],
   "source": [
    "# drinks.set_index('country')\n",
    "drinks.head()\n"
   ]
  },
  {
   "cell_type": "code",
   "execution_count": 189,
   "metadata": {},
   "outputs": [
    {
     "data": {
      "text/html": [
       "<div>\n",
       "<style scoped>\n",
       "    .dataframe tbody tr th:only-of-type {\n",
       "        vertical-align: middle;\n",
       "    }\n",
       "\n",
       "    .dataframe tbody tr th {\n",
       "        vertical-align: top;\n",
       "    }\n",
       "\n",
       "    .dataframe thead th {\n",
       "        text-align: right;\n",
       "    }\n",
       "</style>\n",
       "<table border=\"1\" class=\"dataframe\">\n",
       "  <thead>\n",
       "    <tr style=\"text-align: right;\">\n",
       "      <th></th>\n",
       "      <th>beer_servings</th>\n",
       "      <th>spirit_servings</th>\n",
       "      <th>wine_servings</th>\n",
       "    </tr>\n",
       "  </thead>\n",
       "  <tbody>\n",
       "    <tr>\n",
       "      <td>15</td>\n",
       "      <td>142</td>\n",
       "      <td>373</td>\n",
       "      <td>42</td>\n",
       "    </tr>\n",
       "    <tr>\n",
       "      <td>16</td>\n",
       "      <td>295</td>\n",
       "      <td>84</td>\n",
       "      <td>212</td>\n",
       "    </tr>\n",
       "    <tr>\n",
       "      <td>17</td>\n",
       "      <td>263</td>\n",
       "      <td>114</td>\n",
       "      <td>8</td>\n",
       "    </tr>\n",
       "    <tr>\n",
       "      <td>18</td>\n",
       "      <td>34</td>\n",
       "      <td>4</td>\n",
       "      <td>13</td>\n",
       "    </tr>\n",
       "    <tr>\n",
       "      <td>19</td>\n",
       "      <td>23</td>\n",
       "      <td>0</td>\n",
       "      <td>0</td>\n",
       "    </tr>\n",
       "  </tbody>\n",
       "</table>\n",
       "</div>"
      ],
      "text/plain": [
       "    beer_servings  spirit_servings  wine_servings\n",
       "15            142              373             42\n",
       "16            295               84            212\n",
       "17            263              114              8\n",
       "18             34                4             13\n",
       "19             23                0              0"
      ]
     },
     "execution_count": 189,
     "metadata": {},
     "output_type": "execute_result"
    }
   ],
   "source": [
    "drinks.iloc[15:20,:].loc[:,'beer_servings':'wine_servings']"
   ]
  },
  {
   "cell_type": "markdown",
   "metadata": {},
   "source": [
    "### Does your object column contain mixed data types? Use df.col.apply(type).value_counts() to check!"
   ]
  },
  {
   "cell_type": "code",
   "execution_count": 190,
   "metadata": {},
   "outputs": [],
   "source": [
    "df10 = pd.DataFrame({'customer':['A','B','C','D'],'sales':['100',150.75,'200','250.25']})"
   ]
  },
  {
   "cell_type": "code",
   "execution_count": 191,
   "metadata": {},
   "outputs": [
    {
     "data": {
      "text/html": [
       "<div>\n",
       "<style scoped>\n",
       "    .dataframe tbody tr th:only-of-type {\n",
       "        vertical-align: middle;\n",
       "    }\n",
       "\n",
       "    .dataframe tbody tr th {\n",
       "        vertical-align: top;\n",
       "    }\n",
       "\n",
       "    .dataframe thead th {\n",
       "        text-align: right;\n",
       "    }\n",
       "</style>\n",
       "<table border=\"1\" class=\"dataframe\">\n",
       "  <thead>\n",
       "    <tr style=\"text-align: right;\">\n",
       "      <th></th>\n",
       "      <th>customer</th>\n",
       "      <th>sales</th>\n",
       "    </tr>\n",
       "  </thead>\n",
       "  <tbody>\n",
       "    <tr>\n",
       "      <td>0</td>\n",
       "      <td>A</td>\n",
       "      <td>100</td>\n",
       "    </tr>\n",
       "    <tr>\n",
       "      <td>1</td>\n",
       "      <td>B</td>\n",
       "      <td>150.75</td>\n",
       "    </tr>\n",
       "    <tr>\n",
       "      <td>2</td>\n",
       "      <td>C</td>\n",
       "      <td>200</td>\n",
       "    </tr>\n",
       "    <tr>\n",
       "      <td>3</td>\n",
       "      <td>D</td>\n",
       "      <td>250.25</td>\n",
       "    </tr>\n",
       "  </tbody>\n",
       "</table>\n",
       "</div>"
      ],
      "text/plain": [
       "  customer   sales\n",
       "0        A     100\n",
       "1        B  150.75\n",
       "2        C     200\n",
       "3        D  250.25"
      ]
     },
     "execution_count": 191,
     "metadata": {},
     "output_type": "execute_result"
    }
   ],
   "source": [
    "df10\n"
   ]
  },
  {
   "cell_type": "code",
   "execution_count": 192,
   "metadata": {},
   "outputs": [
    {
     "data": {
      "text/plain": [
       "customer    object\n",
       "sales       object\n",
       "dtype: object"
      ]
     },
     "execution_count": 192,
     "metadata": {},
     "output_type": "execute_result"
    }
   ],
   "source": [
    "df10.dtypes"
   ]
  },
  {
   "cell_type": "code",
   "execution_count": 193,
   "metadata": {},
   "outputs": [
    {
     "data": {
      "text/plain": [
       "0      <class 'str'>\n",
       "1    <class 'float'>\n",
       "2      <class 'str'>\n",
       "3      <class 'str'>\n",
       "Name: sales, dtype: object"
      ]
     },
     "execution_count": 193,
     "metadata": {},
     "output_type": "execute_result"
    }
   ],
   "source": [
    "df10['sales'].apply(type)"
   ]
  },
  {
   "cell_type": "code",
   "execution_count": 194,
   "metadata": {},
   "outputs": [
    {
     "data": {
      "text/plain": [
       "<class 'str'>      3\n",
       "<class 'float'>    1\n",
       "Name: sales, dtype: int64"
      ]
     },
     "execution_count": 194,
     "metadata": {},
     "output_type": "execute_result"
    }
   ],
   "source": [
    "df10['sales'].apply(type).value_counts()"
   ]
  },
  {
   "cell_type": "markdown",
   "metadata": {},
   "source": [
    "### Want to select multiple slices of columns from a DataFrame?\n",
    "1. Use df.loc to select & pd.concat to combine\n",
    "2. Slice df.columns & select using brackets\n",
    "3. Use np.r_ to combine slices & df.iloc to select\n"
   ]
  },
  {
   "cell_type": "code",
   "execution_count": 195,
   "metadata": {},
   "outputs": [
    {
     "data": {
      "text/html": [
       "<div>\n",
       "<style scoped>\n",
       "    .dataframe tbody tr th:only-of-type {\n",
       "        vertical-align: middle;\n",
       "    }\n",
       "\n",
       "    .dataframe tbody tr th {\n",
       "        vertical-align: top;\n",
       "    }\n",
       "\n",
       "    .dataframe thead th {\n",
       "        text-align: right;\n",
       "    }\n",
       "</style>\n",
       "<table border=\"1\" class=\"dataframe\">\n",
       "  <thead>\n",
       "    <tr style=\"text-align: right;\">\n",
       "      <th></th>\n",
       "      <th>A</th>\n",
       "      <th>B</th>\n",
       "      <th>C</th>\n",
       "      <th>D</th>\n",
       "      <th>E</th>\n",
       "      <th>F</th>\n",
       "      <th>G</th>\n",
       "      <th>H</th>\n",
       "      <th>I</th>\n",
       "      <th>J</th>\n",
       "      <th>K</th>\n",
       "    </tr>\n",
       "  </thead>\n",
       "  <tbody>\n",
       "    <tr>\n",
       "      <td>0</td>\n",
       "      <td>0.766552</td>\n",
       "      <td>0.241195</td>\n",
       "      <td>0.626703</td>\n",
       "      <td>0.041254</td>\n",
       "      <td>0.502748</td>\n",
       "      <td>0.276639</td>\n",
       "      <td>0.538752</td>\n",
       "      <td>0.175962</td>\n",
       "      <td>0.172959</td>\n",
       "      <td>0.242691</td>\n",
       "      <td>0.199936</td>\n",
       "    </tr>\n",
       "    <tr>\n",
       "      <td>1</td>\n",
       "      <td>0.199139</td>\n",
       "      <td>0.159626</td>\n",
       "      <td>0.328952</td>\n",
       "      <td>0.334639</td>\n",
       "      <td>0.690515</td>\n",
       "      <td>0.343181</td>\n",
       "      <td>0.279096</td>\n",
       "      <td>0.924473</td>\n",
       "      <td>0.823501</td>\n",
       "      <td>0.034731</td>\n",
       "      <td>0.135809</td>\n",
       "    </tr>\n",
       "    <tr>\n",
       "      <td>2</td>\n",
       "      <td>0.763727</td>\n",
       "      <td>0.237788</td>\n",
       "      <td>0.595209</td>\n",
       "      <td>0.393916</td>\n",
       "      <td>0.461741</td>\n",
       "      <td>0.401821</td>\n",
       "      <td>0.914212</td>\n",
       "      <td>0.975590</td>\n",
       "      <td>0.999193</td>\n",
       "      <td>0.574706</td>\n",
       "      <td>0.211213</td>\n",
       "    </tr>\n",
       "  </tbody>\n",
       "</table>\n",
       "</div>"
      ],
      "text/plain": [
       "          A         B         C         D         E         F         G  \\\n",
       "0  0.766552  0.241195  0.626703  0.041254  0.502748  0.276639  0.538752   \n",
       "1  0.199139  0.159626  0.328952  0.334639  0.690515  0.343181  0.279096   \n",
       "2  0.763727  0.237788  0.595209  0.393916  0.461741  0.401821  0.914212   \n",
       "\n",
       "          H         I         J         K  \n",
       "0  0.175962  0.172959  0.242691  0.199936  \n",
       "1  0.924473  0.823501  0.034731  0.135809  \n",
       "2  0.975590  0.999193  0.574706  0.211213  "
      ]
     },
     "execution_count": 195,
     "metadata": {},
     "output_type": "execute_result"
    }
   ],
   "source": [
    "df11 = pd.DataFrame(np.random.rand(3,11),columns=list('ABCDEFGHIJK'))\n",
    "df11"
   ]
  },
  {
   "cell_type": "code",
   "execution_count": 196,
   "metadata": {},
   "outputs": [
    {
     "data": {
      "text/html": [
       "<div>\n",
       "<style scoped>\n",
       "    .dataframe tbody tr th:only-of-type {\n",
       "        vertical-align: middle;\n",
       "    }\n",
       "\n",
       "    .dataframe tbody tr th {\n",
       "        vertical-align: top;\n",
       "    }\n",
       "\n",
       "    .dataframe thead th {\n",
       "        text-align: right;\n",
       "    }\n",
       "</style>\n",
       "<table border=\"1\" class=\"dataframe\">\n",
       "  <thead>\n",
       "    <tr style=\"text-align: right;\">\n",
       "      <th></th>\n",
       "      <th>B</th>\n",
       "      <th>C</th>\n",
       "      <th>D</th>\n",
       "      <th>G</th>\n",
       "      <th>A</th>\n",
       "      <th>B</th>\n",
       "      <th>C</th>\n",
       "      <th>D</th>\n",
       "      <th>E</th>\n",
       "    </tr>\n",
       "  </thead>\n",
       "  <tbody>\n",
       "    <tr>\n",
       "      <td>0</td>\n",
       "      <td>0.241195</td>\n",
       "      <td>0.626703</td>\n",
       "      <td>0.041254</td>\n",
       "      <td>0.538752</td>\n",
       "      <td>0.766552</td>\n",
       "      <td>0.241195</td>\n",
       "      <td>0.626703</td>\n",
       "      <td>0.041254</td>\n",
       "      <td>0.502748</td>\n",
       "    </tr>\n",
       "    <tr>\n",
       "      <td>1</td>\n",
       "      <td>0.159626</td>\n",
       "      <td>0.328952</td>\n",
       "      <td>0.334639</td>\n",
       "      <td>0.279096</td>\n",
       "      <td>0.199139</td>\n",
       "      <td>0.159626</td>\n",
       "      <td>0.328952</td>\n",
       "      <td>0.334639</td>\n",
       "      <td>0.690515</td>\n",
       "    </tr>\n",
       "    <tr>\n",
       "      <td>2</td>\n",
       "      <td>0.237788</td>\n",
       "      <td>0.595209</td>\n",
       "      <td>0.393916</td>\n",
       "      <td>0.914212</td>\n",
       "      <td>0.763727</td>\n",
       "      <td>0.237788</td>\n",
       "      <td>0.595209</td>\n",
       "      <td>0.393916</td>\n",
       "      <td>0.461741</td>\n",
       "    </tr>\n",
       "  </tbody>\n",
       "</table>\n",
       "</div>"
      ],
      "text/plain": [
       "          B         C         D         G         A         B         C  \\\n",
       "0  0.241195  0.626703  0.041254  0.538752  0.766552  0.241195  0.626703   \n",
       "1  0.159626  0.328952  0.334639  0.279096  0.199139  0.159626  0.328952   \n",
       "2  0.237788  0.595209  0.393916  0.914212  0.763727  0.237788  0.595209   \n",
       "\n",
       "          D         E  \n",
       "0  0.041254  0.502748  \n",
       "1  0.334639  0.690515  \n",
       "2  0.393916  0.461741  "
      ]
     },
     "execution_count": 196,
     "metadata": {},
     "output_type": "execute_result"
    }
   ],
   "source": [
    "#option:1\n",
    "# pd.concat([df11.loc[:,'A':'C'],df11.loc[:,'F'],df11.loc[:,'J':'K']],axis='columns')\n",
    "pd.concat([df11.loc[:,'B':'D'],df11.loc[:,'G'],df11.loc[:,'A':'E']],axis='columns')"
   ]
  },
  {
   "cell_type": "code",
   "execution_count": 197,
   "metadata": {},
   "outputs": [
    {
     "data": {
      "text/html": [
       "<div>\n",
       "<style scoped>\n",
       "    .dataframe tbody tr th:only-of-type {\n",
       "        vertical-align: middle;\n",
       "    }\n",
       "\n",
       "    .dataframe tbody tr th {\n",
       "        vertical-align: top;\n",
       "    }\n",
       "\n",
       "    .dataframe thead th {\n",
       "        text-align: right;\n",
       "    }\n",
       "</style>\n",
       "<table border=\"1\" class=\"dataframe\">\n",
       "  <thead>\n",
       "    <tr style=\"text-align: right;\">\n",
       "      <th></th>\n",
       "      <th>A</th>\n",
       "      <th>B</th>\n",
       "      <th>C</th>\n",
       "      <th>F</th>\n",
       "      <th>J</th>\n",
       "      <th>K</th>\n",
       "    </tr>\n",
       "  </thead>\n",
       "  <tbody>\n",
       "    <tr>\n",
       "      <td>0</td>\n",
       "      <td>0.766552</td>\n",
       "      <td>0.241195</td>\n",
       "      <td>0.626703</td>\n",
       "      <td>0.276639</td>\n",
       "      <td>0.242691</td>\n",
       "      <td>0.199936</td>\n",
       "    </tr>\n",
       "    <tr>\n",
       "      <td>1</td>\n",
       "      <td>0.199139</td>\n",
       "      <td>0.159626</td>\n",
       "      <td>0.328952</td>\n",
       "      <td>0.343181</td>\n",
       "      <td>0.034731</td>\n",
       "      <td>0.135809</td>\n",
       "    </tr>\n",
       "    <tr>\n",
       "      <td>2</td>\n",
       "      <td>0.763727</td>\n",
       "      <td>0.237788</td>\n",
       "      <td>0.595209</td>\n",
       "      <td>0.401821</td>\n",
       "      <td>0.574706</td>\n",
       "      <td>0.211213</td>\n",
       "    </tr>\n",
       "  </tbody>\n",
       "</table>\n",
       "</div>"
      ],
      "text/plain": [
       "          A         B         C         F         J         K\n",
       "0  0.766552  0.241195  0.626703  0.276639  0.242691  0.199936\n",
       "1  0.199139  0.159626  0.328952  0.343181  0.034731  0.135809\n",
       "2  0.763727  0.237788  0.595209  0.401821  0.574706  0.211213"
      ]
     },
     "execution_count": 197,
     "metadata": {},
     "output_type": "execute_result"
    }
   ],
   "source": [
    "#option  2:\n",
    "df11[list(df11.columns[0:3]) + list(df11.columns[5]) + list(df11.columns[9:11])]"
   ]
  },
  {
   "cell_type": "code",
   "execution_count": 198,
   "metadata": {},
   "outputs": [
    {
     "data": {
      "text/html": [
       "<div>\n",
       "<style scoped>\n",
       "    .dataframe tbody tr th:only-of-type {\n",
       "        vertical-align: middle;\n",
       "    }\n",
       "\n",
       "    .dataframe tbody tr th {\n",
       "        vertical-align: top;\n",
       "    }\n",
       "\n",
       "    .dataframe thead th {\n",
       "        text-align: right;\n",
       "    }\n",
       "</style>\n",
       "<table border=\"1\" class=\"dataframe\">\n",
       "  <thead>\n",
       "    <tr style=\"text-align: right;\">\n",
       "      <th></th>\n",
       "      <th>A</th>\n",
       "      <th>B</th>\n",
       "      <th>C</th>\n",
       "      <th>F</th>\n",
       "      <th>J</th>\n",
       "      <th>K</th>\n",
       "    </tr>\n",
       "  </thead>\n",
       "  <tbody>\n",
       "    <tr>\n",
       "      <td>0</td>\n",
       "      <td>0.766552</td>\n",
       "      <td>0.241195</td>\n",
       "      <td>0.626703</td>\n",
       "      <td>0.276639</td>\n",
       "      <td>0.242691</td>\n",
       "      <td>0.199936</td>\n",
       "    </tr>\n",
       "    <tr>\n",
       "      <td>1</td>\n",
       "      <td>0.199139</td>\n",
       "      <td>0.159626</td>\n",
       "      <td>0.328952</td>\n",
       "      <td>0.343181</td>\n",
       "      <td>0.034731</td>\n",
       "      <td>0.135809</td>\n",
       "    </tr>\n",
       "    <tr>\n",
       "      <td>2</td>\n",
       "      <td>0.763727</td>\n",
       "      <td>0.237788</td>\n",
       "      <td>0.595209</td>\n",
       "      <td>0.401821</td>\n",
       "      <td>0.574706</td>\n",
       "      <td>0.211213</td>\n",
       "    </tr>\n",
       "  </tbody>\n",
       "</table>\n",
       "</div>"
      ],
      "text/plain": [
       "          A         B         C         F         J         K\n",
       "0  0.766552  0.241195  0.626703  0.276639  0.242691  0.199936\n",
       "1  0.199139  0.159626  0.328952  0.343181  0.034731  0.135809\n",
       "2  0.763727  0.237788  0.595209  0.401821  0.574706  0.211213"
      ]
     },
     "execution_count": 198,
     "metadata": {},
     "output_type": "execute_result"
    }
   ],
   "source": [
    "## option:3\n",
    "df11.iloc[:,np.r_[0:3,5,9:11]]"
   ]
  },
  {
   "cell_type": "markdown",
   "metadata": {},
   "source": [
    "### Want to know the *count* of rows that match a condition? Use: (condition).sum()\n",
    "Want to know the *percentage* of rows that match a condition? Use: (condition).mean()\n"
   ]
  },
  {
   "cell_type": "code",
   "execution_count": 199,
   "metadata": {},
   "outputs": [
    {
     "data": {
      "text/html": [
       "<div>\n",
       "<style scoped>\n",
       "    .dataframe tbody tr th:only-of-type {\n",
       "        vertical-align: middle;\n",
       "    }\n",
       "\n",
       "    .dataframe tbody tr th {\n",
       "        vertical-align: top;\n",
       "    }\n",
       "\n",
       "    .dataframe thead th {\n",
       "        text-align: right;\n",
       "    }\n",
       "</style>\n",
       "<table border=\"1\" class=\"dataframe\">\n",
       "  <thead>\n",
       "    <tr style=\"text-align: right;\">\n",
       "      <th></th>\n",
       "      <th>star_rating</th>\n",
       "      <th>title</th>\n",
       "      <th>content_rating</th>\n",
       "      <th>genre</th>\n",
       "      <th>duration</th>\n",
       "      <th>actors_list</th>\n",
       "    </tr>\n",
       "  </thead>\n",
       "  <tbody>\n",
       "    <tr>\n",
       "      <td>0</td>\n",
       "      <td>9.3</td>\n",
       "      <td>The Shawshank Redemption</td>\n",
       "      <td>R</td>\n",
       "      <td>Crime</td>\n",
       "      <td>142</td>\n",
       "      <td>[u'Tim Robbins', u'Morgan Freeman', u'Bob Gunt...</td>\n",
       "    </tr>\n",
       "    <tr>\n",
       "      <td>1</td>\n",
       "      <td>9.2</td>\n",
       "      <td>The Godfather</td>\n",
       "      <td>R</td>\n",
       "      <td>Crime</td>\n",
       "      <td>175</td>\n",
       "      <td>[u'Marlon Brando', u'Al Pacino', u'James Caan']</td>\n",
       "    </tr>\n",
       "    <tr>\n",
       "      <td>2</td>\n",
       "      <td>9.1</td>\n",
       "      <td>The Godfather: Part II</td>\n",
       "      <td>R</td>\n",
       "      <td>Crime</td>\n",
       "      <td>200</td>\n",
       "      <td>[u'Al Pacino', u'Robert De Niro', u'Robert Duv...</td>\n",
       "    </tr>\n",
       "    <tr>\n",
       "      <td>3</td>\n",
       "      <td>9.0</td>\n",
       "      <td>The Dark Knight</td>\n",
       "      <td>PG-13</td>\n",
       "      <td>Action</td>\n",
       "      <td>152</td>\n",
       "      <td>[u'Christian Bale', u'Heath Ledger', u'Aaron E...</td>\n",
       "    </tr>\n",
       "    <tr>\n",
       "      <td>4</td>\n",
       "      <td>8.9</td>\n",
       "      <td>Pulp Fiction</td>\n",
       "      <td>R</td>\n",
       "      <td>Crime</td>\n",
       "      <td>154</td>\n",
       "      <td>[u'John Travolta', u'Uma Thurman', u'Samuel L....</td>\n",
       "    </tr>\n",
       "  </tbody>\n",
       "</table>\n",
       "</div>"
      ],
      "text/plain": [
       "   star_rating                     title content_rating   genre  duration  \\\n",
       "0          9.3  The Shawshank Redemption              R   Crime       142   \n",
       "1          9.2             The Godfather              R   Crime       175   \n",
       "2          9.1    The Godfather: Part II              R   Crime       200   \n",
       "3          9.0           The Dark Knight          PG-13  Action       152   \n",
       "4          8.9              Pulp Fiction              R   Crime       154   \n",
       "\n",
       "                                         actors_list  \n",
       "0  [u'Tim Robbins', u'Morgan Freeman', u'Bob Gunt...  \n",
       "1    [u'Marlon Brando', u'Al Pacino', u'James Caan']  \n",
       "2  [u'Al Pacino', u'Robert De Niro', u'Robert Duv...  \n",
       "3  [u'Christian Bale', u'Heath Ledger', u'Aaron E...  \n",
       "4  [u'John Travolta', u'Uma Thurman', u'Samuel L....  "
      ]
     },
     "execution_count": 199,
     "metadata": {},
     "output_type": "execute_result"
    }
   ],
   "source": [
    "movies = pd.read_csv('http://bit.ly/imdbratings')\n",
    "movies.head()"
   ]
  },
  {
   "cell_type": "code",
   "execution_count": 200,
   "metadata": {},
   "outputs": [
    {
     "data": {
      "text/plain": [
       "(979, 6)"
      ]
     },
     "execution_count": 200,
     "metadata": {},
     "output_type": "execute_result"
    }
   ],
   "source": [
    "movies.shape"
   ]
  },
  {
   "cell_type": "markdown",
   "metadata": {},
   "source": [
    "### Number of rows that match a condition"
   ]
  },
  {
   "cell_type": "code",
   "execution_count": 201,
   "metadata": {},
   "outputs": [
    {
     "data": {
      "text/plain": [
       "123"
      ]
     },
     "execution_count": 201,
     "metadata": {},
     "output_type": "execute_result"
    }
   ],
   "source": [
    "(movies['content_rating'] == 'PG').sum()"
   ]
  },
  {
   "cell_type": "code",
   "execution_count": 202,
   "metadata": {},
   "outputs": [
    {
     "data": {
      "text/plain": [
       "72"
      ]
     },
     "execution_count": 202,
     "metadata": {},
     "output_type": "execute_result"
    }
   ],
   "source": [
    "(movies['duration'] <90).sum()"
   ]
  },
  {
   "cell_type": "markdown",
   "metadata": {},
   "source": [
    "### Percentage of rows that match a condition"
   ]
  },
  {
   "cell_type": "code",
   "execution_count": 203,
   "metadata": {},
   "outputs": [
    {
     "data": {
      "text/plain": [
       "0.12563840653728295"
      ]
     },
     "execution_count": 203,
     "metadata": {},
     "output_type": "execute_result"
    }
   ],
   "source": [
    "(movies['content_rating'] == 'PG').mean()"
   ]
  },
  {
   "cell_type": "code",
   "execution_count": 204,
   "metadata": {},
   "outputs": [
    {
     "data": {
      "text/plain": [
       "0.0735444330949949"
      ]
     },
     "execution_count": 204,
     "metadata": {},
     "output_type": "execute_result"
    }
   ],
   "source": [
    "(movies['duration'] < 90).mean()"
   ]
  },
  {
   "cell_type": "markdown",
   "metadata": {},
   "source": [
    "### Do you need to build a DataFrame from multiple files, but also keep track of which row came from which file?\n",
    "1. List files with glob() & sort the results\n",
    "2. Read files with generator expression, create \"filename\" column with assign(), & combine DataFrames with concat()"
   ]
  },
  {
   "cell_type": "code",
   "execution_count": 205,
   "metadata": {},
   "outputs": [],
   "source": [
    "from glob import glob"
   ]
  },
  {
   "cell_type": "markdown",
   "metadata": {},
   "source": [
    "### Use glob() to list all filed that match a pattern & sort the results"
   ]
  },
  {
   "cell_type": "code",
   "execution_count": 206,
   "metadata": {},
   "outputs": [
    {
     "data": {
      "text/plain": [
       "['stocks1.csv', 'stocks2.csv', 'stocks3.csv']"
      ]
     },
     "execution_count": 206,
     "metadata": {},
     "output_type": "execute_result"
    }
   ],
   "source": [
    "stock_files = sorted(glob('stocks*.csv'))\n",
    "stock_files"
   ]
  },
  {
   "cell_type": "markdown",
   "metadata": {},
   "source": [
    "### Use a generator expression to read the files ,assign() to create a new column, & concat() to combine the dataFrames"
   ]
  },
  {
   "cell_type": "code",
   "execution_count": 207,
   "metadata": {},
   "outputs": [
    {
     "data": {
      "text/html": [
       "<div>\n",
       "<style scoped>\n",
       "    .dataframe tbody tr th:only-of-type {\n",
       "        vertical-align: middle;\n",
       "    }\n",
       "\n",
       "    .dataframe tbody tr th {\n",
       "        vertical-align: top;\n",
       "    }\n",
       "\n",
       "    .dataframe thead th {\n",
       "        text-align: right;\n",
       "    }\n",
       "</style>\n",
       "<table border=\"1\" class=\"dataframe\">\n",
       "  <thead>\n",
       "    <tr style=\"text-align: right;\">\n",
       "      <th></th>\n",
       "      <th>Symbol</th>\n",
       "      <th>Date</th>\n",
       "      <th>Close</th>\n",
       "      <th>Volume</th>\n",
       "      <th>filename</th>\n",
       "    </tr>\n",
       "  </thead>\n",
       "  <tbody>\n",
       "    <tr>\n",
       "      <td>0</td>\n",
       "      <td>AAPL</td>\n",
       "      <td>2016-10-03</td>\n",
       "      <td>112.52</td>\n",
       "      <td>21701800</td>\n",
       "      <td>stocks1.csv</td>\n",
       "    </tr>\n",
       "    <tr>\n",
       "      <td>1</td>\n",
       "      <td>MSFT</td>\n",
       "      <td>2016-10-03</td>\n",
       "      <td>57.42</td>\n",
       "      <td>19189500</td>\n",
       "      <td>stocks1.csv</td>\n",
       "    </tr>\n",
       "    <tr>\n",
       "      <td>2</td>\n",
       "      <td>CSCO</td>\n",
       "      <td>2016-10-03</td>\n",
       "      <td>31.50</td>\n",
       "      <td>14070500</td>\n",
       "      <td>stocks1.csv</td>\n",
       "    </tr>\n",
       "    <tr>\n",
       "      <td>3</td>\n",
       "      <td>CSCO</td>\n",
       "      <td>2016-10-04</td>\n",
       "      <td>31.35</td>\n",
       "      <td>18460400</td>\n",
       "      <td>stocks2.csv</td>\n",
       "    </tr>\n",
       "    <tr>\n",
       "      <td>4</td>\n",
       "      <td>AAPL</td>\n",
       "      <td>2016-10-04</td>\n",
       "      <td>113.00</td>\n",
       "      <td>29736800</td>\n",
       "      <td>stocks2.csv</td>\n",
       "    </tr>\n",
       "    <tr>\n",
       "      <td>5</td>\n",
       "      <td>MSFT</td>\n",
       "      <td>2016-10-04</td>\n",
       "      <td>57.24</td>\n",
       "      <td>20085900</td>\n",
       "      <td>stocks2.csv</td>\n",
       "    </tr>\n",
       "    <tr>\n",
       "      <td>6</td>\n",
       "      <td>CSCO</td>\n",
       "      <td>2016-10-05</td>\n",
       "      <td>31.59</td>\n",
       "      <td>11808600</td>\n",
       "      <td>stocks3.csv</td>\n",
       "    </tr>\n",
       "    <tr>\n",
       "      <td>7</td>\n",
       "      <td>AAPL</td>\n",
       "      <td>2016-10-05</td>\n",
       "      <td>113.05</td>\n",
       "      <td>21453100</td>\n",
       "      <td>stocks3.csv</td>\n",
       "    </tr>\n",
       "    <tr>\n",
       "      <td>8</td>\n",
       "      <td>MSFT</td>\n",
       "      <td>2016-10-05</td>\n",
       "      <td>57.64</td>\n",
       "      <td>16726400</td>\n",
       "      <td>stocks3.csv</td>\n",
       "    </tr>\n",
       "  </tbody>\n",
       "</table>\n",
       "</div>"
      ],
      "text/plain": [
       "  Symbol        Date   Close    Volume     filename\n",
       "0   AAPL  2016-10-03  112.52  21701800  stocks1.csv\n",
       "1   MSFT  2016-10-03   57.42  19189500  stocks1.csv\n",
       "2   CSCO  2016-10-03   31.50  14070500  stocks1.csv\n",
       "3   CSCO  2016-10-04   31.35  18460400  stocks2.csv\n",
       "4   AAPL  2016-10-04  113.00  29736800  stocks2.csv\n",
       "5   MSFT  2016-10-04   57.24  20085900  stocks2.csv\n",
       "6   CSCO  2016-10-05   31.59  11808600  stocks3.csv\n",
       "7   AAPL  2016-10-05  113.05  21453100  stocks3.csv\n",
       "8   MSFT  2016-10-05   57.64  16726400  stocks3.csv"
      ]
     },
     "execution_count": 207,
     "metadata": {},
     "output_type": "execute_result"
    }
   ],
   "source": [
    "pd.concat((pd.read_csv(file).assign(filename=file) for file in stock_files),ignore_index=True)"
   ]
  },
  {
   "cell_type": "markdown",
   "metadata": {},
   "source": [
    "### Want to combine the smaller categories in a Series into a single category called \"Other\"?\n",
    "1. Save the index of the largest values of value_counts()\n",
    "2. Use where() to replace all other values in the Series with \"Other\""
   ]
  },
  {
   "cell_type": "code",
   "execution_count": 208,
   "metadata": {},
   "outputs": [],
   "source": [
    "df12 = df"
   ]
  },
  {
   "cell_type": "code",
   "execution_count": 209,
   "metadata": {},
   "outputs": [
    {
     "data": {
      "text/html": [
       "<div>\n",
       "<style scoped>\n",
       "    .dataframe tbody tr th:only-of-type {\n",
       "        vertical-align: middle;\n",
       "    }\n",
       "\n",
       "    .dataframe tbody tr th {\n",
       "        vertical-align: top;\n",
       "    }\n",
       "\n",
       "    .dataframe thead th {\n",
       "        text-align: right;\n",
       "    }\n",
       "</style>\n",
       "<table border=\"1\" class=\"dataframe\">\n",
       "  <thead>\n",
       "    <tr style=\"text-align: right;\">\n",
       "      <th></th>\n",
       "      <th>star_rating</th>\n",
       "      <th>title</th>\n",
       "      <th>content_rating</th>\n",
       "      <th>genre</th>\n",
       "      <th>duration</th>\n",
       "      <th>actors_list</th>\n",
       "    </tr>\n",
       "  </thead>\n",
       "  <tbody>\n",
       "    <tr>\n",
       "      <td>0</td>\n",
       "      <td>9.3</td>\n",
       "      <td>The Shawshank Redemption</td>\n",
       "      <td>R</td>\n",
       "      <td>Crime</td>\n",
       "      <td>142</td>\n",
       "      <td>[u'Tim Robbins', u'Morgan Freeman', u'Bob Gunt...</td>\n",
       "    </tr>\n",
       "    <tr>\n",
       "      <td>1</td>\n",
       "      <td>9.2</td>\n",
       "      <td>The Godfather</td>\n",
       "      <td>R</td>\n",
       "      <td>Crime</td>\n",
       "      <td>175</td>\n",
       "      <td>[u'Marlon Brando', u'Al Pacino', u'James Caan']</td>\n",
       "    </tr>\n",
       "    <tr>\n",
       "      <td>...</td>\n",
       "      <td>...</td>\n",
       "      <td>...</td>\n",
       "      <td>...</td>\n",
       "      <td>...</td>\n",
       "      <td>...</td>\n",
       "      <td>...</td>\n",
       "    </tr>\n",
       "    <tr>\n",
       "      <td>977</td>\n",
       "      <td>7.4</td>\n",
       "      <td>Poltergeist</td>\n",
       "      <td>PG</td>\n",
       "      <td>Horror</td>\n",
       "      <td>114</td>\n",
       "      <td>[u'JoBeth Williams', u\"Heather O'Rourke\", u'Cr...</td>\n",
       "    </tr>\n",
       "    <tr>\n",
       "      <td>978</td>\n",
       "      <td>7.4</td>\n",
       "      <td>Wall Street</td>\n",
       "      <td>R</td>\n",
       "      <td>Crime</td>\n",
       "      <td>126</td>\n",
       "      <td>[u'Charlie Sheen', u'Michael Douglas', u'Tamar...</td>\n",
       "    </tr>\n",
       "  </tbody>\n",
       "</table>\n",
       "<p>979 rows × 6 columns</p>\n",
       "</div>"
      ],
      "text/plain": [
       "     star_rating                     title content_rating   genre  duration  \\\n",
       "0            9.3  The Shawshank Redemption              R   Crime       142   \n",
       "1            9.2             The Godfather              R   Crime       175   \n",
       "..           ...                       ...            ...     ...       ...   \n",
       "977          7.4               Poltergeist             PG  Horror       114   \n",
       "978          7.4               Wall Street              R   Crime       126   \n",
       "\n",
       "                                           actors_list  \n",
       "0    [u'Tim Robbins', u'Morgan Freeman', u'Bob Gunt...  \n",
       "1      [u'Marlon Brando', u'Al Pacino', u'James Caan']  \n",
       "..                                                 ...  \n",
       "977  [u'JoBeth Williams', u\"Heather O'Rourke\", u'Cr...  \n",
       "978  [u'Charlie Sheen', u'Michael Douglas', u'Tamar...  \n",
       "\n",
       "[979 rows x 6 columns]"
      ]
     },
     "execution_count": 209,
     "metadata": {},
     "output_type": "execute_result"
    }
   ],
   "source": [
    "df12"
   ]
  },
  {
   "cell_type": "code",
   "execution_count": 210,
   "metadata": {},
   "outputs": [
    {
     "data": {
      "text/plain": [
       "Drama        278\n",
       "Comedy       156\n",
       "Action       136\n",
       "Crime        124\n",
       "Biography     77\n",
       "Adventure     75\n",
       "Animation     62\n",
       "Horror        29\n",
       "Mystery       16\n",
       "Western        9\n",
       "Thriller       5\n",
       "Sci-Fi         5\n",
       "Film-Noir      3\n",
       "Family         2\n",
       "Fantasy        1\n",
       "History        1\n",
       "Name: genre, dtype: int64"
      ]
     },
     "execution_count": 210,
     "metadata": {},
     "output_type": "execute_result"
    }
   ],
   "source": [
    "df12['genre'].value_counts()"
   ]
  },
  {
   "cell_type": "code",
   "execution_count": 211,
   "metadata": {},
   "outputs": [
    {
     "data": {
      "text/plain": [
       "Index(['Drama', 'Comedy', 'Action', 'Crime'], dtype='object')"
      ]
     },
     "execution_count": 211,
     "metadata": {},
     "output_type": "execute_result"
    }
   ],
   "source": [
    "top_four = df12['genre'].value_counts().nlargest(4).index\n",
    "top_four"
   ]
  },
  {
   "cell_type": "code",
   "execution_count": 212,
   "metadata": {},
   "outputs": [],
   "source": [
    "#Use where() to replace all other values in the Series with \"Other\"\n",
    "genre_updated = df12['genre'].where(df12['genre'].isin(top_four),other='Other')"
   ]
  },
  {
   "cell_type": "code",
   "execution_count": 213,
   "metadata": {},
   "outputs": [
    {
     "data": {
      "text/plain": [
       "Other     285\n",
       "Drama     278\n",
       "Comedy    156\n",
       "Action    136\n",
       "Crime     124\n",
       "Name: genre, dtype: int64"
      ]
     },
     "execution_count": 213,
     "metadata": {},
     "output_type": "execute_result"
    }
   ],
   "source": [
    "genre_updated.value_counts()"
   ]
  },
  {
   "cell_type": "markdown",
   "metadata": {},
   "source": [
    "### Want to filter a DataFrame to only include the largest categories?\n",
    "1. Save the value_counts() output\n",
    "2. Get the index of its head()\n",
    "3. Use that index with isin() to filter the DataFrame"
   ]
  },
  {
   "cell_type": "code",
   "execution_count": 214,
   "metadata": {},
   "outputs": [
    {
     "data": {
      "text/html": [
       "<div>\n",
       "<style scoped>\n",
       "    .dataframe tbody tr th:only-of-type {\n",
       "        vertical-align: middle;\n",
       "    }\n",
       "\n",
       "    .dataframe tbody tr th {\n",
       "        vertical-align: top;\n",
       "    }\n",
       "\n",
       "    .dataframe thead th {\n",
       "        text-align: right;\n",
       "    }\n",
       "</style>\n",
       "<table border=\"1\" class=\"dataframe\">\n",
       "  <thead>\n",
       "    <tr style=\"text-align: right;\">\n",
       "      <th></th>\n",
       "      <th>star_rating</th>\n",
       "      <th>title</th>\n",
       "      <th>content_rating</th>\n",
       "      <th>genre</th>\n",
       "      <th>duration</th>\n",
       "      <th>actors_list</th>\n",
       "    </tr>\n",
       "  </thead>\n",
       "  <tbody>\n",
       "    <tr>\n",
       "      <td>0</td>\n",
       "      <td>9.3</td>\n",
       "      <td>The Shawshank Redemption</td>\n",
       "      <td>R</td>\n",
       "      <td>Crime</td>\n",
       "      <td>142</td>\n",
       "      <td>[u'Tim Robbins', u'Morgan Freeman', u'Bob Gunt...</td>\n",
       "    </tr>\n",
       "    <tr>\n",
       "      <td>1</td>\n",
       "      <td>9.2</td>\n",
       "      <td>The Godfather</td>\n",
       "      <td>R</td>\n",
       "      <td>Crime</td>\n",
       "      <td>175</td>\n",
       "      <td>[u'Marlon Brando', u'Al Pacino', u'James Caan']</td>\n",
       "    </tr>\n",
       "    <tr>\n",
       "      <td>2</td>\n",
       "      <td>9.1</td>\n",
       "      <td>The Godfather: Part II</td>\n",
       "      <td>R</td>\n",
       "      <td>Crime</td>\n",
       "      <td>200</td>\n",
       "      <td>[u'Al Pacino', u'Robert De Niro', u'Robert Duv...</td>\n",
       "    </tr>\n",
       "    <tr>\n",
       "      <td>3</td>\n",
       "      <td>9.0</td>\n",
       "      <td>The Dark Knight</td>\n",
       "      <td>PG-13</td>\n",
       "      <td>Action</td>\n",
       "      <td>152</td>\n",
       "      <td>[u'Christian Bale', u'Heath Ledger', u'Aaron E...</td>\n",
       "    </tr>\n",
       "    <tr>\n",
       "      <td>4</td>\n",
       "      <td>8.9</td>\n",
       "      <td>Pulp Fiction</td>\n",
       "      <td>R</td>\n",
       "      <td>Crime</td>\n",
       "      <td>154</td>\n",
       "      <td>[u'John Travolta', u'Uma Thurman', u'Samuel L....</td>\n",
       "    </tr>\n",
       "  </tbody>\n",
       "</table>\n",
       "</div>"
      ],
      "text/plain": [
       "   star_rating                     title content_rating   genre  duration  \\\n",
       "0          9.3  The Shawshank Redemption              R   Crime       142   \n",
       "1          9.2             The Godfather              R   Crime       175   \n",
       "2          9.1    The Godfather: Part II              R   Crime       200   \n",
       "3          9.0           The Dark Knight          PG-13  Action       152   \n",
       "4          8.9              Pulp Fiction              R   Crime       154   \n",
       "\n",
       "                                         actors_list  \n",
       "0  [u'Tim Robbins', u'Morgan Freeman', u'Bob Gunt...  \n",
       "1    [u'Marlon Brando', u'Al Pacino', u'James Caan']  \n",
       "2  [u'Al Pacino', u'Robert De Niro', u'Robert Duv...  \n",
       "3  [u'Christian Bale', u'Heath Ledger', u'Aaron E...  \n",
       "4  [u'John Travolta', u'Uma Thurman', u'Samuel L....  "
      ]
     },
     "execution_count": 214,
     "metadata": {},
     "output_type": "execute_result"
    }
   ],
   "source": [
    "movies.head()"
   ]
  },
  {
   "cell_type": "code",
   "execution_count": 215,
   "metadata": {},
   "outputs": [
    {
     "data": {
      "text/plain": [
       "Drama        278\n",
       "Comedy       156\n",
       "Action       136\n",
       "Crime        124\n",
       "Biography     77\n",
       "Adventure     75\n",
       "Animation     62\n",
       "Horror        29\n",
       "Mystery       16\n",
       "Western        9\n",
       "Thriller       5\n",
       "Sci-Fi         5\n",
       "Film-Noir      3\n",
       "Family         2\n",
       "Fantasy        1\n",
       "History        1\n",
       "Name: genre, dtype: int64"
      ]
     },
     "execution_count": 215,
     "metadata": {},
     "output_type": "execute_result"
    }
   ],
   "source": [
    "counts = movies['genre'].value_counts()\n",
    "counts"
   ]
  },
  {
   "cell_type": "code",
   "execution_count": 216,
   "metadata": {},
   "outputs": [
    {
     "data": {
      "text/plain": [
       "Index(['Drama', 'Comedy', 'Action'], dtype='object')"
      ]
     },
     "execution_count": 216,
     "metadata": {},
     "output_type": "execute_result"
    }
   ],
   "source": [
    "largest_categories = counts.head(3).index\n",
    "largest_categories"
   ]
  },
  {
   "cell_type": "code",
   "execution_count": 217,
   "metadata": {},
   "outputs": [
    {
     "data": {
      "text/html": [
       "<div>\n",
       "<style scoped>\n",
       "    .dataframe tbody tr th:only-of-type {\n",
       "        vertical-align: middle;\n",
       "    }\n",
       "\n",
       "    .dataframe tbody tr th {\n",
       "        vertical-align: top;\n",
       "    }\n",
       "\n",
       "    .dataframe thead th {\n",
       "        text-align: right;\n",
       "    }\n",
       "</style>\n",
       "<table border=\"1\" class=\"dataframe\">\n",
       "  <thead>\n",
       "    <tr style=\"text-align: right;\">\n",
       "      <th></th>\n",
       "      <th>star_rating</th>\n",
       "      <th>title</th>\n",
       "      <th>content_rating</th>\n",
       "      <th>genre</th>\n",
       "      <th>duration</th>\n",
       "      <th>actors_list</th>\n",
       "    </tr>\n",
       "  </thead>\n",
       "  <tbody>\n",
       "    <tr>\n",
       "      <td>3</td>\n",
       "      <td>9.0</td>\n",
       "      <td>The Dark Knight</td>\n",
       "      <td>PG-13</td>\n",
       "      <td>Action</td>\n",
       "      <td>152</td>\n",
       "      <td>[u'Christian Bale', u'Heath Ledger', u'Aaron E...</td>\n",
       "    </tr>\n",
       "    <tr>\n",
       "      <td>5</td>\n",
       "      <td>8.9</td>\n",
       "      <td>12 Angry Men</td>\n",
       "      <td>NOT RATED</td>\n",
       "      <td>Drama</td>\n",
       "      <td>96</td>\n",
       "      <td>[u'Henry Fonda', u'Lee J. Cobb', u'Martin Bals...</td>\n",
       "    </tr>\n",
       "    <tr>\n",
       "      <td>9</td>\n",
       "      <td>8.9</td>\n",
       "      <td>Fight Club</td>\n",
       "      <td>R</td>\n",
       "      <td>Drama</td>\n",
       "      <td>139</td>\n",
       "      <td>[u'Brad Pitt', u'Edward Norton', u'Helena Bonh...</td>\n",
       "    </tr>\n",
       "    <tr>\n",
       "      <td>11</td>\n",
       "      <td>8.8</td>\n",
       "      <td>Inception</td>\n",
       "      <td>PG-13</td>\n",
       "      <td>Action</td>\n",
       "      <td>148</td>\n",
       "      <td>[u'Leonardo DiCaprio', u'Joseph Gordon-Levitt'...</td>\n",
       "    </tr>\n",
       "    <tr>\n",
       "      <td>12</td>\n",
       "      <td>8.8</td>\n",
       "      <td>Star Wars: Episode V - The Empire Strikes Back</td>\n",
       "      <td>PG</td>\n",
       "      <td>Action</td>\n",
       "      <td>124</td>\n",
       "      <td>[u'Mark Hamill', u'Harrison Ford', u'Carrie Fi...</td>\n",
       "    </tr>\n",
       "  </tbody>\n",
       "</table>\n",
       "</div>"
      ],
      "text/plain": [
       "    star_rating                                           title  \\\n",
       "3           9.0                                 The Dark Knight   \n",
       "5           8.9                                    12 Angry Men   \n",
       "9           8.9                                      Fight Club   \n",
       "11          8.8                                       Inception   \n",
       "12          8.8  Star Wars: Episode V - The Empire Strikes Back   \n",
       "\n",
       "   content_rating   genre  duration  \\\n",
       "3           PG-13  Action       152   \n",
       "5       NOT RATED   Drama        96   \n",
       "9               R   Drama       139   \n",
       "11          PG-13  Action       148   \n",
       "12             PG  Action       124   \n",
       "\n",
       "                                          actors_list  \n",
       "3   [u'Christian Bale', u'Heath Ledger', u'Aaron E...  \n",
       "5   [u'Henry Fonda', u'Lee J. Cobb', u'Martin Bals...  \n",
       "9   [u'Brad Pitt', u'Edward Norton', u'Helena Bonh...  \n",
       "11  [u'Leonardo DiCaprio', u'Joseph Gordon-Levitt'...  \n",
       "12  [u'Mark Hamill', u'Harrison Ford', u'Carrie Fi...  "
      ]
     },
     "execution_count": 217,
     "metadata": {},
     "output_type": "execute_result"
    }
   ],
   "source": [
    "movies[movies['genre'].isin(largest_categories)].head()"
   ]
  },
  {
   "cell_type": "markdown",
   "metadata": {},
   "source": [
    "### Need to count the number of words in a Series? Just use a string method to count the spaces and add 1!"
   ]
  },
  {
   "cell_type": "code",
   "execution_count": 218,
   "metadata": {},
   "outputs": [
    {
     "data": {
      "text/html": [
       "<div>\n",
       "<style scoped>\n",
       "    .dataframe tbody tr th:only-of-type {\n",
       "        vertical-align: middle;\n",
       "    }\n",
       "\n",
       "    .dataframe tbody tr th {\n",
       "        vertical-align: top;\n",
       "    }\n",
       "\n",
       "    .dataframe thead th {\n",
       "        text-align: right;\n",
       "    }\n",
       "</style>\n",
       "<table border=\"1\" class=\"dataframe\">\n",
       "  <thead>\n",
       "    <tr style=\"text-align: right;\">\n",
       "      <th></th>\n",
       "      <th>message</th>\n",
       "    </tr>\n",
       "  </thead>\n",
       "  <tbody>\n",
       "    <tr>\n",
       "      <td>0</td>\n",
       "      <td>pandas is awesome!</td>\n",
       "    </tr>\n",
       "    <tr>\n",
       "      <td>1</td>\n",
       "      <td>i love panda bears</td>\n",
       "    </tr>\n",
       "    <tr>\n",
       "      <td>2</td>\n",
       "      <td>pandas!!!</td>\n",
       "    </tr>\n",
       "  </tbody>\n",
       "</table>\n",
       "</div>"
      ],
      "text/plain": [
       "              message\n",
       "0  pandas is awesome!\n",
       "1  i love panda bears\n",
       "2           pandas!!!"
      ]
     },
     "execution_count": 218,
     "metadata": {},
     "output_type": "execute_result"
    }
   ],
   "source": [
    "df13 = pd.DataFrame({'message':['pandas is awesome!','i love panda bears','pandas!!!']})\n",
    "df13"
   ]
  },
  {
   "cell_type": "code",
   "execution_count": 219,
   "metadata": {},
   "outputs": [],
   "source": [
    "df13['word_count'] = df13['message'].str.count(' ') + 1"
   ]
  },
  {
   "cell_type": "code",
   "execution_count": 220,
   "metadata": {},
   "outputs": [
    {
     "data": {
      "text/html": [
       "<div>\n",
       "<style scoped>\n",
       "    .dataframe tbody tr th:only-of-type {\n",
       "        vertical-align: middle;\n",
       "    }\n",
       "\n",
       "    .dataframe tbody tr th {\n",
       "        vertical-align: top;\n",
       "    }\n",
       "\n",
       "    .dataframe thead th {\n",
       "        text-align: right;\n",
       "    }\n",
       "</style>\n",
       "<table border=\"1\" class=\"dataframe\">\n",
       "  <thead>\n",
       "    <tr style=\"text-align: right;\">\n",
       "      <th></th>\n",
       "      <th>message</th>\n",
       "      <th>word_count</th>\n",
       "    </tr>\n",
       "  </thead>\n",
       "  <tbody>\n",
       "    <tr>\n",
       "      <td>0</td>\n",
       "      <td>pandas is awesome!</td>\n",
       "      <td>3</td>\n",
       "    </tr>\n",
       "    <tr>\n",
       "      <td>1</td>\n",
       "      <td>i love panda bears</td>\n",
       "      <td>4</td>\n",
       "    </tr>\n",
       "    <tr>\n",
       "      <td>2</td>\n",
       "      <td>pandas!!!</td>\n",
       "      <td>1</td>\n",
       "    </tr>\n",
       "  </tbody>\n",
       "</table>\n",
       "</div>"
      ],
      "text/plain": [
       "              message  word_count\n",
       "0  pandas is awesome!           3\n",
       "1  i love panda bears           4\n",
       "2           pandas!!!           1"
      ]
     },
     "execution_count": 220,
     "metadata": {},
     "output_type": "execute_result"
    }
   ],
   "source": [
    "df13"
   ]
  },
  {
   "cell_type": "markdown",
   "metadata": {},
   "source": [
    "### Are you scraping a webpage using read_html(), but it returns too many tables? 😕\n",
    "#### Use the 'match' parameter to find tables that contain a particular string!"
   ]
  },
  {
   "cell_type": "code",
   "execution_count": 221,
   "metadata": {},
   "outputs": [],
   "source": [
    "url = 'http://en.wikipedia.org/wiki/Twitter'"
   ]
  },
  {
   "cell_type": "code",
   "execution_count": 222,
   "metadata": {},
   "outputs": [
    {
     "data": {
      "text/plain": [
       "15"
      ]
     },
     "execution_count": 222,
     "metadata": {},
     "output_type": "execute_result"
    }
   ],
   "source": [
    "tables = pd.read_html(url)\n",
    "len(tables)"
   ]
  },
  {
   "cell_type": "code",
   "execution_count": 223,
   "metadata": {},
   "outputs": [
    {
     "data": {
      "text/plain": [
       "1"
      ]
     },
     "execution_count": 223,
     "metadata": {},
     "output_type": "execute_result"
    }
   ],
   "source": [
    "matching_tables = pd.read_html(url,match='Followers')\n",
    "len(matching_tables)"
   ]
  },
  {
   "cell_type": "code",
   "execution_count": 224,
   "metadata": {},
   "outputs": [
    {
     "data": {
      "text/html": [
       "<div>\n",
       "<style scoped>\n",
       "    .dataframe tbody tr th:only-of-type {\n",
       "        vertical-align: middle;\n",
       "    }\n",
       "\n",
       "    .dataframe tbody tr th {\n",
       "        vertical-align: top;\n",
       "    }\n",
       "\n",
       "    .dataframe thead th {\n",
       "        text-align: right;\n",
       "    }\n",
       "</style>\n",
       "<table border=\"1\" class=\"dataframe\">\n",
       "  <thead>\n",
       "    <tr style=\"text-align: right;\">\n",
       "      <th></th>\n",
       "      <th>Rank</th>\n",
       "      <th>Change (monthly)</th>\n",
       "      <th>Account name</th>\n",
       "      <th>Owner</th>\n",
       "      <th>Followers (millions)</th>\n",
       "      <th>Activity</th>\n",
       "      <th>Country</th>\n",
       "    </tr>\n",
       "  </thead>\n",
       "  <tbody>\n",
       "    <tr>\n",
       "      <td>0</td>\n",
       "      <td>1</td>\n",
       "      <td>NaN</td>\n",
       "      <td>@BarackObama</td>\n",
       "      <td>Barack Obama</td>\n",
       "      <td>113</td>\n",
       "      <td>Former U.S. president</td>\n",
       "      <td>USA</td>\n",
       "    </tr>\n",
       "    <tr>\n",
       "      <td>1</td>\n",
       "      <td>2</td>\n",
       "      <td>NaN</td>\n",
       "      <td>@justinbieber</td>\n",
       "      <td>Justin Bieber</td>\n",
       "      <td>109</td>\n",
       "      <td>Musician</td>\n",
       "      <td>CAN</td>\n",
       "    </tr>\n",
       "    <tr>\n",
       "      <td>2</td>\n",
       "      <td>3</td>\n",
       "      <td>NaN</td>\n",
       "      <td>@katyperry</td>\n",
       "      <td>Katy Perry</td>\n",
       "      <td>108</td>\n",
       "      <td>Musician</td>\n",
       "      <td>USA</td>\n",
       "    </tr>\n",
       "    <tr>\n",
       "      <td>3</td>\n",
       "      <td>4</td>\n",
       "      <td>NaN</td>\n",
       "      <td>@rihanna</td>\n",
       "      <td>Rihanna</td>\n",
       "      <td>96</td>\n",
       "      <td>Musician and businesswoman</td>\n",
       "      <td>BAR</td>\n",
       "    </tr>\n",
       "    <tr>\n",
       "      <td>4</td>\n",
       "      <td>5</td>\n",
       "      <td>NaN</td>\n",
       "      <td>@taylorswift13</td>\n",
       "      <td>Taylor Swift</td>\n",
       "      <td>86</td>\n",
       "      <td>Musician</td>\n",
       "      <td>USA</td>\n",
       "    </tr>\n",
       "    <tr>\n",
       "      <td>5</td>\n",
       "      <td>6</td>\n",
       "      <td>NaN</td>\n",
       "      <td>@Cristiano</td>\n",
       "      <td>Cristiano Ronaldo</td>\n",
       "      <td>83</td>\n",
       "      <td>Footballer</td>\n",
       "      <td>POR</td>\n",
       "    </tr>\n",
       "    <tr>\n",
       "      <td>6</td>\n",
       "      <td>7</td>\n",
       "      <td>NaN</td>\n",
       "      <td>@ladygaga</td>\n",
       "      <td>Lady Gaga</td>\n",
       "      <td>81</td>\n",
       "      <td>Musician and actress</td>\n",
       "      <td>USA</td>\n",
       "    </tr>\n",
       "    <tr>\n",
       "      <td>7</td>\n",
       "      <td>8</td>\n",
       "      <td>NaN</td>\n",
       "      <td>@TheEllenShow</td>\n",
       "      <td>Ellen DeGeneres</td>\n",
       "      <td>79</td>\n",
       "      <td>Comedian</td>\n",
       "      <td>USA</td>\n",
       "    </tr>\n",
       "    <tr>\n",
       "      <td>8</td>\n",
       "      <td>9</td>\n",
       "      <td>NaN</td>\n",
       "      <td>@realDonaldTrump</td>\n",
       "      <td>Donald Trump</td>\n",
       "      <td>72</td>\n",
       "      <td>Current U.S. president</td>\n",
       "      <td>USA</td>\n",
       "    </tr>\n",
       "    <tr>\n",
       "      <td>9</td>\n",
       "      <td>10</td>\n",
       "      <td>NaN</td>\n",
       "      <td>@YouTube</td>\n",
       "      <td>YouTube</td>\n",
       "      <td>72</td>\n",
       "      <td>Online video platform</td>\n",
       "      <td>USA</td>\n",
       "    </tr>\n",
       "  </tbody>\n",
       "</table>\n",
       "</div>"
      ],
      "text/plain": [
       "   Rank  Change (monthly)      Account name              Owner  \\\n",
       "0     1               NaN      @BarackObama       Barack Obama   \n",
       "1     2               NaN     @justinbieber      Justin Bieber   \n",
       "2     3               NaN        @katyperry         Katy Perry   \n",
       "3     4               NaN          @rihanna            Rihanna   \n",
       "4     5               NaN    @taylorswift13       Taylor Swift   \n",
       "5     6               NaN        @Cristiano  Cristiano Ronaldo   \n",
       "6     7               NaN         @ladygaga          Lady Gaga   \n",
       "7     8               NaN     @TheEllenShow    Ellen DeGeneres   \n",
       "8     9               NaN  @realDonaldTrump       Donald Trump   \n",
       "9    10               NaN          @YouTube            YouTube   \n",
       "\n",
       "   Followers (millions)                    Activity Country  \n",
       "0                   113       Former U.S. president     USA  \n",
       "1                   109                    Musician     CAN  \n",
       "2                   108                    Musician     USA  \n",
       "3                    96  Musician and businesswoman     BAR  \n",
       "4                    86                    Musician     USA  \n",
       "5                    83                  Footballer     POR  \n",
       "6                    81        Musician and actress     USA  \n",
       "7                    79                    Comedian     USA  \n",
       "8                    72      Current U.S. president     USA  \n",
       "9                    72       Online video platform     USA  "
      ]
     },
     "execution_count": 224,
     "metadata": {},
     "output_type": "execute_result"
    }
   ],
   "source": [
    "matching_tables[0]"
   ]
  },
  {
   "cell_type": "markdown",
   "metadata": {},
   "source": [
    "### Need to remove a column from a DataFrame and store it as a separate Series? Use \"pop\"! 🍾"
   ]
  },
  {
   "cell_type": "code",
   "execution_count": 225,
   "metadata": {},
   "outputs": [],
   "source": [
    "iris = pd.read_csv('iris.csv')"
   ]
  },
  {
   "cell_type": "code",
   "execution_count": 226,
   "metadata": {},
   "outputs": [
    {
     "data": {
      "text/html": [
       "<div>\n",
       "<style scoped>\n",
       "    .dataframe tbody tr th:only-of-type {\n",
       "        vertical-align: middle;\n",
       "    }\n",
       "\n",
       "    .dataframe tbody tr th {\n",
       "        vertical-align: top;\n",
       "    }\n",
       "\n",
       "    .dataframe thead th {\n",
       "        text-align: right;\n",
       "    }\n",
       "</style>\n",
       "<table border=\"1\" class=\"dataframe\">\n",
       "  <thead>\n",
       "    <tr style=\"text-align: right;\">\n",
       "      <th></th>\n",
       "      <th>sepal_length</th>\n",
       "      <th>sepal_width</th>\n",
       "      <th>petal_length</th>\n",
       "      <th>petal_width</th>\n",
       "      <th>species</th>\n",
       "    </tr>\n",
       "  </thead>\n",
       "  <tbody>\n",
       "    <tr>\n",
       "      <td>0</td>\n",
       "      <td>5.1</td>\n",
       "      <td>3.5</td>\n",
       "      <td>1.4</td>\n",
       "      <td>0.2</td>\n",
       "      <td>setosa</td>\n",
       "    </tr>\n",
       "    <tr>\n",
       "      <td>1</td>\n",
       "      <td>4.9</td>\n",
       "      <td>3.0</td>\n",
       "      <td>1.4</td>\n",
       "      <td>0.2</td>\n",
       "      <td>setosa</td>\n",
       "    </tr>\n",
       "    <tr>\n",
       "      <td>2</td>\n",
       "      <td>4.7</td>\n",
       "      <td>3.2</td>\n",
       "      <td>1.3</td>\n",
       "      <td>0.2</td>\n",
       "      <td>setosa</td>\n",
       "    </tr>\n",
       "    <tr>\n",
       "      <td>3</td>\n",
       "      <td>4.6</td>\n",
       "      <td>3.1</td>\n",
       "      <td>1.5</td>\n",
       "      <td>0.2</td>\n",
       "      <td>setosa</td>\n",
       "    </tr>\n",
       "    <tr>\n",
       "      <td>4</td>\n",
       "      <td>5.0</td>\n",
       "      <td>3.6</td>\n",
       "      <td>1.4</td>\n",
       "      <td>0.2</td>\n",
       "      <td>setosa</td>\n",
       "    </tr>\n",
       "  </tbody>\n",
       "</table>\n",
       "</div>"
      ],
      "text/plain": [
       "   sepal_length  sepal_width  petal_length  petal_width species\n",
       "0           5.1          3.5           1.4          0.2  setosa\n",
       "1           4.9          3.0           1.4          0.2  setosa\n",
       "2           4.7          3.2           1.3          0.2  setosa\n",
       "3           4.6          3.1           1.5          0.2  setosa\n",
       "4           5.0          3.6           1.4          0.2  setosa"
      ]
     },
     "execution_count": 226,
     "metadata": {},
     "output_type": "execute_result"
    }
   ],
   "source": [
    "iris.head()"
   ]
  },
  {
   "cell_type": "code",
   "execution_count": 227,
   "metadata": {},
   "outputs": [
    {
     "data": {
      "text/plain": [
       "0         setosa\n",
       "1         setosa\n",
       "         ...    \n",
       "148    virginica\n",
       "149    virginica\n",
       "Name: species, Length: 150, dtype: object"
      ]
     },
     "execution_count": 227,
     "metadata": {},
     "output_type": "execute_result"
    }
   ],
   "source": [
    "label = iris.pop('species')\n",
    "label"
   ]
  },
  {
   "cell_type": "code",
   "execution_count": 228,
   "metadata": {},
   "outputs": [
    {
     "data": {
      "text/html": [
       "<div>\n",
       "<style scoped>\n",
       "    .dataframe tbody tr th:only-of-type {\n",
       "        vertical-align: middle;\n",
       "    }\n",
       "\n",
       "    .dataframe tbody tr th {\n",
       "        vertical-align: top;\n",
       "    }\n",
       "\n",
       "    .dataframe thead th {\n",
       "        text-align: right;\n",
       "    }\n",
       "</style>\n",
       "<table border=\"1\" class=\"dataframe\">\n",
       "  <thead>\n",
       "    <tr style=\"text-align: right;\">\n",
       "      <th></th>\n",
       "      <th>sepal_length</th>\n",
       "      <th>sepal_width</th>\n",
       "      <th>petal_length</th>\n",
       "      <th>petal_width</th>\n",
       "    </tr>\n",
       "  </thead>\n",
       "  <tbody>\n",
       "    <tr>\n",
       "      <td>0</td>\n",
       "      <td>5.1</td>\n",
       "      <td>3.5</td>\n",
       "      <td>1.4</td>\n",
       "      <td>0.2</td>\n",
       "    </tr>\n",
       "    <tr>\n",
       "      <td>1</td>\n",
       "      <td>4.9</td>\n",
       "      <td>3.0</td>\n",
       "      <td>1.4</td>\n",
       "      <td>0.2</td>\n",
       "    </tr>\n",
       "    <tr>\n",
       "      <td>...</td>\n",
       "      <td>...</td>\n",
       "      <td>...</td>\n",
       "      <td>...</td>\n",
       "      <td>...</td>\n",
       "    </tr>\n",
       "    <tr>\n",
       "      <td>148</td>\n",
       "      <td>6.2</td>\n",
       "      <td>3.4</td>\n",
       "      <td>5.4</td>\n",
       "      <td>2.3</td>\n",
       "    </tr>\n",
       "    <tr>\n",
       "      <td>149</td>\n",
       "      <td>5.9</td>\n",
       "      <td>3.0</td>\n",
       "      <td>5.1</td>\n",
       "      <td>1.8</td>\n",
       "    </tr>\n",
       "  </tbody>\n",
       "</table>\n",
       "<p>150 rows × 4 columns</p>\n",
       "</div>"
      ],
      "text/plain": [
       "     sepal_length  sepal_width  petal_length  petal_width\n",
       "0             5.1          3.5           1.4          0.2\n",
       "1             4.9          3.0           1.4          0.2\n",
       "..            ...          ...           ...          ...\n",
       "148           6.2          3.4           5.4          2.3\n",
       "149           5.9          3.0           5.1          1.8\n",
       "\n",
       "[150 rows x 4 columns]"
      ]
     },
     "execution_count": 228,
     "metadata": {},
     "output_type": "execute_result"
    }
   ],
   "source": [
    "iris"
   ]
  },
  {
   "cell_type": "markdown",
   "metadata": {},
   "source": [
    "### Need to convert a column from continuous to categorical?\n",
    "➡️ Use cut() to specify bin edges\n",
    "➡️ Use qcut() to specify number of bins (creates bins of approximately equal size)\n",
    "➡️ Both allow you to label the bins"
   ]
  },
  {
   "cell_type": "code",
   "execution_count": 229,
   "metadata": {},
   "outputs": [
    {
     "data": {
      "text/html": [
       "<div>\n",
       "<style scoped>\n",
       "    .dataframe tbody tr th:only-of-type {\n",
       "        vertical-align: middle;\n",
       "    }\n",
       "\n",
       "    .dataframe tbody tr th {\n",
       "        vertical-align: top;\n",
       "    }\n",
       "\n",
       "    .dataframe thead th {\n",
       "        text-align: right;\n",
       "    }\n",
       "</style>\n",
       "<table border=\"1\" class=\"dataframe\">\n",
       "  <thead>\n",
       "    <tr style=\"text-align: right;\">\n",
       "      <th></th>\n",
       "      <th>PassengerId</th>\n",
       "      <th>Survived</th>\n",
       "      <th>Pclass</th>\n",
       "      <th>Name</th>\n",
       "      <th>Sex</th>\n",
       "      <th>Age</th>\n",
       "      <th>SibSp</th>\n",
       "      <th>Parch</th>\n",
       "      <th>Ticket</th>\n",
       "      <th>Fare</th>\n",
       "      <th>Cabin</th>\n",
       "      <th>Embarked</th>\n",
       "    </tr>\n",
       "  </thead>\n",
       "  <tbody>\n",
       "    <tr>\n",
       "      <td>0</td>\n",
       "      <td>1</td>\n",
       "      <td>0</td>\n",
       "      <td>3</td>\n",
       "      <td>Braund, Mr. Owen Harris</td>\n",
       "      <td>male</td>\n",
       "      <td>22.0</td>\n",
       "      <td>1</td>\n",
       "      <td>0</td>\n",
       "      <td>A/5 21171</td>\n",
       "      <td>7.2500</td>\n",
       "      <td>NaN</td>\n",
       "      <td>S</td>\n",
       "    </tr>\n",
       "    <tr>\n",
       "      <td>1</td>\n",
       "      <td>2</td>\n",
       "      <td>1</td>\n",
       "      <td>1</td>\n",
       "      <td>Cumings, Mrs. John Bradley (Florence Briggs Th...</td>\n",
       "      <td>female</td>\n",
       "      <td>38.0</td>\n",
       "      <td>1</td>\n",
       "      <td>0</td>\n",
       "      <td>PC 17599</td>\n",
       "      <td>71.2833</td>\n",
       "      <td>C85</td>\n",
       "      <td>C</td>\n",
       "    </tr>\n",
       "    <tr>\n",
       "      <td>2</td>\n",
       "      <td>3</td>\n",
       "      <td>1</td>\n",
       "      <td>3</td>\n",
       "      <td>Heikkinen, Miss. Laina</td>\n",
       "      <td>female</td>\n",
       "      <td>26.0</td>\n",
       "      <td>0</td>\n",
       "      <td>0</td>\n",
       "      <td>STON/O2. 3101282</td>\n",
       "      <td>7.9250</td>\n",
       "      <td>NaN</td>\n",
       "      <td>S</td>\n",
       "    </tr>\n",
       "    <tr>\n",
       "      <td>3</td>\n",
       "      <td>4</td>\n",
       "      <td>1</td>\n",
       "      <td>1</td>\n",
       "      <td>Futrelle, Mrs. Jacques Heath (Lily May Peel)</td>\n",
       "      <td>female</td>\n",
       "      <td>35.0</td>\n",
       "      <td>1</td>\n",
       "      <td>0</td>\n",
       "      <td>113803</td>\n",
       "      <td>53.1000</td>\n",
       "      <td>C123</td>\n",
       "      <td>S</td>\n",
       "    </tr>\n",
       "    <tr>\n",
       "      <td>4</td>\n",
       "      <td>5</td>\n",
       "      <td>0</td>\n",
       "      <td>3</td>\n",
       "      <td>Allen, Mr. William Henry</td>\n",
       "      <td>male</td>\n",
       "      <td>35.0</td>\n",
       "      <td>0</td>\n",
       "      <td>0</td>\n",
       "      <td>373450</td>\n",
       "      <td>8.0500</td>\n",
       "      <td>NaN</td>\n",
       "      <td>S</td>\n",
       "    </tr>\n",
       "  </tbody>\n",
       "</table>\n",
       "</div>"
      ],
      "text/plain": [
       "   PassengerId  Survived  Pclass  \\\n",
       "0            1         0       3   \n",
       "1            2         1       1   \n",
       "2            3         1       3   \n",
       "3            4         1       1   \n",
       "4            5         0       3   \n",
       "\n",
       "                                                Name     Sex   Age  SibSp  \\\n",
       "0                            Braund, Mr. Owen Harris    male  22.0      1   \n",
       "1  Cumings, Mrs. John Bradley (Florence Briggs Th...  female  38.0      1   \n",
       "2                             Heikkinen, Miss. Laina  female  26.0      0   \n",
       "3       Futrelle, Mrs. Jacques Heath (Lily May Peel)  female  35.0      1   \n",
       "4                           Allen, Mr. William Henry    male  35.0      0   \n",
       "\n",
       "   Parch            Ticket     Fare Cabin Embarked  \n",
       "0      0         A/5 21171   7.2500   NaN        S  \n",
       "1      0          PC 17599  71.2833   C85        C  \n",
       "2      0  STON/O2. 3101282   7.9250   NaN        S  \n",
       "3      0            113803  53.1000  C123        S  \n",
       "4      0            373450   8.0500   NaN        S  "
      ]
     },
     "execution_count": 229,
     "metadata": {},
     "output_type": "execute_result"
    }
   ],
   "source": [
    "titanic.head()"
   ]
  },
  {
   "cell_type": "code",
   "execution_count": 230,
   "metadata": {},
   "outputs": [
    {
     "data": {
      "text/plain": [
       "0    22.0\n",
       "1    38.0\n",
       "2    26.0\n",
       "3    35.0\n",
       "4    35.0\n",
       "Name: Age, dtype: float64"
      ]
     },
     "execution_count": 230,
     "metadata": {},
     "output_type": "execute_result"
    }
   ],
   "source": [
    "titanic['Age'].head()"
   ]
  },
  {
   "cell_type": "code",
   "execution_count": 231,
   "metadata": {},
   "outputs": [
    {
     "data": {
      "text/plain": [
       "0    (18, 25]\n",
       "1    (25, 99]\n",
       "2    (25, 99]\n",
       "3    (25, 99]\n",
       "4    (25, 99]\n",
       "Name: Age, dtype: category\n",
       "Categories (3, interval[int64]): [(0, 18] < (18, 25] < (25, 99]]"
      ]
     },
     "execution_count": 231,
     "metadata": {},
     "output_type": "execute_result"
    }
   ],
   "source": [
    "## Cut() :you specific bin edges\n",
    "\n",
    "pd.cut(titanic['Age'],bins=[0,18,25,99]).head()"
   ]
  },
  {
   "cell_type": "code",
   "execution_count": 232,
   "metadata": {},
   "outputs": [
    {
     "data": {
      "text/plain": [
       "0    (0.419, 23.0]\n",
       "1     (34.0, 80.0]\n",
       "2     (23.0, 34.0]\n",
       "3     (34.0, 80.0]\n",
       "4     (34.0, 80.0]\n",
       "Name: Age, dtype: category\n",
       "Categories (3, interval[float64]): [(0.419, 23.0] < (23.0, 34.0] < (34.0, 80.0]]"
      ]
     },
     "execution_count": 232,
     "metadata": {},
     "output_type": "execute_result"
    }
   ],
   "source": [
    "###qcut():You specify number of bins\n",
    "pd.qcut(titanic['Age'],q=3).head()"
   ]
  },
  {
   "cell_type": "code",
   "execution_count": 233,
   "metadata": {},
   "outputs": [
    {
     "data": {
      "text/plain": [
       "0          child\n",
       "1          adult\n",
       "2    young adult\n",
       "3          adult\n",
       "4          adult\n",
       "Name: Age, dtype: category\n",
       "Categories (3, object): [child < young adult < adult]"
      ]
     },
     "execution_count": 233,
     "metadata": {},
     "output_type": "execute_result"
    }
   ],
   "source": [
    "### cut() and qcut() both allow bin labels\n",
    "pd.qcut(titanic['Age'],q=3,labels=['child','young adult','adult']).head()\n"
   ]
  },
  {
   "cell_type": "markdown",
   "metadata": {},
   "source": [
    "### Want to extract tables from a PDF into a DataFrame? Try tabula-py!\n"
   ]
  },
  {
   "cell_type": "code",
   "execution_count": 234,
   "metadata": {},
   "outputs": [],
   "source": [
    "#from tabula import read_pdf\n",
    "# df =read_pdf('test.pdf',pages='all')"
   ]
  },
  {
   "cell_type": "markdown",
   "metadata": {},
   "source": [
    "### Need to know which version of pandas you're using?\n",
    "➡️ pd.__version__\n",
    "Need to know the versions of its dependencies (numpy, matplotlib, etc)?\n",
    "➡️ pd.show_versions()"
   ]
  },
  {
   "cell_type": "code",
   "execution_count": 235,
   "metadata": {},
   "outputs": [
    {
     "data": {
      "text/plain": [
       "'0.25.1'"
      ]
     },
     "execution_count": 235,
     "metadata": {},
     "output_type": "execute_result"
    }
   ],
   "source": [
    "pd.__version__"
   ]
  },
  {
   "cell_type": "code",
   "execution_count": 237,
   "metadata": {},
   "outputs": [
    {
     "name": "stdout",
     "output_type": "stream",
     "text": [
      "\n",
      "INSTALLED VERSIONS\n",
      "------------------\n",
      "commit           : None\n",
      "python           : 3.7.4.final.0\n",
      "python-bits      : 64\n",
      "OS               : Windows\n",
      "OS-release       : 8.1\n",
      "machine          : AMD64\n",
      "processor        : AMD64 Family 22 Model 48 Stepping 1, AuthenticAMD\n",
      "byteorder        : little\n",
      "LC_ALL           : None\n",
      "LANG             : None\n",
      "LOCALE           : None.None\n",
      "\n",
      "pandas           : 0.25.1\n",
      "numpy            : 1.16.5\n",
      "pytz             : 2019.3\n",
      "dateutil         : 2.8.0\n",
      "pip              : 19.2.3\n",
      "setuptools       : 41.4.0\n",
      "Cython           : 0.29.13\n",
      "pytest           : 5.2.1\n",
      "hypothesis       : None\n",
      "sphinx           : 2.2.0\n",
      "blosc            : None\n",
      "feather          : None\n",
      "xlsxwriter       : 1.2.1\n",
      "lxml.etree       : 4.4.1\n",
      "html5lib         : 1.0.1\n",
      "pymysql          : None\n",
      "psycopg2         : None\n",
      "jinja2           : 2.10.3\n",
      "IPython          : 7.8.0\n",
      "pandas_datareader: None\n",
      "bs4              : 4.8.0\n",
      "bottleneck       : 1.2.1\n",
      "fastparquet      : None\n",
      "gcsfs            : None\n",
      "lxml.etree       : 4.4.1\n",
      "matplotlib       : 3.1.1\n",
      "numexpr          : 2.7.0\n",
      "odfpy            : None\n",
      "openpyxl         : 3.0.0\n",
      "pandas_gbq       : None\n",
      "pyarrow          : None\n",
      "pytables         : None\n",
      "s3fs             : None\n",
      "scipy            : 1.3.1\n",
      "sqlalchemy       : 1.3.9\n",
      "tables           : 3.5.2\n",
      "xarray           : None\n",
      "xlrd             : 1.2.0\n",
      "xlwt             : 1.3.0\n",
      "xlsxwriter       : 1.2.1\n"
     ]
    }
   ],
   "source": [
    "pd.show_versions()"
   ]
  },
  {
   "cell_type": "markdown",
   "metadata": {},
   "source": [
    "### Need to check if two Series are \"similar\"? Use this: pd.testing.assert_series_equal(df.A, df.B, ...)\n",
    "Useful arguments include:\n",
    "➡️ check_names=False\n",
    "➡️ check_dtype=False\n",
    "➡️ check_exact=False"
   ]
  },
  {
   "cell_type": "code",
   "execution_count": 240,
   "metadata": {},
   "outputs": [
    {
     "data": {
      "text/html": [
       "<div>\n",
       "<style scoped>\n",
       "    .dataframe tbody tr th:only-of-type {\n",
       "        vertical-align: middle;\n",
       "    }\n",
       "\n",
       "    .dataframe tbody tr th {\n",
       "        vertical-align: top;\n",
       "    }\n",
       "\n",
       "    .dataframe thead th {\n",
       "        text-align: right;\n",
       "    }\n",
       "</style>\n",
       "<table border=\"1\" class=\"dataframe\">\n",
       "  <thead>\n",
       "    <tr style=\"text-align: right;\">\n",
       "      <th></th>\n",
       "      <th>A</th>\n",
       "      <th>B</th>\n",
       "      <th>C</th>\n",
       "    </tr>\n",
       "  </thead>\n",
       "  <tbody>\n",
       "    <tr>\n",
       "      <td>0</td>\n",
       "      <td>1</td>\n",
       "      <td>1.0</td>\n",
       "      <td>1.000000</td>\n",
       "    </tr>\n",
       "    <tr>\n",
       "      <td>1</td>\n",
       "      <td>2</td>\n",
       "      <td>2.0</td>\n",
       "      <td>2.000000</td>\n",
       "    </tr>\n",
       "    <tr>\n",
       "      <td>2</td>\n",
       "      <td>3</td>\n",
       "      <td>3.0</td>\n",
       "      <td>3.000005</td>\n",
       "    </tr>\n",
       "  </tbody>\n",
       "</table>\n",
       "</div>"
      ],
      "text/plain": [
       "   A    B         C\n",
       "0  1  1.0  1.000000\n",
       "1  2  2.0  2.000000\n",
       "2  3  3.0  3.000005"
      ]
     },
     "execution_count": 240,
     "metadata": {},
     "output_type": "execute_result"
    }
   ],
   "source": [
    "df14 = pd.DataFrame({'A':[1,2,3],'B':[1.0,2.0,3.0],'C':[1.000000,2.000000,3.000005]})\n",
    "df14\n"
   ]
  },
  {
   "cell_type": "markdown",
   "metadata": {},
   "source": [
    "###  equals() method requires identical datatypes:"
   ]
  },
  {
   "cell_type": "code",
   "execution_count": 241,
   "metadata": {},
   "outputs": [
    {
     "data": {
      "text/plain": [
       "False"
      ]
     },
     "execution_count": 241,
     "metadata": {},
     "output_type": "execute_result"
    }
   ],
   "source": [
    "df14['A'].equals(df14['B'])"
   ]
  },
  {
   "cell_type": "markdown",
   "metadata": {},
   "source": [
    "### Assertion passes since we aren't checking datatypes:"
   ]
  },
  {
   "cell_type": "code",
   "execution_count": 244,
   "metadata": {},
   "outputs": [],
   "source": [
    "pd.testing.assert_series_equal(df14['A'],df14['B'],check_names=False,check_dtype=False)"
   ]
  },
  {
   "cell_type": "markdown",
   "metadata": {},
   "source": [
    "### Assertion passes the numbers are very similar:"
   ]
  },
  {
   "cell_type": "code",
   "execution_count": 246,
   "metadata": {},
   "outputs": [],
   "source": [
    "pd.testing.assert_series_equal(df14['B'],df14['C'],check_names=False,check_exact=False)"
   ]
  },
  {
   "cell_type": "markdown",
   "metadata": {},
   "source": [
    "### Want to scrape a web page? Try read_html()!\n",
    "#### Definitely worth trying before bringing out a more complex tool (Beautiful Soup, Selenium, e"
   ]
  },
  {
   "cell_type": "code",
   "execution_count": 247,
   "metadata": {},
   "outputs": [],
   "source": [
    "apple_stock =pd.read_html('https://finance.yahoo.com/quote/AAPL?p-AAL')"
   ]
  },
  {
   "cell_type": "code",
   "execution_count": 248,
   "metadata": {},
   "outputs": [
    {
     "data": {
      "text/html": [
       "<div>\n",
       "<style scoped>\n",
       "    .dataframe tbody tr th:only-of-type {\n",
       "        vertical-align: middle;\n",
       "    }\n",
       "\n",
       "    .dataframe tbody tr th {\n",
       "        vertical-align: top;\n",
       "    }\n",
       "\n",
       "    .dataframe thead th {\n",
       "        text-align: right;\n",
       "    }\n",
       "</style>\n",
       "<table border=\"1\" class=\"dataframe\">\n",
       "  <thead>\n",
       "    <tr style=\"text-align: right;\">\n",
       "      <th></th>\n",
       "      <th>0</th>\n",
       "      <th>1</th>\n",
       "    </tr>\n",
       "  </thead>\n",
       "  <tbody>\n",
       "    <tr>\n",
       "      <td>0</td>\n",
       "      <td>Previous Close</td>\n",
       "      <td>323.62</td>\n",
       "    </tr>\n",
       "    <tr>\n",
       "      <td>1</td>\n",
       "      <td>Open</td>\n",
       "      <td>322.63</td>\n",
       "    </tr>\n",
       "    <tr>\n",
       "      <td>2</td>\n",
       "      <td>Bid</td>\n",
       "      <td>0.00 x 800</td>\n",
       "    </tr>\n",
       "    <tr>\n",
       "      <td>3</td>\n",
       "      <td>Ask</td>\n",
       "      <td>0.00 x 1100</td>\n",
       "    </tr>\n",
       "    <tr>\n",
       "      <td>4</td>\n",
       "      <td>Day's Range</td>\n",
       "      <td>318.21 - 324.64</td>\n",
       "    </tr>\n",
       "    <tr>\n",
       "      <td>5</td>\n",
       "      <td>52 Week Range</td>\n",
       "      <td>169.50 - 327.85</td>\n",
       "    </tr>\n",
       "    <tr>\n",
       "      <td>6</td>\n",
       "      <td>Volume</td>\n",
       "      <td>25141489</td>\n",
       "    </tr>\n",
       "    <tr>\n",
       "      <td>7</td>\n",
       "      <td>Avg. Volume</td>\n",
       "      <td>29928195</td>\n",
       "    </tr>\n",
       "    <tr>\n",
       "      <td>0</td>\n",
       "      <td>Market Cap</td>\n",
       "      <td>1.401T</td>\n",
       "    </tr>\n",
       "    <tr>\n",
       "      <td>1</td>\n",
       "      <td>Beta (5Y Monthly)</td>\n",
       "      <td>1.28</td>\n",
       "    </tr>\n",
       "    <tr>\n",
       "      <td>2</td>\n",
       "      <td>PE Ratio (TTM)</td>\n",
       "      <td>25.43</td>\n",
       "    </tr>\n",
       "    <tr>\n",
       "      <td>3</td>\n",
       "      <td>EPS (TTM)</td>\n",
       "      <td>12.60</td>\n",
       "    </tr>\n",
       "    <tr>\n",
       "      <td>4</td>\n",
       "      <td>Earnings Date</td>\n",
       "      <td>Apr 27, 2020 - May 03, 2020</td>\n",
       "    </tr>\n",
       "    <tr>\n",
       "      <td>5</td>\n",
       "      <td>Forward Dividend &amp; Yield</td>\n",
       "      <td>3.08 (0.95%)</td>\n",
       "    </tr>\n",
       "    <tr>\n",
       "      <td>6</td>\n",
       "      <td>Ex-Dividend Date</td>\n",
       "      <td>Feb 06, 2020</td>\n",
       "    </tr>\n",
       "    <tr>\n",
       "      <td>7</td>\n",
       "      <td>1y Target Est</td>\n",
       "      <td>333.31</td>\n",
       "    </tr>\n",
       "  </tbody>\n",
       "</table>\n",
       "</div>"
      ],
      "text/plain": [
       "                          0                            1\n",
       "0            Previous Close                       323.62\n",
       "1                      Open                       322.63\n",
       "2                       Bid                   0.00 x 800\n",
       "3                       Ask                  0.00 x 1100\n",
       "4               Day's Range              318.21 - 324.64\n",
       "5             52 Week Range              169.50 - 327.85\n",
       "6                    Volume                     25141489\n",
       "7               Avg. Volume                     29928195\n",
       "0                Market Cap                       1.401T\n",
       "1         Beta (5Y Monthly)                         1.28\n",
       "2            PE Ratio (TTM)                        25.43\n",
       "3                 EPS (TTM)                        12.60\n",
       "4             Earnings Date  Apr 27, 2020 - May 03, 2020\n",
       "5  Forward Dividend & Yield                 3.08 (0.95%)\n",
       "6          Ex-Dividend Date                 Feb 06, 2020\n",
       "7             1y Target Est                       333.31"
      ]
     },
     "execution_count": 248,
     "metadata": {},
     "output_type": "execute_result"
    }
   ],
   "source": [
    "pd.concat([apple_stock[0],apple_stock[1]])"
   ]
  },
  {
   "cell_type": "markdown",
   "metadata": {},
   "source": [
    "### Want to create new columns (or overwrite existing columns) within a method chain? Use \"assign\"!"
   ]
  },
  {
   "cell_type": "code",
   "execution_count": 249,
   "metadata": {},
   "outputs": [
    {
     "data": {
      "text/html": [
       "<div>\n",
       "<style scoped>\n",
       "    .dataframe tbody tr th:only-of-type {\n",
       "        vertical-align: middle;\n",
       "    }\n",
       "\n",
       "    .dataframe tbody tr th {\n",
       "        vertical-align: top;\n",
       "    }\n",
       "\n",
       "    .dataframe thead th {\n",
       "        text-align: right;\n",
       "    }\n",
       "</style>\n",
       "<table border=\"1\" class=\"dataframe\">\n",
       "  <thead>\n",
       "    <tr style=\"text-align: right;\">\n",
       "      <th></th>\n",
       "      <th>country</th>\n",
       "      <th>beer_servings</th>\n",
       "      <th>spirit_servings</th>\n",
       "      <th>wine_servings</th>\n",
       "      <th>total_litres_of_pure_alcohol</th>\n",
       "      <th>continent</th>\n",
       "    </tr>\n",
       "  </thead>\n",
       "  <tbody>\n",
       "    <tr>\n",
       "      <td>0</td>\n",
       "      <td>Afghanistan</td>\n",
       "      <td>0</td>\n",
       "      <td>0</td>\n",
       "      <td>0</td>\n",
       "      <td>0.0</td>\n",
       "      <td>Asia</td>\n",
       "    </tr>\n",
       "    <tr>\n",
       "      <td>1</td>\n",
       "      <td>Albania</td>\n",
       "      <td>89</td>\n",
       "      <td>132</td>\n",
       "      <td>54</td>\n",
       "      <td>4.9</td>\n",
       "      <td>Europe</td>\n",
       "    </tr>\n",
       "    <tr>\n",
       "      <td>2</td>\n",
       "      <td>Algeria</td>\n",
       "      <td>25</td>\n",
       "      <td>0</td>\n",
       "      <td>14</td>\n",
       "      <td>0.7</td>\n",
       "      <td>Africa</td>\n",
       "    </tr>\n",
       "    <tr>\n",
       "      <td>3</td>\n",
       "      <td>Andorra</td>\n",
       "      <td>245</td>\n",
       "      <td>138</td>\n",
       "      <td>312</td>\n",
       "      <td>12.4</td>\n",
       "      <td>Europe</td>\n",
       "    </tr>\n",
       "    <tr>\n",
       "      <td>4</td>\n",
       "      <td>Angola</td>\n",
       "      <td>217</td>\n",
       "      <td>57</td>\n",
       "      <td>45</td>\n",
       "      <td>5.9</td>\n",
       "      <td>Africa</td>\n",
       "    </tr>\n",
       "  </tbody>\n",
       "</table>\n",
       "</div>"
      ],
      "text/plain": [
       "       country  beer_servings  spirit_servings  wine_servings  \\\n",
       "0  Afghanistan              0                0              0   \n",
       "1      Albania             89              132             54   \n",
       "2      Algeria             25                0             14   \n",
       "3      Andorra            245              138            312   \n",
       "4       Angola            217               57             45   \n",
       "\n",
       "   total_litres_of_pure_alcohol continent  \n",
       "0                           0.0      Asia  \n",
       "1                           4.9    Europe  \n",
       "2                           0.7    Africa  \n",
       "3                          12.4    Europe  \n",
       "4                           5.9    Africa  "
      ]
     },
     "execution_count": 249,
     "metadata": {},
     "output_type": "execute_result"
    }
   ],
   "source": [
    "drinks.head()"
   ]
  },
  {
   "cell_type": "code",
   "execution_count": 254,
   "metadata": {},
   "outputs": [
    {
     "data": {
      "text/html": [
       "<div>\n",
       "<style scoped>\n",
       "    .dataframe tbody tr th:only-of-type {\n",
       "        vertical-align: middle;\n",
       "    }\n",
       "\n",
       "    .dataframe tbody tr th {\n",
       "        vertical-align: top;\n",
       "    }\n",
       "\n",
       "    .dataframe thead th {\n",
       "        text-align: right;\n",
       "    }\n",
       "</style>\n",
       "<table border=\"1\" class=\"dataframe\">\n",
       "  <thead>\n",
       "    <tr style=\"text-align: right;\">\n",
       "      <th></th>\n",
       "      <th>beer_servings</th>\n",
       "      <th>spirit_servings</th>\n",
       "      <th>wine_servings</th>\n",
       "      <th>total_litres_of_pure_alcohol</th>\n",
       "      <th>continent</th>\n",
       "    </tr>\n",
       "    <tr>\n",
       "      <th>country</th>\n",
       "      <th></th>\n",
       "      <th></th>\n",
       "      <th></th>\n",
       "      <th></th>\n",
       "      <th></th>\n",
       "    </tr>\n",
       "  </thead>\n",
       "  <tbody>\n",
       "    <tr>\n",
       "      <td>Afghanistan</td>\n",
       "      <td>0</td>\n",
       "      <td>0</td>\n",
       "      <td>0</td>\n",
       "      <td>0.0</td>\n",
       "      <td>Asia</td>\n",
       "    </tr>\n",
       "    <tr>\n",
       "      <td>Albania</td>\n",
       "      <td>89</td>\n",
       "      <td>132</td>\n",
       "      <td>54</td>\n",
       "      <td>4.9</td>\n",
       "      <td>Europe</td>\n",
       "    </tr>\n",
       "    <tr>\n",
       "      <td>...</td>\n",
       "      <td>...</td>\n",
       "      <td>...</td>\n",
       "      <td>...</td>\n",
       "      <td>...</td>\n",
       "      <td>...</td>\n",
       "    </tr>\n",
       "    <tr>\n",
       "      <td>Zambia</td>\n",
       "      <td>32</td>\n",
       "      <td>19</td>\n",
       "      <td>4</td>\n",
       "      <td>2.5</td>\n",
       "      <td>Africa</td>\n",
       "    </tr>\n",
       "    <tr>\n",
       "      <td>Zimbabwe</td>\n",
       "      <td>64</td>\n",
       "      <td>18</td>\n",
       "      <td>4</td>\n",
       "      <td>4.7</td>\n",
       "      <td>Africa</td>\n",
       "    </tr>\n",
       "  </tbody>\n",
       "</table>\n",
       "<p>193 rows × 5 columns</p>\n",
       "</div>"
      ],
      "text/plain": [
       "             beer_servings  spirit_servings  wine_servings  \\\n",
       "country                                                      \n",
       "Afghanistan              0                0              0   \n",
       "Albania                 89              132             54   \n",
       "...                    ...              ...            ...   \n",
       "Zambia                  32               19              4   \n",
       "Zimbabwe                64               18              4   \n",
       "\n",
       "             total_litres_of_pure_alcohol continent  \n",
       "country                                              \n",
       "Afghanistan                           0.0      Asia  \n",
       "Albania                               4.9    Europe  \n",
       "...                                   ...       ...  \n",
       "Zambia                                2.5    Africa  \n",
       "Zimbabwe                              4.7    Africa  \n",
       "\n",
       "[193 rows x 5 columns]"
      ]
     },
     "execution_count": 254,
     "metadata": {},
     "output_type": "execute_result"
    }
   ],
   "source": [
    "df15 =drinks.set_index('country')\n",
    "df15"
   ]
  },
  {
   "cell_type": "code",
   "execution_count": 256,
   "metadata": {},
   "outputs": [
    {
     "data": {
      "text/html": [
       "<style  type=\"text/css\" >\n",
       "</style><table id=\"T_9df1e79a_5478_11ea_9216_6cc217e6756b\" ><caption>Average beer conmsumption per person in 2010</caption><thead>    <tr>        <th class=\"blank level0\" ></th>        <th class=\"col_heading level0 col0\" >beer_servings</th>        <th class=\"col_heading level0 col1\" >spirit_servings</th>        <th class=\"col_heading level0 col2\" >wine_servings</th>        <th class=\"col_heading level0 col3\" >total_litres_of_pure_alcohol</th>        <th class=\"col_heading level0 col4\" >continent</th>        <th class=\"col_heading level0 col5\" >beer_ounces</th>        <th class=\"col_heading level0 col6\" >beer_gallons</th>    </tr>    <tr>        <th class=\"index_name level0\" >country</th>        <th class=\"blank\" ></th>        <th class=\"blank\" ></th>        <th class=\"blank\" ></th>        <th class=\"blank\" ></th>        <th class=\"blank\" ></th>        <th class=\"blank\" ></th>        <th class=\"blank\" ></th>    </tr></thead><tbody>\n",
       "                <tr>\n",
       "                        <th id=\"T_9df1e79a_5478_11ea_9216_6cc217e6756blevel0_row0\" class=\"row_heading level0 row0\" >Czech Republic</th>\n",
       "                        <td id=\"T_9df1e79a_5478_11ea_9216_6cc217e6756brow0_col0\" class=\"data row0 col0\" >361</td>\n",
       "                        <td id=\"T_9df1e79a_5478_11ea_9216_6cc217e6756brow0_col1\" class=\"data row0 col1\" >170</td>\n",
       "                        <td id=\"T_9df1e79a_5478_11ea_9216_6cc217e6756brow0_col2\" class=\"data row0 col2\" >134</td>\n",
       "                        <td id=\"T_9df1e79a_5478_11ea_9216_6cc217e6756brow0_col3\" class=\"data row0 col3\" >11.8</td>\n",
       "                        <td id=\"T_9df1e79a_5478_11ea_9216_6cc217e6756brow0_col4\" class=\"data row0 col4\" >Europe</td>\n",
       "                        <td id=\"T_9df1e79a_5478_11ea_9216_6cc217e6756brow0_col5\" class=\"data row0 col5\" >4332</td>\n",
       "                        <td id=\"T_9df1e79a_5478_11ea_9216_6cc217e6756brow0_col6\" class=\"data row0 col6\" >33.8438</td>\n",
       "            </tr>\n",
       "            <tr>\n",
       "                        <th id=\"T_9df1e79a_5478_11ea_9216_6cc217e6756blevel0_row1\" class=\"row_heading level0 row1\" >Gabon</th>\n",
       "                        <td id=\"T_9df1e79a_5478_11ea_9216_6cc217e6756brow1_col0\" class=\"data row1 col0\" >347</td>\n",
       "                        <td id=\"T_9df1e79a_5478_11ea_9216_6cc217e6756brow1_col1\" class=\"data row1 col1\" >98</td>\n",
       "                        <td id=\"T_9df1e79a_5478_11ea_9216_6cc217e6756brow1_col2\" class=\"data row1 col2\" >59</td>\n",
       "                        <td id=\"T_9df1e79a_5478_11ea_9216_6cc217e6756brow1_col3\" class=\"data row1 col3\" >8.9</td>\n",
       "                        <td id=\"T_9df1e79a_5478_11ea_9216_6cc217e6756brow1_col4\" class=\"data row1 col4\" >Africa</td>\n",
       "                        <td id=\"T_9df1e79a_5478_11ea_9216_6cc217e6756brow1_col5\" class=\"data row1 col5\" >4164</td>\n",
       "                        <td id=\"T_9df1e79a_5478_11ea_9216_6cc217e6756brow1_col6\" class=\"data row1 col6\" >32.5312</td>\n",
       "            </tr>\n",
       "            <tr>\n",
       "                        <th id=\"T_9df1e79a_5478_11ea_9216_6cc217e6756blevel0_row2\" class=\"row_heading level0 row2\" >Germany</th>\n",
       "                        <td id=\"T_9df1e79a_5478_11ea_9216_6cc217e6756brow2_col0\" class=\"data row2 col0\" >346</td>\n",
       "                        <td id=\"T_9df1e79a_5478_11ea_9216_6cc217e6756brow2_col1\" class=\"data row2 col1\" >117</td>\n",
       "                        <td id=\"T_9df1e79a_5478_11ea_9216_6cc217e6756brow2_col2\" class=\"data row2 col2\" >175</td>\n",
       "                        <td id=\"T_9df1e79a_5478_11ea_9216_6cc217e6756brow2_col3\" class=\"data row2 col3\" >11.3</td>\n",
       "                        <td id=\"T_9df1e79a_5478_11ea_9216_6cc217e6756brow2_col4\" class=\"data row2 col4\" >Europe</td>\n",
       "                        <td id=\"T_9df1e79a_5478_11ea_9216_6cc217e6756brow2_col5\" class=\"data row2 col5\" >4152</td>\n",
       "                        <td id=\"T_9df1e79a_5478_11ea_9216_6cc217e6756brow2_col6\" class=\"data row2 col6\" >32.4375</td>\n",
       "            </tr>\n",
       "            <tr>\n",
       "                        <th id=\"T_9df1e79a_5478_11ea_9216_6cc217e6756blevel0_row3\" class=\"row_heading level0 row3\" >Lithuania</th>\n",
       "                        <td id=\"T_9df1e79a_5478_11ea_9216_6cc217e6756brow3_col0\" class=\"data row3 col0\" >343</td>\n",
       "                        <td id=\"T_9df1e79a_5478_11ea_9216_6cc217e6756brow3_col1\" class=\"data row3 col1\" >244</td>\n",
       "                        <td id=\"T_9df1e79a_5478_11ea_9216_6cc217e6756brow3_col2\" class=\"data row3 col2\" >56</td>\n",
       "                        <td id=\"T_9df1e79a_5478_11ea_9216_6cc217e6756brow3_col3\" class=\"data row3 col3\" >12.9</td>\n",
       "                        <td id=\"T_9df1e79a_5478_11ea_9216_6cc217e6756brow3_col4\" class=\"data row3 col4\" >Europe</td>\n",
       "                        <td id=\"T_9df1e79a_5478_11ea_9216_6cc217e6756brow3_col5\" class=\"data row3 col5\" >4116</td>\n",
       "                        <td id=\"T_9df1e79a_5478_11ea_9216_6cc217e6756brow3_col6\" class=\"data row3 col6\" >32.1562</td>\n",
       "            </tr>\n",
       "            <tr>\n",
       "                        <th id=\"T_9df1e79a_5478_11ea_9216_6cc217e6756blevel0_row4\" class=\"row_heading level0 row4\" >Namibia</th>\n",
       "                        <td id=\"T_9df1e79a_5478_11ea_9216_6cc217e6756brow4_col0\" class=\"data row4 col0\" >376</td>\n",
       "                        <td id=\"T_9df1e79a_5478_11ea_9216_6cc217e6756brow4_col1\" class=\"data row4 col1\" >3</td>\n",
       "                        <td id=\"T_9df1e79a_5478_11ea_9216_6cc217e6756brow4_col2\" class=\"data row4 col2\" >1</td>\n",
       "                        <td id=\"T_9df1e79a_5478_11ea_9216_6cc217e6756brow4_col3\" class=\"data row4 col3\" >6.8</td>\n",
       "                        <td id=\"T_9df1e79a_5478_11ea_9216_6cc217e6756brow4_col4\" class=\"data row4 col4\" >Africa</td>\n",
       "                        <td id=\"T_9df1e79a_5478_11ea_9216_6cc217e6756brow4_col5\" class=\"data row4 col5\" >4512</td>\n",
       "                        <td id=\"T_9df1e79a_5478_11ea_9216_6cc217e6756brow4_col6\" class=\"data row4 col6\" >35.25</td>\n",
       "            </tr>\n",
       "            <tr>\n",
       "                        <th id=\"T_9df1e79a_5478_11ea_9216_6cc217e6756blevel0_row5\" class=\"row_heading level0 row5\" >Poland</th>\n",
       "                        <td id=\"T_9df1e79a_5478_11ea_9216_6cc217e6756brow5_col0\" class=\"data row5 col0\" >343</td>\n",
       "                        <td id=\"T_9df1e79a_5478_11ea_9216_6cc217e6756brow5_col1\" class=\"data row5 col1\" >215</td>\n",
       "                        <td id=\"T_9df1e79a_5478_11ea_9216_6cc217e6756brow5_col2\" class=\"data row5 col2\" >56</td>\n",
       "                        <td id=\"T_9df1e79a_5478_11ea_9216_6cc217e6756brow5_col3\" class=\"data row5 col3\" >10.9</td>\n",
       "                        <td id=\"T_9df1e79a_5478_11ea_9216_6cc217e6756brow5_col4\" class=\"data row5 col4\" >Europe</td>\n",
       "                        <td id=\"T_9df1e79a_5478_11ea_9216_6cc217e6756brow5_col5\" class=\"data row5 col5\" >4116</td>\n",
       "                        <td id=\"T_9df1e79a_5478_11ea_9216_6cc217e6756brow5_col6\" class=\"data row5 col6\" >32.1562</td>\n",
       "            </tr>\n",
       "            <tr>\n",
       "                        <th id=\"T_9df1e79a_5478_11ea_9216_6cc217e6756blevel0_row6\" class=\"row_heading level0 row6\" >Venezuela</th>\n",
       "                        <td id=\"T_9df1e79a_5478_11ea_9216_6cc217e6756brow6_col0\" class=\"data row6 col0\" >333</td>\n",
       "                        <td id=\"T_9df1e79a_5478_11ea_9216_6cc217e6756brow6_col1\" class=\"data row6 col1\" >100</td>\n",
       "                        <td id=\"T_9df1e79a_5478_11ea_9216_6cc217e6756brow6_col2\" class=\"data row6 col2\" >3</td>\n",
       "                        <td id=\"T_9df1e79a_5478_11ea_9216_6cc217e6756brow6_col3\" class=\"data row6 col3\" >7.7</td>\n",
       "                        <td id=\"T_9df1e79a_5478_11ea_9216_6cc217e6756brow6_col4\" class=\"data row6 col4\" >South America</td>\n",
       "                        <td id=\"T_9df1e79a_5478_11ea_9216_6cc217e6756brow6_col5\" class=\"data row6 col5\" >3996</td>\n",
       "                        <td id=\"T_9df1e79a_5478_11ea_9216_6cc217e6756brow6_col6\" class=\"data row6 col6\" >31.2188</td>\n",
       "            </tr>\n",
       "    </tbody></table>"
      ],
      "text/plain": [
       "<pandas.io.formats.style.Styler at 0xf8a31f3fc8>"
      ]
     },
     "execution_count": 256,
     "metadata": {},
     "output_type": "execute_result"
    }
   ],
   "source": [
    "(df15.assign(continent =df15['continent'].str.title(),\n",
    "             beer_ounces = df15['beer_servings'] * 12,\n",
    "             beer_gallons = lambda df15:df15['beer_ounces']/128)\n",
    "     .query('beer_gallons>30')\n",
    "     .style.set_caption('Average beer conmsumption per person in 2010'))"
   ]
  },
  {
   "cell_type": "markdown",
   "metadata": {},
   "source": [
    "### Need to create a bunch of new columns based on existing columns? Use this pattern:\n",
    "for col in df.columns:\n",
    "    df[f'{col}_new'] = df[col].apply(my_function)"
   ]
  },
  {
   "cell_type": "code",
   "execution_count": 257,
   "metadata": {},
   "outputs": [],
   "source": [
    "df16 = pd.DataFrame({'state':['ny','CA','Tx','FI'],'country':['usa','USA','usa','USA']})"
   ]
  },
  {
   "cell_type": "code",
   "execution_count": 258,
   "metadata": {},
   "outputs": [
    {
     "data": {
      "text/html": [
       "<div>\n",
       "<style scoped>\n",
       "    .dataframe tbody tr th:only-of-type {\n",
       "        vertical-align: middle;\n",
       "    }\n",
       "\n",
       "    .dataframe tbody tr th {\n",
       "        vertical-align: top;\n",
       "    }\n",
       "\n",
       "    .dataframe thead th {\n",
       "        text-align: right;\n",
       "    }\n",
       "</style>\n",
       "<table border=\"1\" class=\"dataframe\">\n",
       "  <thead>\n",
       "    <tr style=\"text-align: right;\">\n",
       "      <th></th>\n",
       "      <th>state</th>\n",
       "      <th>country</th>\n",
       "    </tr>\n",
       "  </thead>\n",
       "  <tbody>\n",
       "    <tr>\n",
       "      <td>0</td>\n",
       "      <td>ny</td>\n",
       "      <td>usa</td>\n",
       "    </tr>\n",
       "    <tr>\n",
       "      <td>1</td>\n",
       "      <td>CA</td>\n",
       "      <td>USA</td>\n",
       "    </tr>\n",
       "    <tr>\n",
       "      <td>2</td>\n",
       "      <td>Tx</td>\n",
       "      <td>usa</td>\n",
       "    </tr>\n",
       "    <tr>\n",
       "      <td>3</td>\n",
       "      <td>FI</td>\n",
       "      <td>USA</td>\n",
       "    </tr>\n",
       "  </tbody>\n",
       "</table>\n",
       "</div>"
      ],
      "text/plain": [
       "  state country\n",
       "0    ny     usa\n",
       "1    CA     USA\n",
       "2    Tx     usa\n",
       "3    FI     USA"
      ]
     },
     "execution_count": 258,
     "metadata": {},
     "output_type": "execute_result"
    }
   ],
   "source": [
    "df16"
   ]
  },
  {
   "cell_type": "code",
   "execution_count": 259,
   "metadata": {},
   "outputs": [],
   "source": [
    "for col in df16.columns:\n",
    "    df16[f'{col}_fixed'] = df16[col].str.upper()"
   ]
  },
  {
   "cell_type": "code",
   "execution_count": 260,
   "metadata": {},
   "outputs": [
    {
     "data": {
      "text/html": [
       "<div>\n",
       "<style scoped>\n",
       "    .dataframe tbody tr th:only-of-type {\n",
       "        vertical-align: middle;\n",
       "    }\n",
       "\n",
       "    .dataframe tbody tr th {\n",
       "        vertical-align: top;\n",
       "    }\n",
       "\n",
       "    .dataframe thead th {\n",
       "        text-align: right;\n",
       "    }\n",
       "</style>\n",
       "<table border=\"1\" class=\"dataframe\">\n",
       "  <thead>\n",
       "    <tr style=\"text-align: right;\">\n",
       "      <th></th>\n",
       "      <th>state</th>\n",
       "      <th>country</th>\n",
       "      <th>state_fixed</th>\n",
       "      <th>country_fixed</th>\n",
       "    </tr>\n",
       "  </thead>\n",
       "  <tbody>\n",
       "    <tr>\n",
       "      <td>0</td>\n",
       "      <td>ny</td>\n",
       "      <td>usa</td>\n",
       "      <td>NY</td>\n",
       "      <td>USA</td>\n",
       "    </tr>\n",
       "    <tr>\n",
       "      <td>1</td>\n",
       "      <td>CA</td>\n",
       "      <td>USA</td>\n",
       "      <td>CA</td>\n",
       "      <td>USA</td>\n",
       "    </tr>\n",
       "    <tr>\n",
       "      <td>2</td>\n",
       "      <td>Tx</td>\n",
       "      <td>usa</td>\n",
       "      <td>TX</td>\n",
       "      <td>USA</td>\n",
       "    </tr>\n",
       "    <tr>\n",
       "      <td>3</td>\n",
       "      <td>FI</td>\n",
       "      <td>USA</td>\n",
       "      <td>FI</td>\n",
       "      <td>USA</td>\n",
       "    </tr>\n",
       "  </tbody>\n",
       "</table>\n",
       "</div>"
      ],
      "text/plain": [
       "  state country state_fixed country_fixed\n",
       "0    ny     usa          NY           USA\n",
       "1    CA     USA          CA           USA\n",
       "2    Tx     usa          TX           USA\n",
       "3    FI     USA          FI           USA"
      ]
     },
     "execution_count": 260,
     "metadata": {},
     "output_type": "execute_result"
    }
   ],
   "source": [
    "df16"
   ]
  },
  {
   "cell_type": "markdown",
   "metadata": {},
   "source": [
    "### You can use f-strings (Python 3.6+) when selecting a Series from a DataFrame!\n"
   ]
  },
  {
   "cell_type": "code",
   "execution_count": 261,
   "metadata": {},
   "outputs": [],
   "source": [
    "df17 = drinks"
   ]
  },
  {
   "cell_type": "code",
   "execution_count": 262,
   "metadata": {},
   "outputs": [
    {
     "data": {
      "text/html": [
       "<div>\n",
       "<style scoped>\n",
       "    .dataframe tbody tr th:only-of-type {\n",
       "        vertical-align: middle;\n",
       "    }\n",
       "\n",
       "    .dataframe tbody tr th {\n",
       "        vertical-align: top;\n",
       "    }\n",
       "\n",
       "    .dataframe thead th {\n",
       "        text-align: right;\n",
       "    }\n",
       "</style>\n",
       "<table border=\"1\" class=\"dataframe\">\n",
       "  <thead>\n",
       "    <tr style=\"text-align: right;\">\n",
       "      <th></th>\n",
       "      <th>country</th>\n",
       "      <th>beer_servings</th>\n",
       "      <th>spirit_servings</th>\n",
       "      <th>wine_servings</th>\n",
       "      <th>total_litres_of_pure_alcohol</th>\n",
       "      <th>continent</th>\n",
       "    </tr>\n",
       "  </thead>\n",
       "  <tbody>\n",
       "    <tr>\n",
       "      <td>0</td>\n",
       "      <td>Afghanistan</td>\n",
       "      <td>0</td>\n",
       "      <td>0</td>\n",
       "      <td>0</td>\n",
       "      <td>0.0</td>\n",
       "      <td>Asia</td>\n",
       "    </tr>\n",
       "    <tr>\n",
       "      <td>1</td>\n",
       "      <td>Albania</td>\n",
       "      <td>89</td>\n",
       "      <td>132</td>\n",
       "      <td>54</td>\n",
       "      <td>4.9</td>\n",
       "      <td>Europe</td>\n",
       "    </tr>\n",
       "    <tr>\n",
       "      <td>2</td>\n",
       "      <td>Algeria</td>\n",
       "      <td>25</td>\n",
       "      <td>0</td>\n",
       "      <td>14</td>\n",
       "      <td>0.7</td>\n",
       "      <td>Africa</td>\n",
       "    </tr>\n",
       "    <tr>\n",
       "      <td>3</td>\n",
       "      <td>Andorra</td>\n",
       "      <td>245</td>\n",
       "      <td>138</td>\n",
       "      <td>312</td>\n",
       "      <td>12.4</td>\n",
       "      <td>Europe</td>\n",
       "    </tr>\n",
       "    <tr>\n",
       "      <td>4</td>\n",
       "      <td>Angola</td>\n",
       "      <td>217</td>\n",
       "      <td>57</td>\n",
       "      <td>45</td>\n",
       "      <td>5.9</td>\n",
       "      <td>Africa</td>\n",
       "    </tr>\n",
       "  </tbody>\n",
       "</table>\n",
       "</div>"
      ],
      "text/plain": [
       "       country  beer_servings  spirit_servings  wine_servings  \\\n",
       "0  Afghanistan              0                0              0   \n",
       "1      Albania             89              132             54   \n",
       "2      Algeria             25                0             14   \n",
       "3      Andorra            245              138            312   \n",
       "4       Angola            217               57             45   \n",
       "\n",
       "   total_litres_of_pure_alcohol continent  \n",
       "0                           0.0      Asia  \n",
       "1                           4.9    Europe  \n",
       "2                           0.7    Africa  \n",
       "3                          12.4    Europe  \n",
       "4                           5.9    Africa  "
      ]
     },
     "execution_count": 262,
     "metadata": {},
     "output_type": "execute_result"
    }
   ],
   "source": [
    "df17.head()"
   ]
  },
  {
   "cell_type": "code",
   "execution_count": 263,
   "metadata": {},
   "outputs": [],
   "source": [
    "drink ='wine'"
   ]
  },
  {
   "cell_type": "code",
   "execution_count": 264,
   "metadata": {},
   "outputs": [
    {
     "data": {
      "text/plain": [
       "0       0\n",
       "1      54\n",
       "       ..\n",
       "191     4\n",
       "192     4\n",
       "Name: wine_servings, Length: 193, dtype: int64"
      ]
     },
     "execution_count": 264,
     "metadata": {},
     "output_type": "execute_result"
    }
   ],
   "source": [
    "df17[f'{drink}_servings']"
   ]
  },
  {
   "cell_type": "markdown",
   "metadata": {},
   "source": [
    "### Did you get a \"SettingWithCopyWarning\" when creating a new column? You are probably assigning to a DataFrame that was created from another DataFrame.\n"
   ]
  },
  {
   "cell_type": "code",
   "execution_count": 265,
   "metadata": {},
   "outputs": [
    {
     "data": {
      "text/html": [
       "<div>\n",
       "<style scoped>\n",
       "    .dataframe tbody tr th:only-of-type {\n",
       "        vertical-align: middle;\n",
       "    }\n",
       "\n",
       "    .dataframe tbody tr th {\n",
       "        vertical-align: top;\n",
       "    }\n",
       "\n",
       "    .dataframe thead th {\n",
       "        text-align: right;\n",
       "    }\n",
       "</style>\n",
       "<table border=\"1\" class=\"dataframe\">\n",
       "  <thead>\n",
       "    <tr style=\"text-align: right;\">\n",
       "      <th></th>\n",
       "      <th>gender</th>\n",
       "    </tr>\n",
       "  </thead>\n",
       "  <tbody>\n",
       "    <tr>\n",
       "      <td>0</td>\n",
       "      <td>Male</td>\n",
       "    </tr>\n",
       "    <tr>\n",
       "      <td>1</td>\n",
       "      <td>Female</td>\n",
       "    </tr>\n",
       "    <tr>\n",
       "      <td>2</td>\n",
       "      <td>Male</td>\n",
       "    </tr>\n",
       "    <tr>\n",
       "      <td>3</td>\n",
       "      <td>Female</td>\n",
       "    </tr>\n",
       "  </tbody>\n",
       "</table>\n",
       "</div>"
      ],
      "text/plain": [
       "   gender\n",
       "0    Male\n",
       "1  Female\n",
       "2    Male\n",
       "3  Female"
      ]
     },
     "execution_count": 265,
     "metadata": {},
     "output_type": "execute_result"
    }
   ],
   "source": [
    "df18 = pd.DataFrame({'gender':['Male','Female','Male','Female']})\n",
    "df18"
   ]
  },
  {
   "cell_type": "code",
   "execution_count": 271,
   "metadata": {},
   "outputs": [
    {
     "data": {
      "text/html": [
       "<div>\n",
       "<style scoped>\n",
       "    .dataframe tbody tr th:only-of-type {\n",
       "        vertical-align: middle;\n",
       "    }\n",
       "\n",
       "    .dataframe tbody tr th {\n",
       "        vertical-align: top;\n",
       "    }\n",
       "\n",
       "    .dataframe thead th {\n",
       "        text-align: right;\n",
       "    }\n",
       "</style>\n",
       "<table border=\"1\" class=\"dataframe\">\n",
       "  <thead>\n",
       "    <tr style=\"text-align: right;\">\n",
       "      <th></th>\n",
       "      <th>gender</th>\n",
       "    </tr>\n",
       "  </thead>\n",
       "  <tbody>\n",
       "    <tr>\n",
       "      <td>0</td>\n",
       "      <td>Male</td>\n",
       "    </tr>\n",
       "    <tr>\n",
       "      <td>2</td>\n",
       "      <td>Male</td>\n",
       "    </tr>\n",
       "  </tbody>\n",
       "</table>\n",
       "</div>"
      ],
      "text/plain": [
       "  gender\n",
       "0   Male\n",
       "2   Male"
      ]
     },
     "execution_count": 271,
     "metadata": {},
     "output_type": "execute_result"
    }
   ],
   "source": [
    "males = df18[df18['gender'] == 'Male'] \n",
    "males"
   ]
  },
  {
   "cell_type": "code",
   "execution_count": 270,
   "metadata": {},
   "outputs": [
    {
     "name": "stderr",
     "output_type": "stream",
     "text": [
      "C:\\Users\\Venu1234\\Anaconda3\\lib\\site-packages\\ipykernel_launcher.py:1: SettingWithCopyWarning: \n",
      "A value is trying to be set on a copy of a slice from a DataFrame.\n",
      "Try using .loc[row_indexer,col_indexer] = value instead\n",
      "\n",
      "See the caveats in the documentation: http://pandas.pydata.org/pandas-docs/stable/user_guide/indexing.html#returning-a-view-versus-a-copy\n",
      "  \"\"\"Entry point for launching an IPython kernel.\n"
     ]
    }
   ],
   "source": [
    "males['abbervation'] ='M'"
   ]
  },
  {
   "cell_type": "markdown",
   "metadata": {},
   "source": [
    "### Solution: Use the \"copy\" method when copying a DataFrame!"
   ]
  },
  {
   "cell_type": "code",
   "execution_count": 272,
   "metadata": {},
   "outputs": [],
   "source": [
    "males = df18[df18['gender'] == 'Male'].copy()"
   ]
  },
  {
   "cell_type": "code",
   "execution_count": 273,
   "metadata": {},
   "outputs": [],
   "source": [
    "males['abbervation'] ='M'"
   ]
  },
  {
   "cell_type": "code",
   "execution_count": 274,
   "metadata": {},
   "outputs": [
    {
     "data": {
      "text/html": [
       "<div>\n",
       "<style scoped>\n",
       "    .dataframe tbody tr th:only-of-type {\n",
       "        vertical-align: middle;\n",
       "    }\n",
       "\n",
       "    .dataframe tbody tr th {\n",
       "        vertical-align: top;\n",
       "    }\n",
       "\n",
       "    .dataframe thead th {\n",
       "        text-align: right;\n",
       "    }\n",
       "</style>\n",
       "<table border=\"1\" class=\"dataframe\">\n",
       "  <thead>\n",
       "    <tr style=\"text-align: right;\">\n",
       "      <th></th>\n",
       "      <th>gender</th>\n",
       "      <th>abbervation</th>\n",
       "    </tr>\n",
       "  </thead>\n",
       "  <tbody>\n",
       "    <tr>\n",
       "      <td>0</td>\n",
       "      <td>Male</td>\n",
       "      <td>M</td>\n",
       "    </tr>\n",
       "    <tr>\n",
       "      <td>2</td>\n",
       "      <td>Male</td>\n",
       "      <td>M</td>\n",
       "    </tr>\n",
       "  </tbody>\n",
       "</table>\n",
       "</div>"
      ],
      "text/plain": [
       "  gender abbervation\n",
       "0   Male           M\n",
       "2   Male           M"
      ]
     },
     "execution_count": 274,
     "metadata": {},
     "output_type": "execute_result"
    }
   ],
   "source": [
    "males"
   ]
  },
  {
   "cell_type": "markdown",
   "metadata": {},
   "source": [
    "### Want to read a JSON file from the web? Use read_json() to read it directly from a URL into a DataFrame! "
   ]
  },
  {
   "cell_type": "code",
   "execution_count": 275,
   "metadata": {},
   "outputs": [
    {
     "data": {
      "text/html": [
       "<div>\n",
       "<style scoped>\n",
       "    .dataframe tbody tr th:only-of-type {\n",
       "        vertical-align: middle;\n",
       "    }\n",
       "\n",
       "    .dataframe tbody tr th {\n",
       "        vertical-align: top;\n",
       "    }\n",
       "\n",
       "    .dataframe thead th {\n",
       "        text-align: right;\n",
       "    }\n",
       "</style>\n",
       "<table border=\"1\" class=\"dataframe\">\n",
       "  <thead>\n",
       "    <tr style=\"text-align: right;\">\n",
       "      <th></th>\n",
       "      <th>id</th>\n",
       "      <th>node_id</th>\n",
       "      <th>name</th>\n",
       "      <th>full_name</th>\n",
       "      <th>private</th>\n",
       "      <th>owner</th>\n",
       "      <th>html_url</th>\n",
       "      <th>description</th>\n",
       "      <th>fork</th>\n",
       "      <th>url</th>\n",
       "      <th>...</th>\n",
       "      <th>forks_count</th>\n",
       "      <th>mirror_url</th>\n",
       "      <th>archived</th>\n",
       "      <th>disabled</th>\n",
       "      <th>open_issues_count</th>\n",
       "      <th>license</th>\n",
       "      <th>forks</th>\n",
       "      <th>open_issues</th>\n",
       "      <th>watchers</th>\n",
       "      <th>default_branch</th>\n",
       "    </tr>\n",
       "  </thead>\n",
       "  <tbody>\n",
       "    <tr>\n",
       "      <td>0</td>\n",
       "      <td>62405159</td>\n",
       "      <td>MDEwOlJlcG9zaXRvcnk2MjQwNTE1OQ==</td>\n",
       "      <td>awesome-datascience</td>\n",
       "      <td>justmarkham/awesome-datascience</td>\n",
       "      <td>False</td>\n",
       "      <td>{'login': 'justmarkham', 'id': 6509492, 'node_...</td>\n",
       "      <td>https://github.com/justmarkham/awesome-datasci...</td>\n",
       "      <td>:memo: An awesome Data Science repository to l...</td>\n",
       "      <td>True</td>\n",
       "      <td>https://api.github.com/repos/justmarkham/aweso...</td>\n",
       "      <td>...</td>\n",
       "      <td>56</td>\n",
       "      <td>NaN</td>\n",
       "      <td>False</td>\n",
       "      <td>False</td>\n",
       "      <td>0</td>\n",
       "      <td>{'key': 'mit', 'name': 'MIT License', 'spdx_id...</td>\n",
       "      <td>56</td>\n",
       "      <td>0</td>\n",
       "      <td>29</td>\n",
       "      <td>master</td>\n",
       "    </tr>\n",
       "    <tr>\n",
       "      <td>1</td>\n",
       "      <td>62405816</td>\n",
       "      <td>MDEwOlJlcG9zaXRvcnk2MjQwNTgxNg==</td>\n",
       "      <td>awesome-machine-learning</td>\n",
       "      <td>justmarkham/awesome-machine-learning</td>\n",
       "      <td>False</td>\n",
       "      <td>{'login': 'justmarkham', 'id': 6509492, 'node_...</td>\n",
       "      <td>https://github.com/justmarkham/awesome-machine...</td>\n",
       "      <td>A curated list of awesome Machine Learning fra...</td>\n",
       "      <td>True</td>\n",
       "      <td>https://api.github.com/repos/justmarkham/aweso...</td>\n",
       "      <td>...</td>\n",
       "      <td>45</td>\n",
       "      <td>NaN</td>\n",
       "      <td>False</td>\n",
       "      <td>False</td>\n",
       "      <td>0</td>\n",
       "      <td>{'key': 'other', 'name': 'Other', 'spdx_id': '...</td>\n",
       "      <td>45</td>\n",
       "      <td>0</td>\n",
       "      <td>18</td>\n",
       "      <td>master</td>\n",
       "    </tr>\n",
       "    <tr>\n",
       "      <td>2</td>\n",
       "      <td>24103978</td>\n",
       "      <td>MDEwOlJlcG9zaXRvcnkyNDEwMzk3OA==</td>\n",
       "      <td>babynames</td>\n",
       "      <td>justmarkham/babynames</td>\n",
       "      <td>False</td>\n",
       "      <td>{'login': 'justmarkham', 'id': 6509492, 'node_...</td>\n",
       "      <td>https://github.com/justmarkham/babynames</td>\n",
       "      <td>Baby Names by Birth Year</td>\n",
       "      <td>False</td>\n",
       "      <td>https://api.github.com/repos/justmarkham/babyn...</td>\n",
       "      <td>...</td>\n",
       "      <td>5</td>\n",
       "      <td>NaN</td>\n",
       "      <td>False</td>\n",
       "      <td>False</td>\n",
       "      <td>0</td>\n",
       "      <td>None</td>\n",
       "      <td>5</td>\n",
       "      <td>0</td>\n",
       "      <td>3</td>\n",
       "      <td>master</td>\n",
       "    </tr>\n",
       "    <tr>\n",
       "      <td>3</td>\n",
       "      <td>134311703</td>\n",
       "      <td>MDEwOlJlcG9zaXRvcnkxMzQzMTE3MDM=</td>\n",
       "      <td>challenges</td>\n",
       "      <td>justmarkham/challenges</td>\n",
       "      <td>False</td>\n",
       "      <td>{'login': 'justmarkham', 'id': 6509492, 'node_...</td>\n",
       "      <td>https://github.com/justmarkham/challenges</td>\n",
       "      <td>PyBites Code Challenges</td>\n",
       "      <td>True</td>\n",
       "      <td>https://api.github.com/repos/justmarkham/chall...</td>\n",
       "      <td>...</td>\n",
       "      <td>8</td>\n",
       "      <td>NaN</td>\n",
       "      <td>False</td>\n",
       "      <td>False</td>\n",
       "      <td>0</td>\n",
       "      <td>None</td>\n",
       "      <td>8</td>\n",
       "      <td>0</td>\n",
       "      <td>2</td>\n",
       "      <td>master</td>\n",
       "    </tr>\n",
       "    <tr>\n",
       "      <td>4</td>\n",
       "      <td>18948892</td>\n",
       "      <td>MDEwOlJlcG9zaXRvcnkxODk0ODg5Mg==</td>\n",
       "      <td>coursera-getting-data</td>\n",
       "      <td>justmarkham/coursera-getting-data</td>\n",
       "      <td>False</td>\n",
       "      <td>{'login': 'justmarkham', 'id': 6509492, 'node_...</td>\n",
       "      <td>https://github.com/justmarkham/coursera-gettin...</td>\n",
       "      <td>Class project for Coursera's \"Getting and Clea...</td>\n",
       "      <td>False</td>\n",
       "      <td>https://api.github.com/repos/justmarkham/cours...</td>\n",
       "      <td>...</td>\n",
       "      <td>59</td>\n",
       "      <td>NaN</td>\n",
       "      <td>False</td>\n",
       "      <td>False</td>\n",
       "      <td>0</td>\n",
       "      <td>None</td>\n",
       "      <td>59</td>\n",
       "      <td>0</td>\n",
       "      <td>6</td>\n",
       "      <td>master</td>\n",
       "    </tr>\n",
       "    <tr>\n",
       "      <td>5</td>\n",
       "      <td>17607592</td>\n",
       "      <td>MDEwOlJlcG9zaXRvcnkxNzYwNzU5Mg==</td>\n",
       "      <td>crisp-ghost-theme</td>\n",
       "      <td>justmarkham/crisp-ghost-theme</td>\n",
       "      <td>False</td>\n",
       "      <td>{'login': 'justmarkham', 'id': 6509492, 'node_...</td>\n",
       "      <td>https://github.com/justmarkham/crisp-ghost-theme</td>\n",
       "      <td>A minimalist, responsive, and open-source them...</td>\n",
       "      <td>True</td>\n",
       "      <td>https://api.github.com/repos/justmarkham/crisp...</td>\n",
       "      <td>...</td>\n",
       "      <td>1</td>\n",
       "      <td>NaN</td>\n",
       "      <td>False</td>\n",
       "      <td>False</td>\n",
       "      <td>0</td>\n",
       "      <td>None</td>\n",
       "      <td>1</td>\n",
       "      <td>0</td>\n",
       "      <td>3</td>\n",
       "      <td>master</td>\n",
       "    </tr>\n",
       "    <tr>\n",
       "      <td>6</td>\n",
       "      <td>24203980</td>\n",
       "      <td>MDEwOlJlcG9zaXRvcnkyNDIwMzk4MA==</td>\n",
       "      <td>DAT3</td>\n",
       "      <td>justmarkham/DAT3</td>\n",
       "      <td>False</td>\n",
       "      <td>{'login': 'justmarkham', 'id': 6509492, 'node_...</td>\n",
       "      <td>https://github.com/justmarkham/DAT3</td>\n",
       "      <td>General Assembly's Data Science course in Wash...</td>\n",
       "      <td>False</td>\n",
       "      <td>https://api.github.com/repos/justmarkham/DAT3</td>\n",
       "      <td>...</td>\n",
       "      <td>353</td>\n",
       "      <td>NaN</td>\n",
       "      <td>False</td>\n",
       "      <td>False</td>\n",
       "      <td>0</td>\n",
       "      <td>None</td>\n",
       "      <td>353</td>\n",
       "      <td>0</td>\n",
       "      <td>563</td>\n",
       "      <td>master</td>\n",
       "    </tr>\n",
       "    <tr>\n",
       "      <td>7</td>\n",
       "      <td>27836310</td>\n",
       "      <td>MDEwOlJlcG9zaXRvcnkyNzgzNjMxMA==</td>\n",
       "      <td>DAT4</td>\n",
       "      <td>justmarkham/DAT4</td>\n",
       "      <td>False</td>\n",
       "      <td>{'login': 'justmarkham', 'id': 6509492, 'node_...</td>\n",
       "      <td>https://github.com/justmarkham/DAT4</td>\n",
       "      <td>General Assembly's Data Science course in Wash...</td>\n",
       "      <td>False</td>\n",
       "      <td>https://api.github.com/repos/justmarkham/DAT4</td>\n",
       "      <td>...</td>\n",
       "      <td>615</td>\n",
       "      <td>NaN</td>\n",
       "      <td>False</td>\n",
       "      <td>False</td>\n",
       "      <td>1</td>\n",
       "      <td>None</td>\n",
       "      <td>615</td>\n",
       "      <td>1</td>\n",
       "      <td>713</td>\n",
       "      <td>master</td>\n",
       "    </tr>\n",
       "    <tr>\n",
       "      <td>8</td>\n",
       "      <td>31725376</td>\n",
       "      <td>MDEwOlJlcG9zaXRvcnkzMTcyNTM3Ng==</td>\n",
       "      <td>DAT5</td>\n",
       "      <td>justmarkham/DAT5</td>\n",
       "      <td>False</td>\n",
       "      <td>{'login': 'justmarkham', 'id': 6509492, 'node_...</td>\n",
       "      <td>https://github.com/justmarkham/DAT5</td>\n",
       "      <td>General Assembly's Data Science course in Wash...</td>\n",
       "      <td>False</td>\n",
       "      <td>https://api.github.com/repos/justmarkham/DAT5</td>\n",
       "      <td>...</td>\n",
       "      <td>179</td>\n",
       "      <td>NaN</td>\n",
       "      <td>False</td>\n",
       "      <td>False</td>\n",
       "      <td>0</td>\n",
       "      <td>None</td>\n",
       "      <td>179</td>\n",
       "      <td>0</td>\n",
       "      <td>155</td>\n",
       "      <td>master</td>\n",
       "    </tr>\n",
       "    <tr>\n",
       "      <td>9</td>\n",
       "      <td>35706622</td>\n",
       "      <td>MDEwOlJlcG9zaXRvcnkzNTcwNjYyMg==</td>\n",
       "      <td>DAT7</td>\n",
       "      <td>justmarkham/DAT7</td>\n",
       "      <td>False</td>\n",
       "      <td>{'login': 'justmarkham', 'id': 6509492, 'node_...</td>\n",
       "      <td>https://github.com/justmarkham/DAT7</td>\n",
       "      <td>General Assembly's Data Science course in Wash...</td>\n",
       "      <td>False</td>\n",
       "      <td>https://api.github.com/repos/justmarkham/DAT7</td>\n",
       "      <td>...</td>\n",
       "      <td>189</td>\n",
       "      <td>NaN</td>\n",
       "      <td>False</td>\n",
       "      <td>False</td>\n",
       "      <td>0</td>\n",
       "      <td>None</td>\n",
       "      <td>189</td>\n",
       "      <td>0</td>\n",
       "      <td>218</td>\n",
       "      <td>master</td>\n",
       "    </tr>\n",
       "    <tr>\n",
       "      <td>10</td>\n",
       "      <td>40339399</td>\n",
       "      <td>MDEwOlJlcG9zaXRvcnk0MDMzOTM5OQ==</td>\n",
       "      <td>DAT8</td>\n",
       "      <td>justmarkham/DAT8</td>\n",
       "      <td>False</td>\n",
       "      <td>{'login': 'justmarkham', 'id': 6509492, 'node_...</td>\n",
       "      <td>https://github.com/justmarkham/DAT8</td>\n",
       "      <td>General Assembly's 2015 Data Science course in...</td>\n",
       "      <td>False</td>\n",
       "      <td>https://api.github.com/repos/justmarkham/DAT8</td>\n",
       "      <td>...</td>\n",
       "      <td>803</td>\n",
       "      <td>NaN</td>\n",
       "      <td>False</td>\n",
       "      <td>False</td>\n",
       "      <td>0</td>\n",
       "      <td>None</td>\n",
       "      <td>803</td>\n",
       "      <td>0</td>\n",
       "      <td>1413</td>\n",
       "      <td>master</td>\n",
       "    </tr>\n",
       "    <tr>\n",
       "      <td>11</td>\n",
       "      <td>91817632</td>\n",
       "      <td>MDEwOlJlcG9zaXRvcnk5MTgxNzYzMg==</td>\n",
       "      <td>data</td>\n",
       "      <td>justmarkham/data</td>\n",
       "      <td>False</td>\n",
       "      <td>{'login': 'justmarkham', 'id': 6509492, 'node_...</td>\n",
       "      <td>https://github.com/justmarkham/data</td>\n",
       "      <td>Python related videos and metadata powering =&gt;</td>\n",
       "      <td>True</td>\n",
       "      <td>https://api.github.com/repos/justmarkham/data</td>\n",
       "      <td>...</td>\n",
       "      <td>7</td>\n",
       "      <td>NaN</td>\n",
       "      <td>False</td>\n",
       "      <td>False</td>\n",
       "      <td>0</td>\n",
       "      <td>{'key': 'other', 'name': 'Other', 'spdx_id': '...</td>\n",
       "      <td>7</td>\n",
       "      <td>0</td>\n",
       "      <td>8</td>\n",
       "      <td>master</td>\n",
       "    </tr>\n",
       "    <tr>\n",
       "      <td>12</td>\n",
       "      <td>62400414</td>\n",
       "      <td>MDEwOlJlcG9zaXRvcnk2MjQwMDQxNA==</td>\n",
       "      <td>DataSciencePython</td>\n",
       "      <td>justmarkham/DataSciencePython</td>\n",
       "      <td>False</td>\n",
       "      <td>{'login': 'justmarkham', 'id': 6509492, 'node_...</td>\n",
       "      <td>https://github.com/justmarkham/DataSciencePython</td>\n",
       "      <td>common data analysis and machine learning task...</td>\n",
       "      <td>True</td>\n",
       "      <td>https://api.github.com/repos/justmarkham/DataS...</td>\n",
       "      <td>...</td>\n",
       "      <td>46</td>\n",
       "      <td>NaN</td>\n",
       "      <td>False</td>\n",
       "      <td>False</td>\n",
       "      <td>0</td>\n",
       "      <td>{'key': 'mit', 'name': 'MIT License', 'spdx_id...</td>\n",
       "      <td>46</td>\n",
       "      <td>0</td>\n",
       "      <td>17</td>\n",
       "      <td>master</td>\n",
       "    </tr>\n",
       "    <tr>\n",
       "      <td>13</td>\n",
       "      <td>22977305</td>\n",
       "      <td>MDEwOlJlcG9zaXRvcnkyMjk3NzMwNQ==</td>\n",
       "      <td>DataScienceSpecialization.github.io</td>\n",
       "      <td>justmarkham/DataScienceSpecialization.github.io</td>\n",
       "      <td>False</td>\n",
       "      <td>{'login': 'justmarkham', 'id': 6509492, 'node_...</td>\n",
       "      <td>https://github.com/justmarkham/DataScienceSpec...</td>\n",
       "      <td>http://DataScienceSpecialization.github.io</td>\n",
       "      <td>True</td>\n",
       "      <td>https://api.github.com/repos/justmarkham/DataS...</td>\n",
       "      <td>...</td>\n",
       "      <td>22</td>\n",
       "      <td>NaN</td>\n",
       "      <td>False</td>\n",
       "      <td>False</td>\n",
       "      <td>0</td>\n",
       "      <td>None</td>\n",
       "      <td>22</td>\n",
       "      <td>0</td>\n",
       "      <td>7</td>\n",
       "      <td>master</td>\n",
       "    </tr>\n",
       "    <tr>\n",
       "      <td>14</td>\n",
       "      <td>70764269</td>\n",
       "      <td>MDEwOlJlcG9zaXRvcnk3MDc2NDI2OQ==</td>\n",
       "      <td>dc-michelin-challenge</td>\n",
       "      <td>justmarkham/dc-michelin-challenge</td>\n",
       "      <td>False</td>\n",
       "      <td>{'login': 'justmarkham', 'id': 6509492, 'node_...</td>\n",
       "      <td>https://github.com/justmarkham/dc-michelin-cha...</td>\n",
       "      <td>Guess the correct restaurants on DC's Michelin...</td>\n",
       "      <td>True</td>\n",
       "      <td>https://api.github.com/repos/justmarkham/dc-mi...</td>\n",
       "      <td>...</td>\n",
       "      <td>5</td>\n",
       "      <td>NaN</td>\n",
       "      <td>False</td>\n",
       "      <td>False</td>\n",
       "      <td>0</td>\n",
       "      <td>None</td>\n",
       "      <td>5</td>\n",
       "      <td>0</td>\n",
       "      <td>2</td>\n",
       "      <td>master</td>\n",
       "    </tr>\n",
       "    <tr>\n",
       "      <td>15</td>\n",
       "      <td>24485567</td>\n",
       "      <td>MDEwOlJlcG9zaXRvcnkyNDQ4NTU2Nw==</td>\n",
       "      <td>dplyr-tutorial</td>\n",
       "      <td>justmarkham/dplyr-tutorial</td>\n",
       "      <td>False</td>\n",
       "      <td>{'login': 'justmarkham', 'id': 6509492, 'node_...</td>\n",
       "      <td>https://github.com/justmarkham/dplyr-tutorial</td>\n",
       "      <td>Tutorials for the dplyr package in R</td>\n",
       "      <td>False</td>\n",
       "      <td>https://api.github.com/repos/justmarkham/dplyr...</td>\n",
       "      <td>...</td>\n",
       "      <td>214</td>\n",
       "      <td>NaN</td>\n",
       "      <td>False</td>\n",
       "      <td>False</td>\n",
       "      <td>0</td>\n",
       "      <td>None</td>\n",
       "      <td>214</td>\n",
       "      <td>0</td>\n",
       "      <td>128</td>\n",
       "      <td>master</td>\n",
       "    </tr>\n",
       "    <tr>\n",
       "      <td>16</td>\n",
       "      <td>20429201</td>\n",
       "      <td>MDEwOlJlcG9zaXRvcnkyMDQyOTIwMQ==</td>\n",
       "      <td>ExData_Plotting1</td>\n",
       "      <td>justmarkham/ExData_Plotting1</td>\n",
       "      <td>False</td>\n",
       "      <td>{'login': 'justmarkham', 'id': 6509492, 'node_...</td>\n",
       "      <td>https://github.com/justmarkham/ExData_Plotting1</td>\n",
       "      <td>Plotting Assignment 1 for Exploratory Data Ana...</td>\n",
       "      <td>True</td>\n",
       "      <td>https://api.github.com/repos/justmarkham/ExDat...</td>\n",
       "      <td>...</td>\n",
       "      <td>0</td>\n",
       "      <td>NaN</td>\n",
       "      <td>False</td>\n",
       "      <td>False</td>\n",
       "      <td>0</td>\n",
       "      <td>None</td>\n",
       "      <td>0</td>\n",
       "      <td>0</td>\n",
       "      <td>1</td>\n",
       "      <td>master</td>\n",
       "    </tr>\n",
       "    <tr>\n",
       "      <td>17</td>\n",
       "      <td>17595106</td>\n",
       "      <td>MDEwOlJlcG9zaXRvcnkxNzU5NTEwNg==</td>\n",
       "      <td>gadsdc</td>\n",
       "      <td>justmarkham/gadsdc</td>\n",
       "      <td>False</td>\n",
       "      <td>{'login': 'justmarkham', 'id': 6509492, 'node_...</td>\n",
       "      <td>https://github.com/justmarkham/gadsdc</td>\n",
       "      <td>GA DS DC</td>\n",
       "      <td>True</td>\n",
       "      <td>https://api.github.com/repos/justmarkham/gadsdc</td>\n",
       "      <td>...</td>\n",
       "      <td>8</td>\n",
       "      <td>NaN</td>\n",
       "      <td>False</td>\n",
       "      <td>False</td>\n",
       "      <td>0</td>\n",
       "      <td>None</td>\n",
       "      <td>8</td>\n",
       "      <td>0</td>\n",
       "      <td>7</td>\n",
       "      <td>master</td>\n",
       "    </tr>\n",
       "    <tr>\n",
       "      <td>18</td>\n",
       "      <td>19439163</td>\n",
       "      <td>MDEwOlJlcG9zaXRvcnkxOTQzOTE2Mw==</td>\n",
       "      <td>kaggle-allstate</td>\n",
       "      <td>justmarkham/kaggle-allstate</td>\n",
       "      <td>False</td>\n",
       "      <td>{'login': 'justmarkham', 'id': 6509492, 'node_...</td>\n",
       "      <td>https://github.com/justmarkham/kaggle-allstate</td>\n",
       "      <td>Allstate Purchase Prediction Challenge on Kaggle</td>\n",
       "      <td>False</td>\n",
       "      <td>https://api.github.com/repos/justmarkham/kaggl...</td>\n",
       "      <td>...</td>\n",
       "      <td>85</td>\n",
       "      <td>NaN</td>\n",
       "      <td>False</td>\n",
       "      <td>False</td>\n",
       "      <td>0</td>\n",
       "      <td>None</td>\n",
       "      <td>85</td>\n",
       "      <td>0</td>\n",
       "      <td>55</td>\n",
       "      <td>master</td>\n",
       "    </tr>\n",
       "    <tr>\n",
       "      <td>19</td>\n",
       "      <td>33689590</td>\n",
       "      <td>MDEwOlJlcG9zaXRvcnkzMzY4OTU5MA==</td>\n",
       "      <td>kaggle-pycon-2015</td>\n",
       "      <td>justmarkham/kaggle-pycon-2015</td>\n",
       "      <td>False</td>\n",
       "      <td>{'login': 'justmarkham', 'id': 6509492, 'node_...</td>\n",
       "      <td>https://github.com/justmarkham/kaggle-pycon-2015</td>\n",
       "      <td>Solution code from my winning submission to Ka...</td>\n",
       "      <td>False</td>\n",
       "      <td>https://api.github.com/repos/justmarkham/kaggl...</td>\n",
       "      <td>...</td>\n",
       "      <td>42</td>\n",
       "      <td>NaN</td>\n",
       "      <td>False</td>\n",
       "      <td>False</td>\n",
       "      <td>0</td>\n",
       "      <td>None</td>\n",
       "      <td>42</td>\n",
       "      <td>0</td>\n",
       "      <td>54</td>\n",
       "      <td>master</td>\n",
       "    </tr>\n",
       "    <tr>\n",
       "      <td>20</td>\n",
       "      <td>72165131</td>\n",
       "      <td>MDEwOlJlcG9zaXRvcnk3MjE2NTEzMQ==</td>\n",
       "      <td>machine-learning-for-software-engineers</td>\n",
       "      <td>justmarkham/machine-learning-for-software-engi...</td>\n",
       "      <td>False</td>\n",
       "      <td>{'login': 'justmarkham', 'id': 6509492, 'node_...</td>\n",
       "      <td>https://github.com/justmarkham/machine-learnin...</td>\n",
       "      <td>A complete daily plan for studying to become a...</td>\n",
       "      <td>True</td>\n",
       "      <td>https://api.github.com/repos/justmarkham/machi...</td>\n",
       "      <td>...</td>\n",
       "      <td>48</td>\n",
       "      <td>NaN</td>\n",
       "      <td>False</td>\n",
       "      <td>False</td>\n",
       "      <td>0</td>\n",
       "      <td>{'key': 'cc-by-sa-4.0', 'name': 'Creative Comm...</td>\n",
       "      <td>48</td>\n",
       "      <td>0</td>\n",
       "      <td>34</td>\n",
       "      <td>master</td>\n",
       "    </tr>\n",
       "    <tr>\n",
       "      <td>21</td>\n",
       "      <td>62402550</td>\n",
       "      <td>MDEwOlJlcG9zaXRvcnk2MjQwMjU1MA==</td>\n",
       "      <td>Machine-Learning-Tutorials</td>\n",
       "      <td>justmarkham/Machine-Learning-Tutorials</td>\n",
       "      <td>False</td>\n",
       "      <td>{'login': 'justmarkham', 'id': 6509492, 'node_...</td>\n",
       "      <td>https://github.com/justmarkham/Machine-Learnin...</td>\n",
       "      <td>machine learning and deep learning tutorials, ...</td>\n",
       "      <td>True</td>\n",
       "      <td>https://api.github.com/repos/justmarkham/Machi...</td>\n",
       "      <td>...</td>\n",
       "      <td>40</td>\n",
       "      <td>NaN</td>\n",
       "      <td>False</td>\n",
       "      <td>False</td>\n",
       "      <td>0</td>\n",
       "      <td>{'key': 'cc0-1.0', 'name': 'Creative Commons Z...</td>\n",
       "      <td>40</td>\n",
       "      <td>0</td>\n",
       "      <td>19</td>\n",
       "      <td>master</td>\n",
       "    </tr>\n",
       "    <tr>\n",
       "      <td>22</td>\n",
       "      <td>55170630</td>\n",
       "      <td>MDEwOlJlcG9zaXRvcnk1NTE3MDYzMA==</td>\n",
       "      <td>pandas-videos</td>\n",
       "      <td>justmarkham/pandas-videos</td>\n",
       "      <td>False</td>\n",
       "      <td>{'login': 'justmarkham', 'id': 6509492, 'node_...</td>\n",
       "      <td>https://github.com/justmarkham/pandas-videos</td>\n",
       "      <td>Jupyter notebook and datasets from the pandas ...</td>\n",
       "      <td>False</td>\n",
       "      <td>https://api.github.com/repos/justmarkham/panda...</td>\n",
       "      <td>...</td>\n",
       "      <td>960</td>\n",
       "      <td>NaN</td>\n",
       "      <td>False</td>\n",
       "      <td>False</td>\n",
       "      <td>0</td>\n",
       "      <td>None</td>\n",
       "      <td>960</td>\n",
       "      <td>0</td>\n",
       "      <td>997</td>\n",
       "      <td>master</td>\n",
       "    </tr>\n",
       "    <tr>\n",
       "      <td>23</td>\n",
       "      <td>23241244</td>\n",
       "      <td>MDEwOlJlcG9zaXRvcnkyMzI0MTI0NA==</td>\n",
       "      <td>PracticalMachineLearning</td>\n",
       "      <td>justmarkham/PracticalMachineLearning</td>\n",
       "      <td>False</td>\n",
       "      <td>{'login': 'justmarkham', 'id': 6509492, 'node_...</td>\n",
       "      <td>https://github.com/justmarkham/PracticalMachin...</td>\n",
       "      <td>Course project for Practical Machine Learning:...</td>\n",
       "      <td>False</td>\n",
       "      <td>https://api.github.com/repos/justmarkham/Pract...</td>\n",
       "      <td>...</td>\n",
       "      <td>20</td>\n",
       "      <td>NaN</td>\n",
       "      <td>False</td>\n",
       "      <td>False</td>\n",
       "      <td>0</td>\n",
       "      <td>None</td>\n",
       "      <td>20</td>\n",
       "      <td>0</td>\n",
       "      <td>8</td>\n",
       "      <td>master</td>\n",
       "    </tr>\n",
       "    <tr>\n",
       "      <td>24</td>\n",
       "      <td>58676336</td>\n",
       "      <td>MDEwOlJlcG9zaXRvcnk1ODY3NjMzNg==</td>\n",
       "      <td>pycon-2016-tutorial</td>\n",
       "      <td>justmarkham/pycon-2016-tutorial</td>\n",
       "      <td>False</td>\n",
       "      <td>{'login': 'justmarkham', 'id': 6509492, 'node_...</td>\n",
       "      <td>https://github.com/justmarkham/pycon-2016-tuto...</td>\n",
       "      <td>Machine Learning with Text in scikit-learn</td>\n",
       "      <td>False</td>\n",
       "      <td>https://api.github.com/repos/justmarkham/pycon...</td>\n",
       "      <td>...</td>\n",
       "      <td>359</td>\n",
       "      <td>NaN</td>\n",
       "      <td>False</td>\n",
       "      <td>False</td>\n",
       "      <td>0</td>\n",
       "      <td>None</td>\n",
       "      <td>359</td>\n",
       "      <td>0</td>\n",
       "      <td>363</td>\n",
       "      <td>master</td>\n",
       "    </tr>\n",
       "    <tr>\n",
       "      <td>25</td>\n",
       "      <td>131751236</td>\n",
       "      <td>MDEwOlJlcG9zaXRvcnkxMzE3NTEyMzY=</td>\n",
       "      <td>pycon-2018-tutorial</td>\n",
       "      <td>justmarkham/pycon-2018-tutorial</td>\n",
       "      <td>False</td>\n",
       "      <td>{'login': 'justmarkham', 'id': 6509492, 'node_...</td>\n",
       "      <td>https://github.com/justmarkham/pycon-2018-tuto...</td>\n",
       "      <td>Using pandas for Better (and Worse) Data Science</td>\n",
       "      <td>False</td>\n",
       "      <td>https://api.github.com/repos/justmarkham/pycon...</td>\n",
       "      <td>...</td>\n",
       "      <td>181</td>\n",
       "      <td>NaN</td>\n",
       "      <td>False</td>\n",
       "      <td>False</td>\n",
       "      <td>1</td>\n",
       "      <td>None</td>\n",
       "      <td>181</td>\n",
       "      <td>1</td>\n",
       "      <td>249</td>\n",
       "      <td>master</td>\n",
       "    </tr>\n",
       "    <tr>\n",
       "      <td>26</td>\n",
       "      <td>181329476</td>\n",
       "      <td>MDEwOlJlcG9zaXRvcnkxODEzMjk0NzY=</td>\n",
       "      <td>pycon-2019-tutorial</td>\n",
       "      <td>justmarkham/pycon-2019-tutorial</td>\n",
       "      <td>False</td>\n",
       "      <td>{'login': 'justmarkham', 'id': 6509492, 'node_...</td>\n",
       "      <td>https://github.com/justmarkham/pycon-2019-tuto...</td>\n",
       "      <td>Data Science Best Practices with pandas</td>\n",
       "      <td>False</td>\n",
       "      <td>https://api.github.com/repos/justmarkham/pycon...</td>\n",
       "      <td>...</td>\n",
       "      <td>130</td>\n",
       "      <td>NaN</td>\n",
       "      <td>False</td>\n",
       "      <td>False</td>\n",
       "      <td>0</td>\n",
       "      <td>None</td>\n",
       "      <td>130</td>\n",
       "      <td>0</td>\n",
       "      <td>228</td>\n",
       "      <td>master</td>\n",
       "    </tr>\n",
       "    <tr>\n",
       "      <td>27</td>\n",
       "      <td>69572382</td>\n",
       "      <td>MDEwOlJlcG9zaXRvcnk2OTU3MjM4Mg==</td>\n",
       "      <td>pydata-dc-2016-tutorial</td>\n",
       "      <td>justmarkham/pydata-dc-2016-tutorial</td>\n",
       "      <td>False</td>\n",
       "      <td>{'login': 'justmarkham', 'id': 6509492, 'node_...</td>\n",
       "      <td>https://github.com/justmarkham/pydata-dc-2016-...</td>\n",
       "      <td>Tutorial: Machine Learning with Text in scikit...</td>\n",
       "      <td>False</td>\n",
       "      <td>https://api.github.com/repos/justmarkham/pydat...</td>\n",
       "      <td>...</td>\n",
       "      <td>82</td>\n",
       "      <td>NaN</td>\n",
       "      <td>False</td>\n",
       "      <td>False</td>\n",
       "      <td>0</td>\n",
       "      <td>None</td>\n",
       "      <td>82</td>\n",
       "      <td>0</td>\n",
       "      <td>66</td>\n",
       "      <td>master</td>\n",
       "    </tr>\n",
       "    <tr>\n",
       "      <td>28</td>\n",
       "      <td>25370867</td>\n",
       "      <td>MDEwOlJlcG9zaXRvcnkyNTM3MDg2Nw==</td>\n",
       "      <td>python-data-analysis-workshop</td>\n",
       "      <td>justmarkham/python-data-analysis-workshop</td>\n",
       "      <td>False</td>\n",
       "      <td>{'login': 'justmarkham', 'id': 6509492, 'node_...</td>\n",
       "      <td>https://github.com/justmarkham/python-data-ana...</td>\n",
       "      <td>Workshop: Intro to Python for Data Analysis</td>\n",
       "      <td>False</td>\n",
       "      <td>https://api.github.com/repos/justmarkham/pytho...</td>\n",
       "      <td>...</td>\n",
       "      <td>50</td>\n",
       "      <td>NaN</td>\n",
       "      <td>False</td>\n",
       "      <td>False</td>\n",
       "      <td>0</td>\n",
       "      <td>None</td>\n",
       "      <td>50</td>\n",
       "      <td>0</td>\n",
       "      <td>54</td>\n",
       "      <td>master</td>\n",
       "    </tr>\n",
       "    <tr>\n",
       "      <td>29</td>\n",
       "      <td>27021153</td>\n",
       "      <td>MDEwOlJlcG9zaXRvcnkyNzAyMTE1Mw==</td>\n",
       "      <td>python-data-science-workshop</td>\n",
       "      <td>justmarkham/python-data-science-workshop</td>\n",
       "      <td>False</td>\n",
       "      <td>{'login': 'justmarkham', 'id': 6509492, 'node_...</td>\n",
       "      <td>https://github.com/justmarkham/python-data-sci...</td>\n",
       "      <td>Workshop: Python for Data Science</td>\n",
       "      <td>False</td>\n",
       "      <td>https://api.github.com/repos/justmarkham/pytho...</td>\n",
       "      <td>...</td>\n",
       "      <td>50</td>\n",
       "      <td>NaN</td>\n",
       "      <td>False</td>\n",
       "      <td>False</td>\n",
       "      <td>0</td>\n",
       "      <td>None</td>\n",
       "      <td>50</td>\n",
       "      <td>0</td>\n",
       "      <td>47</td>\n",
       "      <td>master</td>\n",
       "    </tr>\n",
       "  </tbody>\n",
       "</table>\n",
       "<p>30 rows × 73 columns</p>\n",
       "</div>"
      ],
      "text/plain": [
       "           id                           node_id  \\\n",
       "0    62405159  MDEwOlJlcG9zaXRvcnk2MjQwNTE1OQ==   \n",
       "1    62405816  MDEwOlJlcG9zaXRvcnk2MjQwNTgxNg==   \n",
       "2    24103978  MDEwOlJlcG9zaXRvcnkyNDEwMzk3OA==   \n",
       "3   134311703  MDEwOlJlcG9zaXRvcnkxMzQzMTE3MDM=   \n",
       "4    18948892  MDEwOlJlcG9zaXRvcnkxODk0ODg5Mg==   \n",
       "5    17607592  MDEwOlJlcG9zaXRvcnkxNzYwNzU5Mg==   \n",
       "6    24203980  MDEwOlJlcG9zaXRvcnkyNDIwMzk4MA==   \n",
       "7    27836310  MDEwOlJlcG9zaXRvcnkyNzgzNjMxMA==   \n",
       "8    31725376  MDEwOlJlcG9zaXRvcnkzMTcyNTM3Ng==   \n",
       "9    35706622  MDEwOlJlcG9zaXRvcnkzNTcwNjYyMg==   \n",
       "10   40339399  MDEwOlJlcG9zaXRvcnk0MDMzOTM5OQ==   \n",
       "11   91817632  MDEwOlJlcG9zaXRvcnk5MTgxNzYzMg==   \n",
       "12   62400414  MDEwOlJlcG9zaXRvcnk2MjQwMDQxNA==   \n",
       "13   22977305  MDEwOlJlcG9zaXRvcnkyMjk3NzMwNQ==   \n",
       "14   70764269  MDEwOlJlcG9zaXRvcnk3MDc2NDI2OQ==   \n",
       "15   24485567  MDEwOlJlcG9zaXRvcnkyNDQ4NTU2Nw==   \n",
       "16   20429201  MDEwOlJlcG9zaXRvcnkyMDQyOTIwMQ==   \n",
       "17   17595106  MDEwOlJlcG9zaXRvcnkxNzU5NTEwNg==   \n",
       "18   19439163  MDEwOlJlcG9zaXRvcnkxOTQzOTE2Mw==   \n",
       "19   33689590  MDEwOlJlcG9zaXRvcnkzMzY4OTU5MA==   \n",
       "20   72165131  MDEwOlJlcG9zaXRvcnk3MjE2NTEzMQ==   \n",
       "21   62402550  MDEwOlJlcG9zaXRvcnk2MjQwMjU1MA==   \n",
       "22   55170630  MDEwOlJlcG9zaXRvcnk1NTE3MDYzMA==   \n",
       "23   23241244  MDEwOlJlcG9zaXRvcnkyMzI0MTI0NA==   \n",
       "24   58676336  MDEwOlJlcG9zaXRvcnk1ODY3NjMzNg==   \n",
       "25  131751236  MDEwOlJlcG9zaXRvcnkxMzE3NTEyMzY=   \n",
       "26  181329476  MDEwOlJlcG9zaXRvcnkxODEzMjk0NzY=   \n",
       "27   69572382  MDEwOlJlcG9zaXRvcnk2OTU3MjM4Mg==   \n",
       "28   25370867  MDEwOlJlcG9zaXRvcnkyNTM3MDg2Nw==   \n",
       "29   27021153  MDEwOlJlcG9zaXRvcnkyNzAyMTE1Mw==   \n",
       "\n",
       "                                       name  \\\n",
       "0                       awesome-datascience   \n",
       "1                  awesome-machine-learning   \n",
       "2                                 babynames   \n",
       "3                                challenges   \n",
       "4                     coursera-getting-data   \n",
       "5                         crisp-ghost-theme   \n",
       "6                                      DAT3   \n",
       "7                                      DAT4   \n",
       "8                                      DAT5   \n",
       "9                                      DAT7   \n",
       "10                                     DAT8   \n",
       "11                                     data   \n",
       "12                        DataSciencePython   \n",
       "13      DataScienceSpecialization.github.io   \n",
       "14                    dc-michelin-challenge   \n",
       "15                           dplyr-tutorial   \n",
       "16                         ExData_Plotting1   \n",
       "17                                   gadsdc   \n",
       "18                          kaggle-allstate   \n",
       "19                        kaggle-pycon-2015   \n",
       "20  machine-learning-for-software-engineers   \n",
       "21               Machine-Learning-Tutorials   \n",
       "22                            pandas-videos   \n",
       "23                 PracticalMachineLearning   \n",
       "24                      pycon-2016-tutorial   \n",
       "25                      pycon-2018-tutorial   \n",
       "26                      pycon-2019-tutorial   \n",
       "27                  pydata-dc-2016-tutorial   \n",
       "28            python-data-analysis-workshop   \n",
       "29             python-data-science-workshop   \n",
       "\n",
       "                                            full_name  private  \\\n",
       "0                     justmarkham/awesome-datascience    False   \n",
       "1                justmarkham/awesome-machine-learning    False   \n",
       "2                               justmarkham/babynames    False   \n",
       "3                              justmarkham/challenges    False   \n",
       "4                   justmarkham/coursera-getting-data    False   \n",
       "5                       justmarkham/crisp-ghost-theme    False   \n",
       "6                                    justmarkham/DAT3    False   \n",
       "7                                    justmarkham/DAT4    False   \n",
       "8                                    justmarkham/DAT5    False   \n",
       "9                                    justmarkham/DAT7    False   \n",
       "10                                   justmarkham/DAT8    False   \n",
       "11                                   justmarkham/data    False   \n",
       "12                      justmarkham/DataSciencePython    False   \n",
       "13    justmarkham/DataScienceSpecialization.github.io    False   \n",
       "14                  justmarkham/dc-michelin-challenge    False   \n",
       "15                         justmarkham/dplyr-tutorial    False   \n",
       "16                       justmarkham/ExData_Plotting1    False   \n",
       "17                                 justmarkham/gadsdc    False   \n",
       "18                        justmarkham/kaggle-allstate    False   \n",
       "19                      justmarkham/kaggle-pycon-2015    False   \n",
       "20  justmarkham/machine-learning-for-software-engi...    False   \n",
       "21             justmarkham/Machine-Learning-Tutorials    False   \n",
       "22                          justmarkham/pandas-videos    False   \n",
       "23               justmarkham/PracticalMachineLearning    False   \n",
       "24                    justmarkham/pycon-2016-tutorial    False   \n",
       "25                    justmarkham/pycon-2018-tutorial    False   \n",
       "26                    justmarkham/pycon-2019-tutorial    False   \n",
       "27                justmarkham/pydata-dc-2016-tutorial    False   \n",
       "28          justmarkham/python-data-analysis-workshop    False   \n",
       "29           justmarkham/python-data-science-workshop    False   \n",
       "\n",
       "                                                owner  \\\n",
       "0   {'login': 'justmarkham', 'id': 6509492, 'node_...   \n",
       "1   {'login': 'justmarkham', 'id': 6509492, 'node_...   \n",
       "2   {'login': 'justmarkham', 'id': 6509492, 'node_...   \n",
       "3   {'login': 'justmarkham', 'id': 6509492, 'node_...   \n",
       "4   {'login': 'justmarkham', 'id': 6509492, 'node_...   \n",
       "5   {'login': 'justmarkham', 'id': 6509492, 'node_...   \n",
       "6   {'login': 'justmarkham', 'id': 6509492, 'node_...   \n",
       "7   {'login': 'justmarkham', 'id': 6509492, 'node_...   \n",
       "8   {'login': 'justmarkham', 'id': 6509492, 'node_...   \n",
       "9   {'login': 'justmarkham', 'id': 6509492, 'node_...   \n",
       "10  {'login': 'justmarkham', 'id': 6509492, 'node_...   \n",
       "11  {'login': 'justmarkham', 'id': 6509492, 'node_...   \n",
       "12  {'login': 'justmarkham', 'id': 6509492, 'node_...   \n",
       "13  {'login': 'justmarkham', 'id': 6509492, 'node_...   \n",
       "14  {'login': 'justmarkham', 'id': 6509492, 'node_...   \n",
       "15  {'login': 'justmarkham', 'id': 6509492, 'node_...   \n",
       "16  {'login': 'justmarkham', 'id': 6509492, 'node_...   \n",
       "17  {'login': 'justmarkham', 'id': 6509492, 'node_...   \n",
       "18  {'login': 'justmarkham', 'id': 6509492, 'node_...   \n",
       "19  {'login': 'justmarkham', 'id': 6509492, 'node_...   \n",
       "20  {'login': 'justmarkham', 'id': 6509492, 'node_...   \n",
       "21  {'login': 'justmarkham', 'id': 6509492, 'node_...   \n",
       "22  {'login': 'justmarkham', 'id': 6509492, 'node_...   \n",
       "23  {'login': 'justmarkham', 'id': 6509492, 'node_...   \n",
       "24  {'login': 'justmarkham', 'id': 6509492, 'node_...   \n",
       "25  {'login': 'justmarkham', 'id': 6509492, 'node_...   \n",
       "26  {'login': 'justmarkham', 'id': 6509492, 'node_...   \n",
       "27  {'login': 'justmarkham', 'id': 6509492, 'node_...   \n",
       "28  {'login': 'justmarkham', 'id': 6509492, 'node_...   \n",
       "29  {'login': 'justmarkham', 'id': 6509492, 'node_...   \n",
       "\n",
       "                                             html_url  \\\n",
       "0   https://github.com/justmarkham/awesome-datasci...   \n",
       "1   https://github.com/justmarkham/awesome-machine...   \n",
       "2            https://github.com/justmarkham/babynames   \n",
       "3           https://github.com/justmarkham/challenges   \n",
       "4   https://github.com/justmarkham/coursera-gettin...   \n",
       "5    https://github.com/justmarkham/crisp-ghost-theme   \n",
       "6                 https://github.com/justmarkham/DAT3   \n",
       "7                 https://github.com/justmarkham/DAT4   \n",
       "8                 https://github.com/justmarkham/DAT5   \n",
       "9                 https://github.com/justmarkham/DAT7   \n",
       "10                https://github.com/justmarkham/DAT8   \n",
       "11                https://github.com/justmarkham/data   \n",
       "12   https://github.com/justmarkham/DataSciencePython   \n",
       "13  https://github.com/justmarkham/DataScienceSpec...   \n",
       "14  https://github.com/justmarkham/dc-michelin-cha...   \n",
       "15      https://github.com/justmarkham/dplyr-tutorial   \n",
       "16    https://github.com/justmarkham/ExData_Plotting1   \n",
       "17              https://github.com/justmarkham/gadsdc   \n",
       "18     https://github.com/justmarkham/kaggle-allstate   \n",
       "19   https://github.com/justmarkham/kaggle-pycon-2015   \n",
       "20  https://github.com/justmarkham/machine-learnin...   \n",
       "21  https://github.com/justmarkham/Machine-Learnin...   \n",
       "22       https://github.com/justmarkham/pandas-videos   \n",
       "23  https://github.com/justmarkham/PracticalMachin...   \n",
       "24  https://github.com/justmarkham/pycon-2016-tuto...   \n",
       "25  https://github.com/justmarkham/pycon-2018-tuto...   \n",
       "26  https://github.com/justmarkham/pycon-2019-tuto...   \n",
       "27  https://github.com/justmarkham/pydata-dc-2016-...   \n",
       "28  https://github.com/justmarkham/python-data-ana...   \n",
       "29  https://github.com/justmarkham/python-data-sci...   \n",
       "\n",
       "                                          description   fork  \\\n",
       "0   :memo: An awesome Data Science repository to l...   True   \n",
       "1   A curated list of awesome Machine Learning fra...   True   \n",
       "2                            Baby Names by Birth Year  False   \n",
       "3                             PyBites Code Challenges   True   \n",
       "4   Class project for Coursera's \"Getting and Clea...  False   \n",
       "5   A minimalist, responsive, and open-source them...   True   \n",
       "6   General Assembly's Data Science course in Wash...  False   \n",
       "7   General Assembly's Data Science course in Wash...  False   \n",
       "8   General Assembly's Data Science course in Wash...  False   \n",
       "9   General Assembly's Data Science course in Wash...  False   \n",
       "10  General Assembly's 2015 Data Science course in...  False   \n",
       "11    Python related videos and metadata powering =>    True   \n",
       "12  common data analysis and machine learning task...   True   \n",
       "13         http://DataScienceSpecialization.github.io   True   \n",
       "14  Guess the correct restaurants on DC's Michelin...   True   \n",
       "15               Tutorials for the dplyr package in R  False   \n",
       "16  Plotting Assignment 1 for Exploratory Data Ana...   True   \n",
       "17                                           GA DS DC   True   \n",
       "18   Allstate Purchase Prediction Challenge on Kaggle  False   \n",
       "19  Solution code from my winning submission to Ka...  False   \n",
       "20  A complete daily plan for studying to become a...   True   \n",
       "21  machine learning and deep learning tutorials, ...   True   \n",
       "22  Jupyter notebook and datasets from the pandas ...  False   \n",
       "23  Course project for Practical Machine Learning:...  False   \n",
       "24         Machine Learning with Text in scikit-learn  False   \n",
       "25   Using pandas for Better (and Worse) Data Science  False   \n",
       "26            Data Science Best Practices with pandas  False   \n",
       "27  Tutorial: Machine Learning with Text in scikit...  False   \n",
       "28        Workshop: Intro to Python for Data Analysis  False   \n",
       "29                  Workshop: Python for Data Science  False   \n",
       "\n",
       "                                                  url  ... forks_count  \\\n",
       "0   https://api.github.com/repos/justmarkham/aweso...  ...          56   \n",
       "1   https://api.github.com/repos/justmarkham/aweso...  ...          45   \n",
       "2   https://api.github.com/repos/justmarkham/babyn...  ...           5   \n",
       "3   https://api.github.com/repos/justmarkham/chall...  ...           8   \n",
       "4   https://api.github.com/repos/justmarkham/cours...  ...          59   \n",
       "5   https://api.github.com/repos/justmarkham/crisp...  ...           1   \n",
       "6       https://api.github.com/repos/justmarkham/DAT3  ...         353   \n",
       "7       https://api.github.com/repos/justmarkham/DAT4  ...         615   \n",
       "8       https://api.github.com/repos/justmarkham/DAT5  ...         179   \n",
       "9       https://api.github.com/repos/justmarkham/DAT7  ...         189   \n",
       "10      https://api.github.com/repos/justmarkham/DAT8  ...         803   \n",
       "11      https://api.github.com/repos/justmarkham/data  ...           7   \n",
       "12  https://api.github.com/repos/justmarkham/DataS...  ...          46   \n",
       "13  https://api.github.com/repos/justmarkham/DataS...  ...          22   \n",
       "14  https://api.github.com/repos/justmarkham/dc-mi...  ...           5   \n",
       "15  https://api.github.com/repos/justmarkham/dplyr...  ...         214   \n",
       "16  https://api.github.com/repos/justmarkham/ExDat...  ...           0   \n",
       "17    https://api.github.com/repos/justmarkham/gadsdc  ...           8   \n",
       "18  https://api.github.com/repos/justmarkham/kaggl...  ...          85   \n",
       "19  https://api.github.com/repos/justmarkham/kaggl...  ...          42   \n",
       "20  https://api.github.com/repos/justmarkham/machi...  ...          48   \n",
       "21  https://api.github.com/repos/justmarkham/Machi...  ...          40   \n",
       "22  https://api.github.com/repos/justmarkham/panda...  ...         960   \n",
       "23  https://api.github.com/repos/justmarkham/Pract...  ...          20   \n",
       "24  https://api.github.com/repos/justmarkham/pycon...  ...         359   \n",
       "25  https://api.github.com/repos/justmarkham/pycon...  ...         181   \n",
       "26  https://api.github.com/repos/justmarkham/pycon...  ...         130   \n",
       "27  https://api.github.com/repos/justmarkham/pydat...  ...          82   \n",
       "28  https://api.github.com/repos/justmarkham/pytho...  ...          50   \n",
       "29  https://api.github.com/repos/justmarkham/pytho...  ...          50   \n",
       "\n",
       "   mirror_url archived disabled open_issues_count  \\\n",
       "0         NaN    False    False                 0   \n",
       "1         NaN    False    False                 0   \n",
       "2         NaN    False    False                 0   \n",
       "3         NaN    False    False                 0   \n",
       "4         NaN    False    False                 0   \n",
       "5         NaN    False    False                 0   \n",
       "6         NaN    False    False                 0   \n",
       "7         NaN    False    False                 1   \n",
       "8         NaN    False    False                 0   \n",
       "9         NaN    False    False                 0   \n",
       "10        NaN    False    False                 0   \n",
       "11        NaN    False    False                 0   \n",
       "12        NaN    False    False                 0   \n",
       "13        NaN    False    False                 0   \n",
       "14        NaN    False    False                 0   \n",
       "15        NaN    False    False                 0   \n",
       "16        NaN    False    False                 0   \n",
       "17        NaN    False    False                 0   \n",
       "18        NaN    False    False                 0   \n",
       "19        NaN    False    False                 0   \n",
       "20        NaN    False    False                 0   \n",
       "21        NaN    False    False                 0   \n",
       "22        NaN    False    False                 0   \n",
       "23        NaN    False    False                 0   \n",
       "24        NaN    False    False                 0   \n",
       "25        NaN    False    False                 1   \n",
       "26        NaN    False    False                 0   \n",
       "27        NaN    False    False                 0   \n",
       "28        NaN    False    False                 0   \n",
       "29        NaN    False    False                 0   \n",
       "\n",
       "                                              license forks open_issues  \\\n",
       "0   {'key': 'mit', 'name': 'MIT License', 'spdx_id...    56           0   \n",
       "1   {'key': 'other', 'name': 'Other', 'spdx_id': '...    45           0   \n",
       "2                                                None     5           0   \n",
       "3                                                None     8           0   \n",
       "4                                                None    59           0   \n",
       "5                                                None     1           0   \n",
       "6                                                None   353           0   \n",
       "7                                                None   615           1   \n",
       "8                                                None   179           0   \n",
       "9                                                None   189           0   \n",
       "10                                               None   803           0   \n",
       "11  {'key': 'other', 'name': 'Other', 'spdx_id': '...     7           0   \n",
       "12  {'key': 'mit', 'name': 'MIT License', 'spdx_id...    46           0   \n",
       "13                                               None    22           0   \n",
       "14                                               None     5           0   \n",
       "15                                               None   214           0   \n",
       "16                                               None     0           0   \n",
       "17                                               None     8           0   \n",
       "18                                               None    85           0   \n",
       "19                                               None    42           0   \n",
       "20  {'key': 'cc-by-sa-4.0', 'name': 'Creative Comm...    48           0   \n",
       "21  {'key': 'cc0-1.0', 'name': 'Creative Commons Z...    40           0   \n",
       "22                                               None   960           0   \n",
       "23                                               None    20           0   \n",
       "24                                               None   359           0   \n",
       "25                                               None   181           1   \n",
       "26                                               None   130           0   \n",
       "27                                               None    82           0   \n",
       "28                                               None    50           0   \n",
       "29                                               None    50           0   \n",
       "\n",
       "   watchers default_branch  \n",
       "0        29         master  \n",
       "1        18         master  \n",
       "2         3         master  \n",
       "3         2         master  \n",
       "4         6         master  \n",
       "5         3         master  \n",
       "6       563         master  \n",
       "7       713         master  \n",
       "8       155         master  \n",
       "9       218         master  \n",
       "10     1413         master  \n",
       "11        8         master  \n",
       "12       17         master  \n",
       "13        7         master  \n",
       "14        2         master  \n",
       "15      128         master  \n",
       "16        1         master  \n",
       "17        7         master  \n",
       "18       55         master  \n",
       "19       54         master  \n",
       "20       34         master  \n",
       "21       19         master  \n",
       "22      997         master  \n",
       "23        8         master  \n",
       "24      363         master  \n",
       "25      249         master  \n",
       "26      228         master  \n",
       "27       66         master  \n",
       "28       54         master  \n",
       "29       47         master  \n",
       "\n",
       "[30 rows x 73 columns]"
      ]
     },
     "execution_count": 275,
     "metadata": {},
     "output_type": "execute_result"
    }
   ],
   "source": [
    "df19 = pd.read_json('https://api.github.com/users/justmarkham/repos?per+page=100')\n",
    "df19"
   ]
  },
  {
   "cell_type": "code",
   "execution_count": 280,
   "metadata": {},
   "outputs": [
    {
     "data": {
      "text/plain": [
       "Index(['id', 'node_id', 'name', 'full_name', 'private', 'owner', 'html_url',\n",
       "       'description', 'fork', 'url', 'forks_url', 'keys_url',\n",
       "       'collaborators_url', 'teams_url', 'hooks_url', 'issue_events_url',\n",
       "       'events_url', 'assignees_url', 'branches_url', 'tags_url', 'blobs_url',\n",
       "       'git_tags_url', 'git_refs_url', 'trees_url', 'statuses_url',\n",
       "       'languages_url', 'stargazers_url', 'contributors_url',\n",
       "       'subscribers_url', 'subscription_url', 'commits_url', 'git_commits_url',\n",
       "       'comments_url', 'issue_comment_url', 'contents_url', 'compare_url',\n",
       "       'merges_url', 'archive_url', 'downloads_url', 'issues_url', 'pulls_url',\n",
       "       'milestones_url', 'notifications_url', 'labels_url', 'releases_url',\n",
       "       'deployments_url', 'created_at', 'updated_at', 'pushed_at', 'git_url',\n",
       "       'ssh_url', 'clone_url', 'svn_url', 'homepage', 'size',\n",
       "       'stargazers_count', 'watchers_count', 'language', 'has_issues',\n",
       "       'has_projects', 'has_downloads', 'has_wiki', 'has_pages', 'forks_count',\n",
       "       'mirror_url', 'archived', 'disabled', 'open_issues_count', 'license',\n",
       "       'forks', 'open_issues', 'watchers', 'default_branch'],\n",
       "      dtype='object')"
      ]
     },
     "execution_count": 280,
     "metadata": {},
     "output_type": "execute_result"
    }
   ],
   "source": [
    "df19.columns"
   ]
  },
  {
   "cell_type": "code",
   "execution_count": 281,
   "metadata": {},
   "outputs": [
    {
     "data": {
      "text/plain": [
       "(18, 73)"
      ]
     },
     "execution_count": 281,
     "metadata": {},
     "output_type": "execute_result"
    }
   ],
   "source": [
    "df19 =df19[df19['fork'] == False]\n",
    "df19.shape"
   ]
  },
  {
   "cell_type": "code",
   "execution_count": 285,
   "metadata": {},
   "outputs": [
    {
     "data": {
      "text/html": [
       "<div>\n",
       "<style scoped>\n",
       "    .dataframe tbody tr th:only-of-type {\n",
       "        vertical-align: middle;\n",
       "    }\n",
       "\n",
       "    .dataframe tbody tr th {\n",
       "        vertical-align: top;\n",
       "    }\n",
       "\n",
       "    .dataframe thead th {\n",
       "        text-align: right;\n",
       "    }\n",
       "</style>\n",
       "<table border=\"1\" class=\"dataframe\">\n",
       "  <thead>\n",
       "    <tr style=\"text-align: right;\">\n",
       "      <th></th>\n",
       "      <th>name</th>\n",
       "      <th>stargazers_count</th>\n",
       "      <th>forks_count</th>\n",
       "    </tr>\n",
       "  </thead>\n",
       "  <tbody>\n",
       "    <tr>\n",
       "      <td>10</td>\n",
       "      <td>DAT8</td>\n",
       "      <td>1413</td>\n",
       "      <td>803</td>\n",
       "    </tr>\n",
       "    <tr>\n",
       "      <td>22</td>\n",
       "      <td>pandas-videos</td>\n",
       "      <td>997</td>\n",
       "      <td>960</td>\n",
       "    </tr>\n",
       "    <tr>\n",
       "      <td>7</td>\n",
       "      <td>DAT4</td>\n",
       "      <td>713</td>\n",
       "      <td>615</td>\n",
       "    </tr>\n",
       "    <tr>\n",
       "      <td>6</td>\n",
       "      <td>DAT3</td>\n",
       "      <td>563</td>\n",
       "      <td>353</td>\n",
       "    </tr>\n",
       "    <tr>\n",
       "      <td>24</td>\n",
       "      <td>pycon-2016-tutorial</td>\n",
       "      <td>363</td>\n",
       "      <td>359</td>\n",
       "    </tr>\n",
       "    <tr>\n",
       "      <td>25</td>\n",
       "      <td>pycon-2018-tutorial</td>\n",
       "      <td>249</td>\n",
       "      <td>181</td>\n",
       "    </tr>\n",
       "    <tr>\n",
       "      <td>26</td>\n",
       "      <td>pycon-2019-tutorial</td>\n",
       "      <td>228</td>\n",
       "      <td>130</td>\n",
       "    </tr>\n",
       "    <tr>\n",
       "      <td>9</td>\n",
       "      <td>DAT7</td>\n",
       "      <td>218</td>\n",
       "      <td>189</td>\n",
       "    </tr>\n",
       "    <tr>\n",
       "      <td>8</td>\n",
       "      <td>DAT5</td>\n",
       "      <td>155</td>\n",
       "      <td>179</td>\n",
       "    </tr>\n",
       "    <tr>\n",
       "      <td>15</td>\n",
       "      <td>dplyr-tutorial</td>\n",
       "      <td>128</td>\n",
       "      <td>214</td>\n",
       "    </tr>\n",
       "  </tbody>\n",
       "</table>\n",
       "</div>"
      ],
      "text/plain": [
       "                   name  stargazers_count  forks_count\n",
       "10                 DAT8              1413          803\n",
       "22        pandas-videos               997          960\n",
       "7                  DAT4               713          615\n",
       "6                  DAT3               563          353\n",
       "24  pycon-2016-tutorial               363          359\n",
       "25  pycon-2018-tutorial               249          181\n",
       "26  pycon-2019-tutorial               228          130\n",
       "9                  DAT7               218          189\n",
       "8                  DAT5               155          179\n",
       "15       dplyr-tutorial               128          214"
      ]
     },
     "execution_count": 285,
     "metadata": {},
     "output_type": "execute_result"
    }
   ],
   "source": [
    "cols = ['name','stargazers_count','forks_count']\n",
    "df19[cols].sort_values('stargazers_count',ascending=False).head(10)"
   ]
  },
  {
   "cell_type": "markdown",
   "metadata": {},
   "source": [
    "### Need to calculate a running total (or \"cumulative sum\")? Use the cumsum() function! Also works with groupby()"
   ]
  },
  {
   "cell_type": "code",
   "execution_count": 286,
   "metadata": {},
   "outputs": [],
   "source": [
    "df20 = pd.DataFrame({'salesperson':['Alice','Bob','Alice','Bob','Alice','Charlie'],\n",
    "                    'sales':[100,50,120,70,100,30]})"
   ]
  },
  {
   "cell_type": "code",
   "execution_count": 287,
   "metadata": {},
   "outputs": [
    {
     "data": {
      "text/html": [
       "<div>\n",
       "<style scoped>\n",
       "    .dataframe tbody tr th:only-of-type {\n",
       "        vertical-align: middle;\n",
       "    }\n",
       "\n",
       "    .dataframe tbody tr th {\n",
       "        vertical-align: top;\n",
       "    }\n",
       "\n",
       "    .dataframe thead th {\n",
       "        text-align: right;\n",
       "    }\n",
       "</style>\n",
       "<table border=\"1\" class=\"dataframe\">\n",
       "  <thead>\n",
       "    <tr style=\"text-align: right;\">\n",
       "      <th></th>\n",
       "      <th>salesperson</th>\n",
       "      <th>sales</th>\n",
       "    </tr>\n",
       "  </thead>\n",
       "  <tbody>\n",
       "    <tr>\n",
       "      <td>0</td>\n",
       "      <td>Alice</td>\n",
       "      <td>100</td>\n",
       "    </tr>\n",
       "    <tr>\n",
       "      <td>1</td>\n",
       "      <td>Bob</td>\n",
       "      <td>50</td>\n",
       "    </tr>\n",
       "    <tr>\n",
       "      <td>2</td>\n",
       "      <td>Alice</td>\n",
       "      <td>120</td>\n",
       "    </tr>\n",
       "    <tr>\n",
       "      <td>3</td>\n",
       "      <td>Bob</td>\n",
       "      <td>70</td>\n",
       "    </tr>\n",
       "    <tr>\n",
       "      <td>4</td>\n",
       "      <td>Alice</td>\n",
       "      <td>100</td>\n",
       "    </tr>\n",
       "    <tr>\n",
       "      <td>5</td>\n",
       "      <td>Charlie</td>\n",
       "      <td>30</td>\n",
       "    </tr>\n",
       "  </tbody>\n",
       "</table>\n",
       "</div>"
      ],
      "text/plain": [
       "  salesperson  sales\n",
       "0       Alice    100\n",
       "1         Bob     50\n",
       "2       Alice    120\n",
       "3         Bob     70\n",
       "4       Alice    100\n",
       "5     Charlie     30"
      ]
     },
     "execution_count": 287,
     "metadata": {},
     "output_type": "execute_result"
    }
   ],
   "source": [
    "df20"
   ]
  },
  {
   "cell_type": "code",
   "execution_count": 292,
   "metadata": {},
   "outputs": [
    {
     "data": {
      "text/html": [
       "<div>\n",
       "<style scoped>\n",
       "    .dataframe tbody tr th:only-of-type {\n",
       "        vertical-align: middle;\n",
       "    }\n",
       "\n",
       "    .dataframe tbody tr th {\n",
       "        vertical-align: top;\n",
       "    }\n",
       "\n",
       "    .dataframe thead th {\n",
       "        text-align: right;\n",
       "    }\n",
       "</style>\n",
       "<table border=\"1\" class=\"dataframe\">\n",
       "  <thead>\n",
       "    <tr style=\"text-align: right;\">\n",
       "      <th></th>\n",
       "      <th>salesperson</th>\n",
       "      <th>sales</th>\n",
       "      <th>running_total</th>\n",
       "      <th>total_running_by_person</th>\n",
       "    </tr>\n",
       "  </thead>\n",
       "  <tbody>\n",
       "    <tr>\n",
       "      <td>0</td>\n",
       "      <td>Alice</td>\n",
       "      <td>100</td>\n",
       "      <td>100</td>\n",
       "      <td>100</td>\n",
       "    </tr>\n",
       "    <tr>\n",
       "      <td>1</td>\n",
       "      <td>Bob</td>\n",
       "      <td>50</td>\n",
       "      <td>150</td>\n",
       "      <td>50</td>\n",
       "    </tr>\n",
       "    <tr>\n",
       "      <td>2</td>\n",
       "      <td>Alice</td>\n",
       "      <td>120</td>\n",
       "      <td>270</td>\n",
       "      <td>220</td>\n",
       "    </tr>\n",
       "    <tr>\n",
       "      <td>3</td>\n",
       "      <td>Bob</td>\n",
       "      <td>70</td>\n",
       "      <td>340</td>\n",
       "      <td>120</td>\n",
       "    </tr>\n",
       "    <tr>\n",
       "      <td>4</td>\n",
       "      <td>Alice</td>\n",
       "      <td>100</td>\n",
       "      <td>440</td>\n",
       "      <td>320</td>\n",
       "    </tr>\n",
       "    <tr>\n",
       "      <td>5</td>\n",
       "      <td>Charlie</td>\n",
       "      <td>30</td>\n",
       "      <td>470</td>\n",
       "      <td>30</td>\n",
       "    </tr>\n",
       "  </tbody>\n",
       "</table>\n",
       "</div>"
      ],
      "text/plain": [
       "  salesperson  sales  running_total  total_running_by_person\n",
       "0       Alice    100            100                      100\n",
       "1         Bob     50            150                       50\n",
       "2       Alice    120            270                      220\n",
       "3         Bob     70            340                      120\n",
       "4       Alice    100            440                      320\n",
       "5     Charlie     30            470                       30"
      ]
     },
     "execution_count": 292,
     "metadata": {},
     "output_type": "execute_result"
    }
   ],
   "source": [
    "df20['running_total'] = df20['sales'].cumsum()\n",
    "df20['total_running_by_person'] = df20.groupby('salesperson').sales.cumsum()\n",
    "df20"
   ]
  },
  {
   "cell_type": "markdown",
   "metadata": {},
   "source": [
    "### Need to calculate a running count within groups? Do this:\n",
    "df.groupby('col').cumcount() + 1"
   ]
  },
  {
   "cell_type": "code",
   "execution_count": 293,
   "metadata": {},
   "outputs": [
    {
     "data": {
      "text/html": [
       "<div>\n",
       "<style scoped>\n",
       "    .dataframe tbody tr th:only-of-type {\n",
       "        vertical-align: middle;\n",
       "    }\n",
       "\n",
       "    .dataframe tbody tr th {\n",
       "        vertical-align: top;\n",
       "    }\n",
       "\n",
       "    .dataframe thead th {\n",
       "        text-align: right;\n",
       "    }\n",
       "</style>\n",
       "<table border=\"1\" class=\"dataframe\">\n",
       "  <thead>\n",
       "    <tr style=\"text-align: right;\">\n",
       "      <th></th>\n",
       "      <th>salesperson</th>\n",
       "      <th>item</th>\n",
       "    </tr>\n",
       "  </thead>\n",
       "  <tbody>\n",
       "    <tr>\n",
       "      <td>0</td>\n",
       "      <td>Alice</td>\n",
       "      <td>car</td>\n",
       "    </tr>\n",
       "    <tr>\n",
       "      <td>1</td>\n",
       "      <td>Alice</td>\n",
       "      <td>truck</td>\n",
       "    </tr>\n",
       "    <tr>\n",
       "      <td>2</td>\n",
       "      <td>Bob</td>\n",
       "      <td>car</td>\n",
       "    </tr>\n",
       "    <tr>\n",
       "      <td>3</td>\n",
       "      <td>Alice</td>\n",
       "      <td>car</td>\n",
       "    </tr>\n",
       "    <tr>\n",
       "      <td>4</td>\n",
       "      <td>Charlie</td>\n",
       "      <td>car</td>\n",
       "    </tr>\n",
       "    <tr>\n",
       "      <td>5</td>\n",
       "      <td>Bob</td>\n",
       "      <td>car</td>\n",
       "    </tr>\n",
       "    <tr>\n",
       "      <td>6</td>\n",
       "      <td>Charlie</td>\n",
       "      <td>truck</td>\n",
       "    </tr>\n",
       "  </tbody>\n",
       "</table>\n",
       "</div>"
      ],
      "text/plain": [
       "  salesperson   item\n",
       "0       Alice    car\n",
       "1       Alice  truck\n",
       "2         Bob    car\n",
       "3       Alice    car\n",
       "4     Charlie    car\n",
       "5         Bob    car\n",
       "6     Charlie  truck"
      ]
     },
     "execution_count": 293,
     "metadata": {},
     "output_type": "execute_result"
    }
   ],
   "source": [
    "df21 = pd.DataFrame({'salesperson':['Alice','Alice','Bob','Alice','Charlie','Bob','Charlie'],\n",
    "                    'item':['car','truck','car','car','car','car','truck']})\n",
    "\n",
    "df21"
   ]
  },
  {
   "cell_type": "code",
   "execution_count": 294,
   "metadata": {},
   "outputs": [],
   "source": [
    "df21['count_by_person'] = df21.groupby('salesperson').cumcount() + 1\n",
    "df21['count_by_item'] = df21.groupby('item').cumcount() + 1\n",
    "df21['count_by_both'] =df21.groupby(['salesperson','item']).cumcount() + 1"
   ]
  },
  {
   "cell_type": "code",
   "execution_count": 295,
   "metadata": {},
   "outputs": [
    {
     "data": {
      "text/html": [
       "<div>\n",
       "<style scoped>\n",
       "    .dataframe tbody tr th:only-of-type {\n",
       "        vertical-align: middle;\n",
       "    }\n",
       "\n",
       "    .dataframe tbody tr th {\n",
       "        vertical-align: top;\n",
       "    }\n",
       "\n",
       "    .dataframe thead th {\n",
       "        text-align: right;\n",
       "    }\n",
       "</style>\n",
       "<table border=\"1\" class=\"dataframe\">\n",
       "  <thead>\n",
       "    <tr style=\"text-align: right;\">\n",
       "      <th></th>\n",
       "      <th>salesperson</th>\n",
       "      <th>item</th>\n",
       "      <th>count_by_person</th>\n",
       "      <th>count_by_item</th>\n",
       "      <th>count_by_both</th>\n",
       "    </tr>\n",
       "  </thead>\n",
       "  <tbody>\n",
       "    <tr>\n",
       "      <td>0</td>\n",
       "      <td>Alice</td>\n",
       "      <td>car</td>\n",
       "      <td>1</td>\n",
       "      <td>1</td>\n",
       "      <td>1</td>\n",
       "    </tr>\n",
       "    <tr>\n",
       "      <td>1</td>\n",
       "      <td>Alice</td>\n",
       "      <td>truck</td>\n",
       "      <td>2</td>\n",
       "      <td>1</td>\n",
       "      <td>1</td>\n",
       "    </tr>\n",
       "    <tr>\n",
       "      <td>2</td>\n",
       "      <td>Bob</td>\n",
       "      <td>car</td>\n",
       "      <td>1</td>\n",
       "      <td>2</td>\n",
       "      <td>1</td>\n",
       "    </tr>\n",
       "    <tr>\n",
       "      <td>3</td>\n",
       "      <td>Alice</td>\n",
       "      <td>car</td>\n",
       "      <td>3</td>\n",
       "      <td>3</td>\n",
       "      <td>2</td>\n",
       "    </tr>\n",
       "    <tr>\n",
       "      <td>4</td>\n",
       "      <td>Charlie</td>\n",
       "      <td>car</td>\n",
       "      <td>1</td>\n",
       "      <td>4</td>\n",
       "      <td>1</td>\n",
       "    </tr>\n",
       "    <tr>\n",
       "      <td>5</td>\n",
       "      <td>Bob</td>\n",
       "      <td>car</td>\n",
       "      <td>2</td>\n",
       "      <td>5</td>\n",
       "      <td>2</td>\n",
       "    </tr>\n",
       "    <tr>\n",
       "      <td>6</td>\n",
       "      <td>Charlie</td>\n",
       "      <td>truck</td>\n",
       "      <td>2</td>\n",
       "      <td>2</td>\n",
       "      <td>1</td>\n",
       "    </tr>\n",
       "  </tbody>\n",
       "</table>\n",
       "</div>"
      ],
      "text/plain": [
       "  salesperson   item  count_by_person  count_by_item  count_by_both\n",
       "0       Alice    car                1              1              1\n",
       "1       Alice  truck                2              1              1\n",
       "2         Bob    car                1              2              1\n",
       "3       Alice    car                3              3              2\n",
       "4     Charlie    car                1              4              1\n",
       "5         Bob    car                2              5              2\n",
       "6     Charlie  truck                2              2              1"
      ]
     },
     "execution_count": 295,
     "metadata": {},
     "output_type": "execute_result"
    }
   ],
   "source": [
    "df21"
   ]
  },
  {
   "cell_type": "code",
   "execution_count": null,
   "metadata": {},
   "outputs": [],
   "source": []
  }
 ],
 "metadata": {
  "kernelspec": {
   "display_name": "Python 3",
   "language": "python",
   "name": "python3"
  },
  "language_info": {
   "codemirror_mode": {
    "name": "ipython",
    "version": 3
   },
   "file_extension": ".py",
   "mimetype": "text/x-python",
   "name": "python",
   "nbconvert_exporter": "python",
   "pygments_lexer": "ipython3",
   "version": "3.7.4"
  }
 },
 "nbformat": 4,
 "nbformat_minor": 2
}
